{
 "cells": [
  {
   "cell_type": "markdown",
   "source": [
    "# Inversion Recovery Experiments\n",
    "The following code replicates the NMR data analysis in Figs. 4-6 and complements the paper with additional analyses that are not shown in the paper in the interest of brevity."
   ],
   "metadata": {}
  },
  {
   "cell_type": "markdown",
   "source": [
    "For this analysis we need the following packages:"
   ],
   "metadata": {}
  },
  {
   "outputs": [],
   "cell_type": "code",
   "source": [
    "using MRIgeneralizedBloch\n",
    "using DifferentialEquations\n",
    "using LinearAlgebra\n",
    "using LsqFit\n",
    "using Statistics\n",
    "import Pingouin\n",
    "using Printf\n",
    "using Formatting\n",
    "using Plots"
   ],
   "metadata": {},
   "execution_count": null
  },
  {
   "cell_type": "markdown",
   "source": [
    "The raw data is stored in a separate [github repository](https://github.com/JakobAsslaender/MRIgeneralizedBloch_NMRData) and the following functions return the URL to the individual files:"
   ],
   "metadata": {}
  },
  {
   "outputs": [],
   "cell_type": "code",
   "source": [
    "MnCl2_data(TRF_scale) = string(\"https://github.com/JakobAsslaender/MRIgeneralizedBloch_NMRData/blob/main/20210419_1mM_MnCl2/ja_IR_v2%20(\", TRF_scale, \")/1/data.2d?raw=true\")\n",
    "BSA_data(TRF_scale)   = string(\"https://github.com/JakobAsslaender/MRIgeneralizedBloch_NMRData/blob/main/20210416_15%25BSA_2ndBatch/ja_IR_v2%20(\", TRF_scale, \")/1/data.2d?raw=true\");"
   ],
   "metadata": {},
   "execution_count": null
  },
  {
   "cell_type": "markdown",
   "source": [
    "which can be loaded with functions implemented in this file:"
   ],
   "metadata": {}
  },
  {
   "outputs": [],
   "cell_type": "code",
   "source": [
    "include(string(pathof(MRIgeneralizedBloch), \"/../../docs/src/load_NMR_data.jl\"));"
   ],
   "metadata": {},
   "execution_count": null
  },
  {
   "cell_type": "markdown",
   "source": [
    "## MnCl$_2$ Sample\n",
    "### $T_2^{*,f}$ Estimation\n",
    "We estimate $T_2^{*,f}$ by fitting a mono-exponential decay curve to the FID of the acquisition with $T_\\text{RF} = 22.8$μs and $T_\\text{i} = 5$s."
   ],
   "metadata": {}
  },
  {
   "outputs": [],
   "cell_type": "code",
   "source": [
    "M = load_Data(MnCl2_data(1))\n",
    "M = M[:,1]; # select Tᵢ = 5s"
   ],
   "metadata": {},
   "execution_count": null
  },
  {
   "cell_type": "markdown",
   "source": [
    "The data was measured at the following time points in units of seconds:"
   ],
   "metadata": {}
  },
  {
   "outputs": [],
   "cell_type": "code",
   "source": [
    "T_dwell = 100e-6 # s\n",
    "TE = T_dwell * ((1:length(M)) .+ 7) # s"
   ],
   "metadata": {},
   "execution_count": null
  },
  {
   "cell_type": "markdown",
   "source": [
    "Note that the signal is an FID, so the phrase *echo* time is a bit misleading."
   ],
   "metadata": {}
  },
  {
   "cell_type": "markdown",
   "source": [
    "The function [curve_fit](https://julianlsolvers.github.io/LsqFit.jl/latest/api/#LsqFit.curve_fit) from the [LsqFit.jl](https://julianlsolvers.github.io/LsqFit.jl/latest/) package is only implemented for real-valued models. To accommodate this, we need to split the data into its real and imaginary part:"
   ],
   "metadata": {}
  },
  {
   "outputs": [],
   "cell_type": "code",
   "source": [
    "TEreal = [TE;TE]\n",
    "Mreal = [real(M);imag(M)];"
   ],
   "metadata": {},
   "execution_count": null
  },
  {
   "cell_type": "markdown",
   "source": [
    "Here, we are using a simple mono-exponential model with a complex-valued scaling factor `p[1] + 1im p[2]`, the decay time $T_2^{*,f} =$ `p[3]`, and the Larmor frequency `p[4]`:"
   ],
   "metadata": {}
  },
  {
   "outputs": [],
   "cell_type": "code",
   "source": [
    "FID_model(t, p) = @. [p[1] * exp(- t[1:end ÷ 2] / p[3]) * cos(p[4] * t[1:end ÷ 2]); p[2] * exp(- t[end ÷ 2 + 1:end] / p[3]) * sin(p[4] * t[end ÷ 2 + 1:end])];"
   ],
   "metadata": {},
   "execution_count": null
  },
  {
   "cell_type": "markdown",
   "source": [
    "Fitting this model to the NMR data estimates $T_2^{*,f}$:"
   ],
   "metadata": {}
  },
  {
   "outputs": [],
   "cell_type": "code",
   "source": [
    "fit = curve_fit(FID_model, TEreal, Mreal, [1, 1, 0.1, 0])\n",
    "T₂star_MnCl2 = fit.param[3] # s"
   ],
   "metadata": {},
   "execution_count": null
  },
  {
   "cell_type": "markdown",
   "source": [
    "seconds and its uncertainty (also in units of seconds)"
   ],
   "metadata": {}
  },
  {
   "outputs": [],
   "cell_type": "code",
   "source": [
    "stderror(fit)[3] # s"
   ],
   "metadata": {},
   "execution_count": null
  },
  {
   "cell_type": "markdown",
   "source": [
    "Visually, the plot and the data show good agreement:"
   ],
   "metadata": {}
  },
  {
   "outputs": [],
   "cell_type": "code",
   "source": [
    "Mfitted = FID_model(TEreal, fit.param)\n",
    "Mfitted = Mfitted[1:end÷2] + 1im * Mfitted[end÷2+1:end]\n",
    "p = plot(xlabel=\"TE [s]\", ylabel=\"|FID(TE)| [a.u.]\")\n",
    "plot!(p, TE, abs.(M), label=\"data\")\n",
    "plot!(p, TE, abs.(Mfitted), label=@sprintf(\"fit with T₂* = %2.3f ms\", 1e3 * T₂star_MnCl2))"
   ],
   "metadata": {},
   "execution_count": null
  },
  {
   "cell_type": "markdown",
   "source": [
    "The relative residual norm of the fit, i.e. $||\\text{residual}||_2/||M||_2$ is"
   ],
   "metadata": {}
  },
  {
   "outputs": [],
   "cell_type": "code",
   "source": [
    "norm(fit.resid) / norm(M)"
   ],
   "metadata": {},
   "execution_count": null
  },
  {
   "cell_type": "markdown",
   "source": [
    "Despite its small $\\ell_2$-norm, the Shapiro-Wilk test indicates that the residual is not Gaussian or normal distributed at a significance level of `α=0.05`"
   ],
   "metadata": {}
  },
  {
   "outputs": [],
   "cell_type": "code",
   "source": [
    "Pingouin.normality(fit.resid, α=0.05)"
   ],
   "metadata": {},
   "execution_count": null
  },
  {
   "cell_type": "markdown",
   "source": [
    "We note that mono-exponential $T_2^*$ decays assume a Lorentzian distributed magnetic field, which is in general an assumption rather than a well-founded theory."
   ],
   "metadata": {}
  },
  {
   "cell_type": "markdown",
   "source": [
    "### Mono-Exponential IR Model\n",
    "We performed several experiments in which we inverted the thermal equilibrium magnetization with rectangular π-pulses with the following pulse durations (in seconds):"
   ],
   "metadata": {}
  },
  {
   "outputs": [],
   "cell_type": "code",
   "source": [
    "Tʳᶠmin = 22.8e-6 # s - shortest Tʳᶠ possible on the NMR\n",
    "TRF_scale = [1;2;5:5:40] # scaling factor\n",
    "Tʳᶠ = TRF_scale * Tʳᶠmin # s"
   ],
   "metadata": {},
   "execution_count": null
  },
  {
   "cell_type": "markdown",
   "source": [
    "and acquired inversion recovery data at exponentially spaced inversion times (in seconds):"
   ],
   "metadata": {}
  },
  {
   "outputs": [],
   "cell_type": "code",
   "source": [
    "Tᵢ = exp.(range(log(3e-3), log(5), length=20)) # s\n",
    "Tᵢ .+= 12 * Tʳᶠmin + (13 * 15.065 - 5) * 1e-6 # s - correction factors"
   ],
   "metadata": {},
   "execution_count": null
  },
  {
   "cell_type": "markdown",
   "source": [
    "We calculate the Rabi frequencies of the RF pulses and a finer grid of $T_\\text{i}$ to plot the IR model:"
   ],
   "metadata": {}
  },
  {
   "outputs": [],
   "cell_type": "code",
   "source": [
    "ω₁ = π ./ Tʳᶠ # rad/s\n",
    "Tᵢplot = exp.(range(log(Tᵢ[1]), log(Tᵢ[end]), length=500)); # s"
   ],
   "metadata": {},
   "execution_count": null
  },
  {
   "cell_type": "markdown",
   "source": [
    "After loading and normalizing the data"
   ],
   "metadata": {}
  },
  {
   "outputs": [],
   "cell_type": "code",
   "source": [
    "M = zeros(Float64, length(Tᵢ), length(TRF_scale))\n",
    "for i = 1:length(TRF_scale)\n",
    "    M[:,i] = load_first_datapoint(MnCl2_data(TRF_scale[i]))\n",
    "end\n",
    "M ./= maximum(M);"
   ],
   "metadata": {},
   "execution_count": null
  },
  {
   "cell_type": "markdown",
   "source": [
    "we analyze each inversion recovery curve that corresponds to a different $T_\\text{RF}$ separately. This allows us to fit a simple mono-exponential model"
   ],
   "metadata": {}
  },
  {
   "outputs": [],
   "cell_type": "code",
   "source": [
    "standard_IR_model(t, p) = @. p[1] - p[3] * exp(- t * p[2]);"
   ],
   "metadata": {},
   "execution_count": null
  },
  {
   "cell_type": "markdown",
   "source": [
    "where `p[1]` is the thermal equilibrium magnetization, `p[2]` $= T_1$, and `p[1] - p[3]` is the magnetization right after the inversion pulse or, equivalently, `Minv = p[1] / p[3] - 1` is the inversion efficiency, which is 1 for an ideal π-pulse and smaller otherwise. The parameters are initialized with"
   ],
   "metadata": {}
  },
  {
   "outputs": [],
   "cell_type": "code",
   "source": [
    "p0 = [1.0, 1.0, 2.0];"
   ],
   "metadata": {},
   "execution_count": null
  },
  {
   "cell_type": "markdown",
   "source": [
    "and we can loop over $T_\\text{RF}$ to perform the fits:"
   ],
   "metadata": {}
  },
  {
   "outputs": [],
   "cell_type": "code",
   "source": [
    "R₁ = similar(M[1,:])\n",
    "Minv = similar(R₁)\n",
    "residual = similar(R₁)\n",
    "p = plot(xlabel=\"Tᵢ [s]\", ylabel=\"zᶠ(Tʳᶠ, Tᵢ) [a.u.]\")\n",
    "for i = 1:length(TRF_scale)\n",
    "    Mi = @view M[:,i]\n",
    "\n",
    "    fit = curve_fit(standard_IR_model, Tᵢ, Mi, p0)\n",
    "\n",
    "    R₁[i] = fit.param[2]\n",
    "    Minv[i] = fit.param[3] / fit.param[1] - 1\n",
    "\n",
    "    residual[i] = norm(fit.resid) / norm(Mi)\n",
    "\n",
    "    scatter!(p, Tᵢ, Mi, label=@sprintf(\"Tʳᶠ = %1.2es - data\", Tʳᶠ[i]), color=i)\n",
    "    plot!(p, Tᵢplot, standard_IR_model(Tᵢplot, fit.param), label=@sprintf(\"fit with R₁ = %.3f/s; MInv = %.3f\", R₁[i], Minv[i]), color=i)\n",
    "end\n",
    "display(p)"
   ],
   "metadata": {},
   "execution_count": null
  },
  {
   "cell_type": "markdown",
   "source": [
    "Here, the data measured with different $T_\\text{RF}$ are indicated by markers in different colors, and the corresponding fits are the line plots in the same color. The fitted parameters are denoted in the legend. In the paper, we highlight the estimated inversion efficiency and the relaxation rate of the dataset acquired with $T_\\text{RF}=22.8$μs:"
   ],
   "metadata": {}
  },
  {
   "outputs": [],
   "cell_type": "code",
   "source": [
    "Minv[1]"
   ],
   "metadata": {},
   "execution_count": null
  },
  {
   "outputs": [],
   "cell_type": "code",
   "source": [
    "R₁[1] # 1/s"
   ],
   "metadata": {},
   "execution_count": null
  },
  {
   "cell_type": "markdown",
   "source": [
    "and of the dataset acquired with $T_\\text{RF}=912$μs:"
   ],
   "metadata": {}
  },
  {
   "outputs": [],
   "cell_type": "code",
   "source": [
    "Minv[end]"
   ],
   "metadata": {},
   "execution_count": null
  },
  {
   "outputs": [],
   "cell_type": "code",
   "source": [
    "R₁[end] # 1/s"
   ],
   "metadata": {},
   "execution_count": null
  },
  {
   "cell_type": "markdown",
   "source": [
    "The mean value of all R₁ estimates is"
   ],
   "metadata": {}
  },
  {
   "outputs": [],
   "cell_type": "code",
   "source": [
    "mean(R₁) # 1/s"
   ],
   "metadata": {},
   "execution_count": null
  },
  {
   "cell_type": "markdown",
   "source": [
    "1/s and its standard deviation in units of 1/s is"
   ],
   "metadata": {}
  },
  {
   "outputs": [],
   "cell_type": "code",
   "source": [
    "std(R₁) # 1/s"
   ],
   "metadata": {},
   "execution_count": null
  },
  {
   "cell_type": "markdown",
   "source": [
    "The relative residual norm of the fits is on average"
   ],
   "metadata": {}
  },
  {
   "outputs": [],
   "cell_type": "code",
   "source": [
    "mean(residual)"
   ],
   "metadata": {},
   "execution_count": null
  },
  {
   "cell_type": "markdown",
   "source": [
    "### Global IR Fit\n",
    "As an alternative to individual fits to the inversion recovery curves with different $T_\\text{RF}$, we can also perform a global fit that accounts for the $T_2^{*,f}$ decay during the inversion pulse. The model first simulates the $T_2^{*,f}$ decay during the inversion pulse, followed by $T_1$ recovery:"
   ],
   "metadata": {}
  },
  {
   "outputs": [],
   "cell_type": "code",
   "source": [
    "function Bloch_IR_model(p, Tʳᶠ, Tᵢ, T2)\n",
    "    (m0, m0_inv, R₁) = p\n",
    "    R2 = 1 / T2\n",
    "\n",
    "    M = zeros(Float64, length(Tᵢ), length(Tʳᶠ))\n",
    "    for i = 1:length(Tʳᶠ)\n",
    "        # simulate inversion pulse\n",
    "        ω₁ = π / Tʳᶠ[i]\n",
    "        H = [-R2 -ω₁ 0 ;\n",
    "              ω₁ -R₁ R₁;\n",
    "               0   0 0 ]\n",
    "\n",
    "        m_inv = m0_inv * (exp(H * Tʳᶠ[i]) * [0,1,1])[2]\n",
    "\n",
    "        # simulate T1 recovery\n",
    "        H = [-R₁ R₁*m0;\n",
    "               0     0]\n",
    "\n",
    "        for j = 1:length(Tᵢ)\n",
    "            M[j,i] = m0 * (exp(H .* (Tᵢ[j] - Tʳᶠ[i] / 2)) * [m_inv,1])[1]\n",
    "        end\n",
    "    end\n",
    "    return vec(M)\n",
    "end;"
   ],
   "metadata": {},
   "execution_count": null
  },
  {
   "cell_type": "markdown",
   "source": [
    "We use the previously estimated $T_2^{*,f}$ value for the fit:"
   ],
   "metadata": {}
  },
  {
   "outputs": [],
   "cell_type": "code",
   "source": [
    "fit = curve_fit((x, p) -> Bloch_IR_model(p, Tʳᶠ, Tᵢ, T₂star_MnCl2), 1:length(M), vec(M), [ 1, .8, 1])\n",
    "\n",
    "p = plot(xlabel=\"Tᵢ [s]\", ylabel=\"zᶠ(Tʳᶠ, Tᵢ) [a.u.]\")\n",
    "for i=1:length(Tʳᶠ)\n",
    "    scatter!(p, Tᵢ, M[:,i], label=@sprintf(\"Tʳᶠ = %1.2es\", Tʳᶠ[i]), color=i)\n",
    "    plot!(p, Tᵢplot, Bloch_IR_model(fit.param, Tʳᶠ[i], Tᵢplot, T₂star_MnCl2), label=@sprintf(\"Tʳᶠ = %1.2es\", Tʳᶠ[i]), color=i)\n",
    "end\n",
    "display(p)"
   ],
   "metadata": {},
   "execution_count": null
  },
  {
   "cell_type": "markdown",
   "source": [
    "With this global fit, we get a very similar relaxation rate in units of 1/s"
   ],
   "metadata": {}
  },
  {
   "outputs": [],
   "cell_type": "code",
   "source": [
    "R₁_MnCl2 = fit.param[3] # 1/s"
   ],
   "metadata": {},
   "execution_count": null
  },
  {
   "cell_type": "markdown",
   "source": [
    "with an uncertainty (also in units of 1/s) of"
   ],
   "metadata": {}
  },
  {
   "outputs": [],
   "cell_type": "code",
   "source": [
    "stderror(fit)[3] # 1/s"
   ],
   "metadata": {},
   "execution_count": null
  },
  {
   "cell_type": "markdown",
   "source": [
    "Note that the relative residual norm is somewhat increased compared to individual fits to each inversion recovery curve:"
   ],
   "metadata": {}
  },
  {
   "outputs": [],
   "cell_type": "code",
   "source": [
    "norm(fit.resid) / norm(M)"
   ],
   "metadata": {},
   "execution_count": null
  },
  {
   "cell_type": "markdown",
   "source": [
    "## Bovine Serum Albumin Sample\n",
    "### $T_2^{*,f}$ Estimation\n",
    "We repeat the $T_2^{*,f}$ estimation for the bovine serum albumin (BSA) sample by fitting a mono-exponential decay curve to the FID of the acquisition with $T_\\text{RF} = 22.8$μs and $T_\\text{i} = 5$s."
   ],
   "metadata": {}
  },
  {
   "outputs": [],
   "cell_type": "code",
   "source": [
    "M = load_Data(BSA_data(1));\n",
    "M = M[:,1] # select Tᵢ = 5s\n",
    "Mreal = [real(M);imag(M)]\n",
    "\n",
    "fit = curve_fit(FID_model, TEreal, Mreal, [1.0, 1.0, .1, 0.0]);"
   ],
   "metadata": {},
   "execution_count": null
  },
  {
   "cell_type": "markdown",
   "source": [
    "The estimated $T_2^{*,f}$ of the BSA sample is"
   ],
   "metadata": {}
  },
  {
   "outputs": [],
   "cell_type": "code",
   "source": [
    "T₂star_BSA = fit.param[3] # s"
   ],
   "metadata": {},
   "execution_count": null
  },
  {
   "cell_type": "markdown",
   "source": [
    "seconds with an uncertainty of"
   ],
   "metadata": {}
  },
  {
   "outputs": [],
   "cell_type": "code",
   "source": [
    "stderror(fit)[3] # s"
   ],
   "metadata": {},
   "execution_count": null
  },
  {
   "cell_type": "markdown",
   "source": [
    "seconds."
   ],
   "metadata": {}
  },
  {
   "cell_type": "markdown",
   "source": [
    "Visually, the plot and the data align well for the BSA sample, too:"
   ],
   "metadata": {}
  },
  {
   "outputs": [],
   "cell_type": "code",
   "source": [
    "Mfitted = FID_model(TEreal, fit.param)\n",
    "Mfitted = Mfitted[1:end÷2] + 1im * Mfitted[end÷2+1:end]\n",
    "p = plot(xlabel=\"TE [s]\", ylabel=\"|FID(TE)| [a.u.]\")\n",
    "plot!(p, TE, abs.(M), label=\"data\")\n",
    "plot!(p, TE, abs.(Mfitted), label=@sprintf(\"fit with T₂* = %2.3f ms\", 1e3 * T₂star_BSA))"
   ],
   "metadata": {},
   "execution_count": null
  },
  {
   "cell_type": "markdown",
   "source": [
    "The relative residual norm ($||\\text{residual}||_2/||M||_2$) is"
   ],
   "metadata": {}
  },
  {
   "outputs": [],
   "cell_type": "code",
   "source": [
    "norm(fit.resid) / norm(M)"
   ],
   "metadata": {},
   "execution_count": null
  },
  {
   "cell_type": "markdown",
   "source": [
    "Despite the small residual, the Shapiro-Wilk test indicates that the residual is not normal distributed for this sample either:"
   ],
   "metadata": {}
  },
  {
   "outputs": [],
   "cell_type": "code",
   "source": [
    "Pingouin.normality(fit.resid, α=0.05)"
   ],
   "metadata": {},
   "execution_count": null
  },
  {
   "cell_type": "markdown",
   "source": [
    "### Mono-Exponential IR Model\n",
    "We also fit a mono-exponential model to each inversion recovery curve of the BSA data:"
   ],
   "metadata": {}
  },
  {
   "outputs": [],
   "cell_type": "code",
   "source": [
    "M = zeros(Float64, length(Tᵢ), length(TRF_scale))\n",
    "for i = 1:length(TRF_scale)\n",
    "    M[:,i] = load_first_datapoint(BSA_data(TRF_scale[i]))\n",
    "end\n",
    "M ./= maximum(M)\n",
    "\n",
    "\n",
    "p = plot(xlabel=\"Tᵢ [s]\", ylabel=\"zᶠ(Tʳᶠ, Tᵢ) [a.u.]\")\n",
    "for i = 1:length(TRF_scale)\n",
    "    Mi = @view M[:,i]\n",
    "\n",
    "    fit = curve_fit(standard_IR_model, Tᵢ, Mi, p0)\n",
    "\n",
    "    R₁[i] = fit.param[2]\n",
    "    Minv[i] = fit.param[3] / fit.param[1] - 1\n",
    "    residual[i] = norm(fit.resid) / norm(Mi)\n",
    "\n",
    "    scatter!(p, Tᵢ, Mi, label=@sprintf(\"Tʳᶠ = %1.2es - data\", Tʳᶠ[i]), color=i)\n",
    "    plot!(p, Tᵢplot, standard_IR_model(Tᵢplot, fit.param), label=@sprintf(\"fit with R₁ = %.3f/s; MInv = %.3f\", R₁[i], Minv[i]), color=i)\n",
    "end\n",
    "display(p)"
   ],
   "metadata": {},
   "execution_count": null
  },
  {
   "cell_type": "markdown",
   "source": [
    "Zooming into the early phase of the recovery curve reveals the poor fit quality, in particular for long $T_\\text{RF}$. This is also reflected by a substantially larger relative residual norm compared to the MnCl$_2$ sample:"
   ],
   "metadata": {}
  },
  {
   "outputs": [],
   "cell_type": "code",
   "source": [
    "mean(residual)"
   ],
   "metadata": {},
   "execution_count": null
  },
  {
   "cell_type": "markdown",
   "source": [
    "In the paper, we highlight the estimated inversion efficiency and the relaxation rate of the dataset acquired with $T_\\text{RF}=22.8$μs"
   ],
   "metadata": {}
  },
  {
   "outputs": [],
   "cell_type": "code",
   "source": [
    "Minv[1]"
   ],
   "metadata": {},
   "execution_count": null
  },
  {
   "outputs": [],
   "cell_type": "code",
   "source": [
    "R₁[1] # 1/s"
   ],
   "metadata": {},
   "execution_count": null
  },
  {
   "cell_type": "markdown",
   "source": [
    "and of the dataset acquired with $T_\\text{RF}=912$μs"
   ],
   "metadata": {}
  },
  {
   "outputs": [],
   "cell_type": "code",
   "source": [
    "Minv[end]"
   ],
   "metadata": {},
   "execution_count": null
  },
  {
   "outputs": [],
   "cell_type": "code",
   "source": [
    "R₁[end] # 1/s"
   ],
   "metadata": {},
   "execution_count": null
  },
  {
   "cell_type": "markdown",
   "source": [
    "The mean value of all R₁ estimates is"
   ],
   "metadata": {}
  },
  {
   "outputs": [],
   "cell_type": "code",
   "source": [
    "mean(R₁) # 1/s"
   ],
   "metadata": {},
   "execution_count": null
  },
  {
   "cell_type": "markdown",
   "source": [
    "and its standard deviation is substantially larger compared to the same fit of the MnCl$_2$ sample:"
   ],
   "metadata": {}
  },
  {
   "outputs": [],
   "cell_type": "code",
   "source": [
    "std(R₁) # 1/s"
   ],
   "metadata": {},
   "execution_count": null
  },
  {
   "cell_type": "markdown",
   "source": [
    "### Global IR Fit - Generalized Bloch Model\n",
    "In order to repeat the global fit that includes all $T_\\text{RF}$ values, we have to account for the spin dynamics in the semi-solid pool during the RF-pulse. First, we do this with the proposed generalized Bloch model:"
   ],
   "metadata": {}
  },
  {
   "outputs": [],
   "cell_type": "code",
   "source": [
    "function gBloch_IR_model(p, G, Tʳᶠ, TI, R2f)\n",
    "    (m0, m0f_inv, m0s, R₁, T₂ˢ, Rx) = p\n",
    "    m0f = 1 - m0s\n",
    "    ω₁ = π ./ Tʳᶠ\n",
    "\n",
    "    m0vec = [0, 0, m0f, m0s, 1]\n",
    "    m_fun(p, t; idxs=nothing) = typeof(idxs) <: Number ? 0.0 : zeros(5)\n",
    "\n",
    "\n",
    "    H = [-R₁-m0s*Rx     m0f*Rx R₁*m0f;\n",
    "             m0s*Rx -R₁-m0f*Rx R₁*m0s;\n",
    "              0          0         0 ]\n",
    "\n",
    "    M = zeros(Float64, length(TI), length(Tʳᶠ))\n",
    "    for i = 1:length(Tʳᶠ)\n",
    "        param = (ω₁[i], 1, 0, m0s, R₁, R2f, T₂ˢ, Rx, G)\n",
    "        prob = DDEProblem(apply_hamiltonian_gbloch!, m0vec, m_fun, (0.0, Tʳᶠ[i]), param)\n",
    "        m = solve(prob)[end]\n",
    "\n",
    "        for j = 1:length(TI)\n",
    "            M[j,i] = m0 * (exp(H .* (TI[j] - Tʳᶠ[i] / 2)) * [m0f_inv * m[3],m[4],1])[1]\n",
    "        end\n",
    "    end\n",
    "    return vec(M)\n",
    "end;"
   ],
   "metadata": {},
   "execution_count": null
  },
  {
   "cell_type": "markdown",
   "source": [
    "Here, we use assume a super-Lorentzian lineshape, whose Green's function is interpolated to speed up the fitting routine:"
   ],
   "metadata": {}
  },
  {
   "outputs": [],
   "cell_type": "code",
   "source": [
    "T₂ˢ_min = 5e-6 # s\n",
    "G_superLorentzian = interpolate_greens_function(greens_superlorentzian, 0, maximum(Tʳᶠ)/T₂ˢ_min);"
   ],
   "metadata": {},
   "execution_count": null
  },
  {
   "cell_type": "markdown",
   "source": [
    "The fit is initialized with `p0 = [m0, m0f_inv, m0_s, R₁, T2_s, Rx]` and we set some reasonable bounds to the fitted parameters:"
   ],
   "metadata": {}
  },
  {
   "outputs": [],
   "cell_type": "code",
   "source": [
    "p0   = [  1, 0.932,  0.1,   1, 10e-6, 50]\n",
    "pmin = [  0, 0.100,   .0, 0.3,  1e-9, 10]\n",
    "pmax = [Inf,   Inf,  1.0, Inf, 20e-6,1e3]\n",
    "\n",
    "fit_gBloch = curve_fit((x, p) -> gBloch_IR_model(p, G_superLorentzian, Tʳᶠ, Tᵢ, 1/T₂star_BSA), [], vec(M), p0, lower=pmin, upper=pmax);"
   ],
   "metadata": {},
   "execution_count": null
  },
  {
   "cell_type": "markdown",
   "source": [
    "Visually, the plot and the data align well:"
   ],
   "metadata": {}
  },
  {
   "outputs": [],
   "cell_type": "code",
   "source": [
    "p = plot(xlabel=\"Tᵢ [s]\", ylabel=\"zᶠ(Tʳᶠ, Tᵢ) [a.u.]\")\n",
    "for i=1:length(Tʳᶠ)\n",
    "    scatter!(p, Tᵢ, M[:,i], label=@sprintf(\"Tʳᶠ = %1.2es\", Tʳᶠ[i]), color=i)\n",
    "    plot!(p, Tᵢplot, gBloch_IR_model(fit_gBloch.param, G_superLorentzian, Tʳᶠ[i], Tᵢplot, 1/T₂star_BSA), label=@sprintf(\"Tʳᶠ = %1.2es\", Tʳᶠ[i]), color=i)\n",
    "end\n",
    "display(p)"
   ],
   "metadata": {},
   "execution_count": null
  },
  {
   "cell_type": "markdown",
   "source": [
    "which becomes particularly apparent when zooming into the beginning of the inversion recovery curves. Further, the relative residual norm is much smaller compared to the mono-exponential fit:"
   ],
   "metadata": {}
  },
  {
   "outputs": [],
   "cell_type": "code",
   "source": [
    "norm(fit_gBloch.resid) / norm(M)"
   ],
   "metadata": {},
   "execution_count": null
  },
  {
   "cell_type": "markdown",
   "source": [
    "The estimated parameters are"
   ],
   "metadata": {}
  },
  {
   "outputs": [],
   "cell_type": "code",
   "source": [
    "m0 = fit_gBloch.param[1]"
   ],
   "metadata": {},
   "execution_count": null
  },
  {
   "outputs": [],
   "cell_type": "code",
   "source": [
    "Minv = fit_gBloch.param[2]"
   ],
   "metadata": {},
   "execution_count": null
  },
  {
   "outputs": [],
   "cell_type": "code",
   "source": [
    "m0s = fit_gBloch.param[3]"
   ],
   "metadata": {},
   "execution_count": null
  },
  {
   "outputs": [],
   "cell_type": "code",
   "source": [
    "R₁ = fit_gBloch.param[4] # 1/s"
   ],
   "metadata": {},
   "execution_count": null
  },
  {
   "outputs": [],
   "cell_type": "code",
   "source": [
    "T₂ˢ = 1e6fit_gBloch.param[5] # μs"
   ],
   "metadata": {},
   "execution_count": null
  },
  {
   "outputs": [],
   "cell_type": "code",
   "source": [
    "Rx = fit_gBloch.param[6] # 1/s"
   ],
   "metadata": {},
   "execution_count": null
  },
  {
   "cell_type": "markdown",
   "source": [
    "with the uncertainties (in the same order)"
   ],
   "metadata": {}
  },
  {
   "outputs": [],
   "cell_type": "code",
   "source": [
    "stderror(fit_gBloch)"
   ],
   "metadata": {},
   "execution_count": null
  },
  {
   "cell_type": "markdown",
   "source": [
    "### Global IR Fit - Graham's Spectral Model\n",
    "For comparison, we repeat the same fit with [Graham's spectral model](http://dx.doi.org/10.1002/jmri.1880070520):"
   ],
   "metadata": {}
  },
  {
   "outputs": [],
   "cell_type": "code",
   "source": [
    "function Graham_IR_model(p, Tʳᶠ, TI, R2f)\n",
    "    (m0, m0f_inv, m0s, R₁, T₂ˢ, Rx) = p\n",
    "    m0f = 1 - m0s\n",
    "    ω₁ = π ./ Tʳᶠ\n",
    "\n",
    "    m0vec = [0, 0, m0f, m0s, 1]\n",
    "\n",
    "    H = [-R₁-m0s*Rx     m0f*Rx R₁*m0f;\n",
    "             m0s*Rx -R₁-m0f*Rx R₁*m0s;\n",
    "              0          0         0 ]\n",
    "\n",
    "    M = zeros(Float64, length(TI), length(Tʳᶠ))\n",
    "    for i = 1:length(Tʳᶠ)\n",
    "        param = (ω₁[i], 1, 0, Tʳᶠ[i], m0s, R₁, R2f, T₂ˢ, Rx)\n",
    "        prob = ODEProblem(apply_hamiltonian_graham_superlorentzian!, m0vec, (0.0, Tʳᶠ[i]), param)\n",
    "        m = solve(prob)[end]\n",
    "\n",
    "        for j = 1:length(TI)\n",
    "            M[j,i] = m0 * (exp(H .* (TI[j] - Tʳᶠ[i] / 2)) * [m0f_inv * m[3],m[4],1])[1]\n",
    "        end\n",
    "    end\n",
    "    return vec(M)\n",
    "end\n",
    "\n",
    "fit_Graham = curve_fit((x, p) -> Graham_IR_model(p, Tʳᶠ, Tᵢ, 1/T₂star_BSA), [], vec(M), p0, lower=pmin, upper=pmax);"
   ],
   "metadata": {},
   "execution_count": null
  },
  {
   "cell_type": "markdown",
   "source": [
    "Visually, the plot and the data align substantially worse:"
   ],
   "metadata": {}
  },
  {
   "outputs": [],
   "cell_type": "code",
   "source": [
    "p = plot(xlabel=\"Tᵢ [s]\", ylabel=\"zᶠ(Tʳᶠ, Tᵢ) [a.u.]\")\n",
    "for i=1:length(Tʳᶠ)\n",
    "    scatter!(p, Tᵢ, M[:,i], label=@sprintf(\"Tʳᶠ = %1.2es\", Tʳᶠ[i]), color=i)\n",
    "    plot!(p, Tᵢplot, Graham_IR_model(fit_Graham.param, Tʳᶠ[i], Tᵢplot, 1/T₂star_BSA), label=@sprintf(\"Tʳᶠ = %1.2es\", Tʳᶠ[i]), color=i)\n",
    "end\n",
    "display(p)"
   ],
   "metadata": {},
   "execution_count": null
  },
  {
   "cell_type": "markdown",
   "source": [
    "which becomes particularly apparent when zooming into the beginning of the inversion recovery curves. Further, the relative residual norm is much larger compared to the generalized Bloch fit:"
   ],
   "metadata": {}
  },
  {
   "outputs": [],
   "cell_type": "code",
   "source": [
    "norm(fit_Graham.resid) / norm(M)"
   ],
   "metadata": {},
   "execution_count": null
  },
  {
   "cell_type": "markdown",
   "source": [
    "The estimated parameters are"
   ],
   "metadata": {}
  },
  {
   "outputs": [],
   "cell_type": "code",
   "source": [
    "m0 = fit_Graham.param[1]"
   ],
   "metadata": {},
   "execution_count": null
  },
  {
   "outputs": [],
   "cell_type": "code",
   "source": [
    "Minv = fit_Graham.param[2]"
   ],
   "metadata": {},
   "execution_count": null
  },
  {
   "outputs": [],
   "cell_type": "code",
   "source": [
    "m0s = fit_Graham.param[3]"
   ],
   "metadata": {},
   "execution_count": null
  },
  {
   "outputs": [],
   "cell_type": "code",
   "source": [
    "R₁ = fit_Graham.param[4] # 1/s"
   ],
   "metadata": {},
   "execution_count": null
  },
  {
   "outputs": [],
   "cell_type": "code",
   "source": [
    "T₂ˢ = 1e6fit_Graham.param[5] # μs"
   ],
   "metadata": {},
   "execution_count": null
  },
  {
   "outputs": [],
   "cell_type": "code",
   "source": [
    "Rx = fit_Graham.param[6] # 1/s"
   ],
   "metadata": {},
   "execution_count": null
  },
  {
   "cell_type": "markdown",
   "source": [
    "with the uncertainties (in the same order)"
   ],
   "metadata": {}
  },
  {
   "outputs": [],
   "cell_type": "code",
   "source": [
    "stderror(fit_Graham)"
   ],
   "metadata": {},
   "execution_count": null
  },
  {
   "cell_type": "markdown",
   "source": [
    "### Global IR Fit - Sled's Model\n",
    "We also performed the fit with [Sled's model](http://dx.doi.org/10.1006/jmre.2000.2059):"
   ],
   "metadata": {}
  },
  {
   "outputs": [],
   "cell_type": "code",
   "source": [
    "function Sled_IR_model(p, G, Tʳᶠ, TI, R2f)\n",
    "    (m0, m0f_inv, m0s, R₁, T₂ˢ, Rx) = p\n",
    "    m0f = 1 - m0s\n",
    "    ω₁ = π ./ Tʳᶠ\n",
    "\n",
    "    m0vec = [0, 0, m0f, m0s, 1]\n",
    "\n",
    "    H = [-R₁-m0s*Rx     m0f*Rx R₁*m0f;\n",
    "             m0s*Rx -R₁-m0f*Rx R₁*m0s;\n",
    "              0          0         0 ]\n",
    "\n",
    "    M = zeros(Float64, length(TI), length(Tʳᶠ))\n",
    "    for i = 1:length(Tʳᶠ)\n",
    "        param = (ω₁[i], 1, 0, m0s, R₁, R2f, T₂ˢ, Rx, G)\n",
    "        prob = ODEProblem(apply_hamiltonian_sled!, m0vec, (0.0, Tʳᶠ[i]), param)\n",
    "        m = solve(prob)[end]\n",
    "\n",
    "        for j = 1:length(TI)\n",
    "            M[j,i] = m0 * (exp(H .* (TI[j] - Tʳᶠ[i] / 2)) * [m0f_inv * m[3],m[4],1])[1]\n",
    "        end\n",
    "    end\n",
    "    return vec(M)\n",
    "end\n",
    "\n",
    "fit_Sled = curve_fit((x, p) -> Sled_IR_model(p, G_superLorentzian, Tʳᶠ, Tᵢ, 1/T₂star_BSA), [], vec(M), p0, lower=pmin, upper=pmax);"
   ],
   "metadata": {},
   "execution_count": null
  },
  {
   "cell_type": "markdown",
   "source": [
    "Visually, the plot and the data do not align well either:"
   ],
   "metadata": {}
  },
  {
   "outputs": [],
   "cell_type": "code",
   "source": [
    "p = plot(xlabel=\"Tᵢ [s]\", ylabel=\"zᶠ(Tʳᶠ, Tᵢ) [a.u.]\")\n",
    "for i=1:length(Tʳᶠ)\n",
    "    scatter!(p, Tᵢ, M[:,i], label=@sprintf(\"Tʳᶠ = %1.2es\", Tʳᶠ[i]), color=i)\n",
    "    plot!(p, Tᵢplot, Sled_IR_model(fit_Sled.param, G_superLorentzian, Tʳᶠ[i], Tᵢplot, 1/T₂star_BSA), label=@sprintf(\"Tʳᶠ = %1.2es\", Tʳᶠ[i]), color=i)\n",
    "end\n",
    "display(p)"
   ],
   "metadata": {},
   "execution_count": null
  },
  {
   "cell_type": "markdown",
   "source": [
    "which becomes particularly apparent when zooming into the beginning of the inversion recovery curves. Further, the relative residual norm is also large compared to the generalized Bloch fit:"
   ],
   "metadata": {}
  },
  {
   "outputs": [],
   "cell_type": "code",
   "source": [
    "norm(fit_Sled.resid) / norm(M)"
   ],
   "metadata": {},
   "execution_count": null
  },
  {
   "cell_type": "markdown",
   "source": [
    "The estimated parameters are"
   ],
   "metadata": {}
  },
  {
   "outputs": [],
   "cell_type": "code",
   "source": [
    "m0 = fit_Sled.param[1]"
   ],
   "metadata": {},
   "execution_count": null
  },
  {
   "outputs": [],
   "cell_type": "code",
   "source": [
    "Minv = fit_Sled.param[2]"
   ],
   "metadata": {},
   "execution_count": null
  },
  {
   "outputs": [],
   "cell_type": "code",
   "source": [
    "m0s = fit_Sled.param[3]"
   ],
   "metadata": {},
   "execution_count": null
  },
  {
   "outputs": [],
   "cell_type": "code",
   "source": [
    "R₁ = fit_Sled.param[4] # 1/s"
   ],
   "metadata": {},
   "execution_count": null
  },
  {
   "outputs": [],
   "cell_type": "code",
   "source": [
    "T₂ˢ = 1e6fit_Sled.param[5] # μs"
   ],
   "metadata": {},
   "execution_count": null
  },
  {
   "outputs": [],
   "cell_type": "code",
   "source": [
    "Rx = fit_Sled.param[6] # 1/s"
   ],
   "metadata": {},
   "execution_count": null
  },
  {
   "cell_type": "markdown",
   "source": [
    "with the uncertainties (in the same order)"
   ],
   "metadata": {}
  },
  {
   "outputs": [],
   "cell_type": "code",
   "source": [
    "stderror(fit_Sled)"
   ],
   "metadata": {},
   "execution_count": null
  },
  {
   "cell_type": "markdown",
   "source": [
    "### Analysis of the Residuals\n",
    "In order to visualize how well the three models align with the data at different $T_\\text{RF}$, we calculate the $\\ell_2$-norm of the residuals after subtracting the modeled from the measured signal and normalize it by the $\\ell_2$-norm of the signal."
   ],
   "metadata": {}
  },
  {
   "outputs": [],
   "cell_type": "code",
   "source": [
    "resid_gBlo = similar(Tʳᶠ)\n",
    "resid_Sled = similar(Tʳᶠ)\n",
    "resid_Grah = similar(Tʳᶠ)\n",
    "for i=1:length(Tʳᶠ)\n",
    "    resid_gBlo[i] = norm(gBloch_IR_model(fit_gBloch.param, G_superLorentzian, Tʳᶠ[i], Tᵢ, 1/T₂star_BSA) .- M[:,i]) / norm(M[:,i])\n",
    "    resid_Grah[i] = norm(Graham_IR_model(fit_gBloch.param, Tʳᶠ[i], Tᵢ, 1/T₂star_BSA)                    .- M[:,i]) / norm(M[:,i])\n",
    "    resid_Sled[i] = norm(Sled_IR_model(  fit_gBloch.param, G_superLorentzian, Tʳᶠ[i], Tᵢ, 1/T₂star_BSA) .- M[:,i]) / norm(M[:,i])\n",
    "end\n",
    "\n",
    "p = plot(xlabel=\"Tʳᶠ [s]\", ylabel=\"relative residual\")\n",
    "scatter!(p, Tʳᶠ, resid_gBlo, label=\"generalized Bloch model\")\n",
    "scatter!(p, Tʳᶠ, resid_Grah, label=\"Graham's spectral model\")\n",
    "scatter!(p, Tʳᶠ, resid_Sled, label=\"Sled's model\")"
   ],
   "metadata": {},
   "execution_count": null
  },
  {
   "cell_type": "markdown",
   "source": [
    "Here, we use the biophysical parameters from the generalized Bloch fit as we consider them to be the best estimates. This approach has the advantage that residuals at long $T_\\text{RF}$ are unaffected by the poor fits of Graham's and Sled's models at short $T_\\text{RF}$. To confirm that the residuals from the actual fits are worse, simply replace `Graham_IR_model(fit_gBloch.param, ...)` by `Graham_IR_model(fit_Graham.param, ...)` and `Sled_IR_model(fit_gBloch.param, ...)` by `Sled_IR_model(fit_Sled.param, ...)` in the notebook version of this documentation."
   ],
   "metadata": {}
  },
  {
   "cell_type": "markdown",
   "source": [
    "---\n",
    "\n",
    "*This notebook was generated using [Literate.jl](https://github.com/fredrikekre/Literate.jl).*"
   ],
   "metadata": {}
  }
 ],
 "nbformat_minor": 3,
 "metadata": {
  "language_info": {
   "file_extension": ".jl",
   "mimetype": "application/julia",
   "name": "julia",
   "version": "1.6.2"
  },
  "kernelspec": {
   "name": "julia-1.6",
   "display_name": "Julia 1.6.2",
   "language": "julia"
  }
 },
 "nbformat": 4
}
