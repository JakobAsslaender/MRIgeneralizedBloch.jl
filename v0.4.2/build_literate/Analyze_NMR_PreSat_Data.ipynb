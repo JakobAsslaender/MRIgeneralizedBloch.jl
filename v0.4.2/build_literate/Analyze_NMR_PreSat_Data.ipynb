{
 "cells": [
  {
   "cell_type": "markdown",
   "source": [
    "# Continuous Wave Saturation Experiments\n",
    "The following code analyzes data from a steady-state experiment similar to the original work of [Henkelman et al](https://doi.org/10.1002/mrm.1910290607). In this experiment, the magnetization of the coupled spin system is saturated with off-resonant continuous waves of the exponentially spaced frequencies:"
   ],
   "metadata": {}
  },
  {
   "outputs": [],
   "cell_type": "code",
   "source": [
    "Δ = exp.(range(log(0.01e3), log(100e3), length=20)) * 2π # rad/s"
   ],
   "metadata": {},
   "execution_count": null
  },
  {
   "cell_type": "markdown",
   "source": [
    "and the amplitudes:"
   ],
   "metadata": {}
  },
  {
   "outputs": [],
   "cell_type": "code",
   "source": [
    "ω1_dB = -60:5:-5 # dB\n",
    "ω1 = @. 10^(ω1_dB / 20) * π / 2 / 11.4e-6 # rad/s"
   ],
   "metadata": {},
   "execution_count": null
  },
  {
   "cell_type": "markdown",
   "source": [
    "The waves were applied for 7 seconds to ensure a steady state. Thereafter, the magnetization was excited with a π/2-pulse and an FID was acquired. The repetition times was 30s to ensure full recovery to thermal equilibrium."
   ],
   "metadata": {}
  },
  {
   "cell_type": "markdown",
   "source": [
    "We fit the data with Henkelman's closed form solution to this steady-state problem while assuming a Lorentzian lineshape for the free spin pool, and different lineshapes for the semi-solid spin pool:"
   ],
   "metadata": {}
  },
  {
   "outputs": [],
   "cell_type": "code",
   "source": [
    "g_Lorentzian(Δ, T2) = T2 / π / (1 + (T2 * Δ)^2)\n",
    "g_Gaussian(Δ, T2) = T2 / sqrt(2π) * exp(-(T2 * Δ)^2 / 2)\n",
    "g_superLorentzian(Δ, T2) = T2 * sqrt(2 / π) * quadgk(ct -> exp(- 2 *  (T2 * Δ / (3 * ct^2 - 1))^2) / abs(3 * ct^2 - 1), 0, sqrt(1 / 3), 1)[1];"
   ],
   "metadata": {},
   "execution_count": null
  },
  {
   "cell_type": "markdown",
   "source": [
    "For this data analysis we need the following packages:"
   ],
   "metadata": {}
  },
  {
   "outputs": [],
   "cell_type": "code",
   "source": [
    "using MRIgeneralizedBloch\n",
    "using QuadGK\n",
    "using LsqFit\n",
    "using LinearAlgebra\n",
    "using Statistics\n",
    "using Printf\n",
    "using Plots"
   ],
   "metadata": {},
   "execution_count": null
  },
  {
   "cell_type": "markdown",
   "source": [
    "The raw data is stored in a separate [github repository](https://github.com/JakobAsslaender/MRIgeneralizedBloch_NMRData) and the following functions return the URL to the individual files:"
   ],
   "metadata": {}
  },
  {
   "outputs": [],
   "cell_type": "code",
   "source": [
    "MnCl2_data(ω1_dB) = string(\"https://github.com/JakobAsslaender/MRIgeneralizedBloch_NMRData/blob/main/20210419_1mM_MnCl2/ja_PreSat_v2%20(\", ω1_dB, \")/1/data.2d?raw=true\")\n",
    "BSA_data(ω1_dB)   = string(\"https://github.com/JakobAsslaender/MRIgeneralizedBloch_NMRData/blob/main/20210416_15%25BSA_2ndBatch/ja_PreSat_v2%20(\", ω1_dB, \")/1/data.2d?raw=true\");"
   ],
   "metadata": {},
   "execution_count": null
  },
  {
   "cell_type": "markdown",
   "source": [
    "which can be loaded with functions implemented in this file:"
   ],
   "metadata": {}
  },
  {
   "outputs": [],
   "cell_type": "code",
   "source": [
    "include(string(pathof(MRIgeneralizedBloch), \"/../../docs/src/load_NMR_data.jl\"));"
   ],
   "metadata": {},
   "execution_count": null
  },
  {
   "cell_type": "markdown",
   "source": [
    "We store the off-resonance frequencies and wave amplitudes in a single matrix for convenience:"
   ],
   "metadata": {}
  },
  {
   "outputs": [],
   "cell_type": "code",
   "source": [
    "x = zeros(Float64, length(ω1) * length(Δ), 2)\n",
    "x[:,1] = repeat(Δ, length(ω1))\n",
    "x[:,2] = vec(repeat(ω1, 1, length(Δ))');"
   ],
   "metadata": {},
   "execution_count": null
  },
  {
   "cell_type": "markdown",
   "source": [
    "## MnCl$_2$ Sample\n",
    "We load the first data point of each FID:"
   ],
   "metadata": {}
  },
  {
   "outputs": [],
   "cell_type": "code",
   "source": [
    "M = zeros(Float64, length(Δ), length(ω1))\n",
    "for i = 1:length(ω1_dB)\n",
    "    M[:,i] = load_first_datapoint(MnCl2_data(ω1_dB[i]); set_phase=:abs)\n",
    "end\n",
    "M ./= maximum(M);"
   ],
   "metadata": {},
   "execution_count": null
  },
  {
   "cell_type": "markdown",
   "source": [
    "In contrast to the inversion-recovery experiment, the phase of the signal was not stable. Therefore, we took the absolute value of the signal by setting the flag `set_phase=:abs`."
   ],
   "metadata": {}
  },
  {
   "cell_type": "markdown",
   "source": [
    "The MnCl$_2$-data can be described with a single compartment model:"
   ],
   "metadata": {}
  },
  {
   "outputs": [],
   "cell_type": "code",
   "source": [
    "function single_compartment_model(x, p)\n",
    "    (m0, R1, T2) = p\n",
    "\n",
    "    Δ  = @view x[:,1]\n",
    "    ω1 = @view x[:,2]\n",
    "\n",
    "    Rrf = @. π * ω1^2 * g_Lorentzian(Δ, T2)\n",
    "    m = @. m0 * R1 / (R1 + Rrf)\n",
    "    return m\n",
    "end;"
   ],
   "metadata": {},
   "execution_count": null
  },
  {
   "cell_type": "markdown",
   "source": [
    "(cf. Eqs. (14) and (15) in the [paper](https://arxiv.org/pdf/2107.11000.pdf))."
   ],
   "metadata": {}
  },
  {
   "cell_type": "markdown",
   "source": [
    "As this model is merely a function of the relaxation times T₁ and T₂, we forgo a fitting routine and use the estimates from the Inversion Recovery Experiments instead:"
   ],
   "metadata": {}
  },
  {
   "outputs": [],
   "cell_type": "code",
   "source": [
    "R1 = 1.479 # 1/s\n",
    "T2 = 0.075 # s"
   ],
   "metadata": {},
   "execution_count": null
  },
  {
   "cell_type": "markdown",
   "source": [
    "Visually, this model describes the data well:"
   ],
   "metadata": {}
  },
  {
   "outputs": [],
   "cell_type": "code",
   "source": [
    "p = plot(xlabel=\"Δ [rad/s]\", ylabel=\"M / max(M)\", xaxis=:log, legend=:none)\n",
    "[scatter!(p, Δ, M[:,i], color=i) for i=1:length(ω1)]\n",
    "[plot!(p, Δ, reshape(single_compartment_model(x, [1,R1,T2]), length(Δ), length(ω1))[:,i], color=i) for i=1:length(ω1)]\n",
    "display(p)"
   ],
   "metadata": {},
   "execution_count": null
  },
  {
   "cell_type": "markdown",
   "source": [
    "## Bovine Serum Albumin Sample\n",
    "We acquired the same data for the BSA sample, which we load:"
   ],
   "metadata": {}
  },
  {
   "outputs": [],
   "cell_type": "code",
   "source": [
    "for i = 1:length(ω1_dB)\n",
    "    M[:,i] = load_first_datapoint(BSA_data(ω1_dB[i]); set_phase=:abs)\n",
    "end\n",
    "M ./= maximum(M);"
   ],
   "metadata": {},
   "execution_count": null
  },
  {
   "cell_type": "markdown",
   "source": [
    "We model the steady-state magnetization as described by [Henkelman et al.](https://doi.org/10.1002/mrm.1910290607):"
   ],
   "metadata": {}
  },
  {
   "outputs": [],
   "cell_type": "code",
   "source": [
    "function Henkelman_model(x, p; lineshape=:superLorentzian)\n",
    "    (m0, m0s, R1f, R1s, T2f, T2s, Rx) = p\n",
    "\n",
    "    m0s /= 1 - m0s # switch from m0s + m0f = 1 to m0f = 1 normalization\n",
    "\n",
    "    Δ  = @view x[:,1]\n",
    "    ω1 = @view x[:,2]\n",
    "\n",
    "    Rrf_f = @. π * ω1^2 * g_Lorentzian(Δ, T2f)\n",
    "\n",
    "    if lineshape == :Lorentzian\n",
    "        Rrf_s = @. π * ω1^2 * g_Lorentzian(Δ, T2s)\n",
    "    elseif lineshape == :Gaussian\n",
    "        Rrf_s = @. π * ω1^2 * g_Gaussian(Δ, T2s)\n",
    "    elseif lineshape == :superLorentzian\n",
    "        Rrf_s = @. π * ω1^2 * g_superLorentzian(Δ, T2s)\n",
    "    end\n",
    "\n",
    "    m = @. m0 * (R1s * Rx * m0s + Rrf_s * R1f + R1f * R1s + R1f * Rx) / ((R1f + Rrf_f + Rx * m0s) * (R1s + Rrf_s + Rx) - Rx^2 * m0s)\n",
    "    return m\n",
    "end;"
   ],
   "metadata": {},
   "execution_count": null
  },
  {
   "cell_type": "markdown",
   "source": [
    "Here, we use a fitting routine to demonstrate the best possible fit with each of the three lineshapes. We define an initialization for the fitting routine `p0 = [m0, m0s, R1f, R1s, T2f, T2s, Rx]` and set some reasonable bounds:"
   ],
   "metadata": {}
  },
  {
   "outputs": [],
   "cell_type": "code",
   "source": [
    "p0   = [  1,0.01,   1,   5,0.052,  1e-5, 40]\n",
    "pmin = [  0,   0,   0,   0,0.052,  1e-6,  1]\n",
    "pmax = [Inf,   1, Inf, Inf,0.052, 10e-3,100];"
   ],
   "metadata": {},
   "execution_count": null
  },
  {
   "cell_type": "markdown",
   "source": [
    "Note that we fixed T₂ᶠ = 52ms to the value estimated with the Inversion Recovery Experiments as T₂ᶠ is poorly defined by this saturation experiment."
   ],
   "metadata": {}
  },
  {
   "cell_type": "markdown",
   "source": [
    "### Super-Lorentzian Lineshape\n",
    "Fitting the model with a super-Lorentzian lineshape to the data achieves good concordance:"
   ],
   "metadata": {}
  },
  {
   "outputs": [],
   "cell_type": "code",
   "source": [
    "fit = curve_fit((x, p) -> Henkelman_model(x, p; lineshape=:superLorentzian), x, vec(M), p0, lower=pmin, upper=pmax)\n",
    "fit_std = stderror(fit)\n",
    "\n",
    "p = plot(xlabel=\"Δ [rad/s]\", ylabel=\"M / max(M)\", xaxis=:log, legend=:none)\n",
    "[scatter!(p, Δ, M[:,i], color=i) for i=1:length(ω1)]\n",
    "[plot!(p, Δ, reshape(Henkelman_model(x, fit.param), length(Δ), length(ω1))[:,i], color=i) for i=1:length(ω1)]\n",
    "display(p)"
   ],
   "metadata": {},
   "execution_count": null
  },
  {
   "cell_type": "markdown",
   "source": [
    "### Lorentzian Lineshape\n",
    "The Lorentzian lineshape, on the other hand, does not fit the data well:"
   ],
   "metadata": {}
  },
  {
   "outputs": [],
   "cell_type": "code",
   "source": [
    "fit = curve_fit((x, p) -> Henkelman_model(x, p; lineshape=:Lorentzian), x, vec(M), p0, lower=pmin, upper=pmax)\n",
    "fit_std = stderror(fit)\n",
    "\n",
    "p = plot(xlabel=\"Δ [rad/s]\", ylabel=\"M / max(M)\", xaxis=:log, legend=:none)\n",
    "[scatter!(p, Δ, M[:,i], color=i) for i=1:length(ω1)]\n",
    "[plot!(p, Δ, reshape(Henkelman_model(x, fit.param), length(Δ), length(ω1))[:,i], color=i) for i=1:length(ω1)]\n",
    "display(p)"
   ],
   "metadata": {},
   "execution_count": null
  },
  {
   "cell_type": "markdown",
   "source": [
    "### Gaussian Lineshape\n",
    "And the Gaussian lineshape does not not fit the data well either:"
   ],
   "metadata": {}
  },
  {
   "outputs": [],
   "cell_type": "code",
   "source": [
    "fit = curve_fit((x, p) -> Henkelman_model(x, p; lineshape=:Lorentzian), x, vec(M), p0, lower=pmin, upper=pmax)\n",
    "fit_std = stderror(fit)\n",
    "\n",
    "p = plot(xlabel=\"Δ [rad/s]\", ylabel=\"M / max(M)\", xaxis=:log, legend=:none)\n",
    "[scatter!(p, Δ, M[:,i], color=i) for i=1:length(ω1)]\n",
    "[plot!(p, Δ, reshape(Henkelman_model(x, fit.param), length(Δ), length(ω1))[:,i], color=i) for i=1:length(ω1)]\n",
    "display(p)"
   ],
   "metadata": {},
   "execution_count": null
  },
  {
   "cell_type": "markdown",
   "source": [
    "---\n",
    "\n",
    "*This notebook was generated using [Literate.jl](https://github.com/fredrikekre/Literate.jl).*"
   ],
   "metadata": {}
  }
 ],
 "nbformat_minor": 3,
 "metadata": {
  "language_info": {
   "file_extension": ".jl",
   "mimetype": "application/julia",
   "name": "julia",
   "version": "1.6.7"
  },
  "kernelspec": {
   "name": "julia-1.6",
   "display_name": "Julia 1.6.7",
   "language": "julia"
  }
 },
 "nbformat": 4
}
