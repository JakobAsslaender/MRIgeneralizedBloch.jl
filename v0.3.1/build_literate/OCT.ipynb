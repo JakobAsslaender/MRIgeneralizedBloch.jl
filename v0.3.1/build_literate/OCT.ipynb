{
 "cells": [
  {
   "cell_type": "markdown",
   "source": [
    "# Optimal Control"
   ],
   "metadata": {}
  },
  {
   "outputs": [],
   "cell_type": "code",
   "source": [
    "using MRIgeneralizedBloch\n",
    "using MAT\n",
    "using Plots\n",
    "\n",
    "# set parameters\n",
    "ω0 = 0\n",
    "B1 = 1\n",
    "m0s = 0.15\n",
    "R1f = 0.5\n",
    "R2f = 1 / 65e-3\n",
    "R1s = 3\n",
    "T2s = 10e-6\n",
    "Rx = 30\n",
    "TR = 3.5e-3"
   ],
   "metadata": {},
   "execution_count": null
  },
  {
   "cell_type": "markdown",
   "source": [
    "---\n",
    "\n",
    "*This notebook was generated using [Literate.jl](https://github.com/fredrikekre/Literate.jl).*"
   ],
   "metadata": {}
  }
 ],
 "nbformat_minor": 3,
 "metadata": {
  "language_info": {
   "file_extension": ".jl",
   "mimetype": "application/julia",
   "name": "julia",
   "version": "1.6.5"
  },
  "kernelspec": {
   "name": "julia-1.6",
   "display_name": "Julia 1.6.5",
   "language": "julia"
  }
 },
 "nbformat": 4
}
