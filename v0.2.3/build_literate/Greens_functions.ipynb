{
 "cells": [
  {
   "cell_type": "markdown",
   "source": [
    "# Green's Functions\n",
    "The Green's functions are given by the Fourier transform of lineshapes. For a Lorentzian lineshape, the Green's function is\n",
    "$$\n",
    "\tG(t,\\tau) = \\exp (-R_2^s (t-\\tau)) \\;\\; \\forall \\;\\; t \\geq \\tau,\n",
    "$$\n",
    "for a Gaussian lineshape it is\n",
    "$$\n",
    "\tG(t,\\tau) = \\exp(- {R_2^s}^2 (t-\\tau)^2 / 2)),\n",
    "$$\n",
    "and for super-Lorentzian it is\n",
    "$$\n",
    "\tG(t,\\tau) = \\int_0^{1} \\exp \\left(- {R_2^s}^2 (t - \\tau)^2 \\cdot  \\frac{(3 \\zeta^2 - 1)^2}{8} \\right) d\\zeta.\n",
    "$$\n",
    "As evident from these equations, the Green's functions are merely a function of $\\kappa = R_2^s \\cdot (t - \\tau) = (t - \\tau) / T_2^s$, and in this package we implemented the functions as such: `greens_lorentzian(κ)`, `greens_gaussian(κ)`, and `greens_superlorentzian(κ)`. These functions can be used to reproduce Fig. 1 in the generalized Bloch paper:"
   ],
   "metadata": {}
  },
  {
   "outputs": [],
   "cell_type": "code",
   "source": [
    "using MRIgeneralizedBloch\n",
    "using Plots\n",
    "plotlyjs(ticks=:native);"
   ],
   "metadata": {},
   "execution_count": null
  },
  {
   "outputs": [],
   "cell_type": "code",
   "source": [
    "T2s = 10e-6 # s\n",
    "t = 0 : 1e-6 : 1e-3\n",
    "p = plot(1e3t, greens_lorentzian.(t ./ T2s), yaxis=:log, ylim=(1e-6,1), label=\"Lorentzian lineshape\", xlabel=\"(t-τ) [ms]\", ylabel=\"G((t-τ)/T2s)\")\n",
    "p = plot!(1e3t, greens_gaussian.(t ./ T2s), label=\"Gaussian lineshape\")\n",
    "p = plot!(1e3t, greens_superlorentzian.(t ./ T2s), label=\"super-Lorentzian l.\")"
   ],
   "metadata": {},
   "execution_count": null
  },
  {
   "cell_type": "markdown",
   "source": [
    "---\n",
    "\n",
    "*This notebook was generated using [Literate.jl](https://github.com/fredrikekre/Literate.jl).*"
   ],
   "metadata": {}
  }
 ],
 "nbformat_minor": 3,
 "metadata": {
  "language_info": {
   "file_extension": ".jl",
   "mimetype": "application/julia",
   "name": "julia",
   "version": "1.6.2"
  },
  "kernelspec": {
   "name": "julia-1.6",
   "display_name": "Julia 1.6.2",
   "language": "julia"
  }
 },
 "nbformat": 4
}
