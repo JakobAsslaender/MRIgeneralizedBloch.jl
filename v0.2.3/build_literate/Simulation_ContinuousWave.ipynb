{
 "cells": [
  {
   "cell_type": "markdown",
   "source": [
    "# Continuous Wave Simulation\n",
    "The following code replicates the continuous wave simulation of Fig. 2 and is slightly more comprehensive in the sense that all discussed models are simulated."
   ],
   "metadata": {}
  },
  {
   "cell_type": "markdown",
   "source": [
    "For these simulations we need the following packages:"
   ],
   "metadata": {}
  },
  {
   "outputs": [],
   "cell_type": "code",
   "source": [
    "using MRIgeneralizedBloch\n",
    "using DifferentialEquations\n",
    "using QuadGK\n",
    "using Plots\n",
    "plotlyjs(ticks=:native);"
   ],
   "metadata": {},
   "execution_count": null
  },
  {
   "cell_type": "markdown",
   "source": [
    "and we simulate an isolated semi-solid spin pool with the following parameters:"
   ],
   "metadata": {}
  },
  {
   "outputs": [],
   "cell_type": "code",
   "source": [
    "R1 = 1.0 # 1/s\n",
    "T2s = 10e-6 # s\n",
    "z0 = [1.0] # initial z-magnetization\n",
    "z_fun(p, t) = [1.0] # initialize history function (will be populated with an interpolation by the differential equation solver)\n",
    "\n",
    "ω1 = 2000π # rad/s\n",
    "ω0 = 200π # rad/s\n",
    "TRF = .002 # s\n",
    "\n",
    "\n",
    "t = range(0, TRF, length=1001) # plot points\n",
    "tspan = (0.0, TRF); # simulation range"
   ],
   "metadata": {},
   "execution_count": null
  },
  {
   "cell_type": "markdown",
   "source": [
    "These parameters correspond to Fig. 2b, the parameters for replicating Fig. 2a are `ω1 = 200π`, `ω0 = 2000π`, and `TRF = 1`."
   ],
   "metadata": {}
  },
  {
   "cell_type": "markdown",
   "source": [
    "## Lorentzian lineshape\n",
    "In this script, we simulate the three lineshapes separately, starting with the Lorentzian lineshape for which the Bloch model provides a ground truth."
   ],
   "metadata": {}
  },
  {
   "cell_type": "markdown",
   "source": [
    "### Bloch model\n",
    "We can formulate the Bloch model as\n",
    "$$\n",
    "\\partial_t \\begin{pmatrix} x \\\\ y \\\\ z \\\\ 1 \\end{pmatrix} = \\begin{pmatrix}\n",
    "-R_2 & -ω_0 & ω_1 & 0 \\\\\n",
    "ω_0 & -R_2 & 0 & 0 \\\\\n",
    "-ω_1 & 0 & -R_1 & R_1 \\\\\n",
    "0 & 0 & 0 & 0\n",
    "\\end{pmatrix} \\begin{pmatrix} x \\\\ y \\\\ z \\\\ 1 \\end{pmatrix} ,\n",
    "$$\n",
    "where the matrix is the Hamiltonian of the Bloch model. For a constant $ω_0$ and $ω_1$, we can evaluate the Bloch model by taking the  matrix exponential of its Hamiltonian:"
   ],
   "metadata": {}
  },
  {
   "outputs": [],
   "cell_type": "code",
   "source": [
    "H(ω1, ω0, R2, R1) = [-R2  -ω0  ω1  0;\n",
    "                       ω0 -R2   0  0;\n",
    "                      -ω1   0 -R1 R1;\n",
    "                        0   0   0  0]\n",
    "\n",
    "z_Bloch = similar(t)\n",
    "for i = 1:length(t)\n",
    "    (_, _, z_Bloch[i], _) = exp(H(ω1, ω0, 1 / T2s, R1) * t[i]) * [0; 0; 1; 1]\n",
    "end"
   ],
   "metadata": {},
   "execution_count": null
  },
  {
   "cell_type": "markdown",
   "source": [
    "### Henkelman's steady-state solution\n",
    "When assuming an isolated semi-solid pool, Eq. (9) in *Henkelman, R. Mark, et al. \"Quantitative interpretation of magnetization transfer.\" Magnetic resonance in medicine 29.6 (1993): 759-766* reduces to"
   ],
   "metadata": {}
  },
  {
   "outputs": [],
   "cell_type": "code",
   "source": [
    "g_Lorentzian(ω0) = T2s / π / (1 + (T2s * ω0)^2)\n",
    "z_steady_state_Lorentzian = R1 / (R1 + π * ω1^2 * g_Lorentzian(ω0))"
   ],
   "metadata": {},
   "execution_count": null
  },
  {
   "cell_type": "markdown",
   "source": [
    "where `g_Lorentzian(ω0)` is the Lorentzian lineshape."
   ],
   "metadata": {}
  },
  {
   "cell_type": "markdown",
   "source": [
    "### Graham's single frequency approximation\n",
    "The lineshape is also used to calculate Graham's single frequency approximation, which describes an exponential decay with the RF-induced saturation rate `Rrf`:"
   ],
   "metadata": {}
  },
  {
   "outputs": [],
   "cell_type": "code",
   "source": [
    "Rrf = π * ω1^2 * g_Lorentzian(ω0)\n",
    "z_Graham_Lorentzian = @. (Rrf * exp(-t * (R1 + Rrf)) + R1) / (R1 + Rrf);"
   ],
   "metadata": {},
   "execution_count": null
  },
  {
   "cell_type": "markdown",
   "source": [
    "### Sled's model\n",
    "Sled's model is given by the ordinary differential equation (ODE)\n",
    "$$\n",
    "\\partial_t z(t) = \\left(-\\pi \\int_0^t G(t-τ) \\omega_1(τ)^2 dτ \\right) z(t)  + R_1 (1-z),\n",
    "$$\n",
    "where $G(t-τ)$ is the Green's function. The Hamiltonian of this ODE is implemented in `apply_hamiltonian_sled!` and can be solve the ODE solver of the [DifferentialEquations.jl](https://diffeq.sciml.ai/stable/) package:"
   ],
   "metadata": {}
  },
  {
   "outputs": [],
   "cell_type": "code",
   "source": [
    "z_Sled_Lorentzian = solve(ODEProblem(apply_hamiltonian_sled!, z0, tspan, (ω1, 1, ω0, R1, T2s, greens_lorentzian)));"
   ],
   "metadata": {},
   "execution_count": null
  },
  {
   "cell_type": "markdown",
   "source": [
    "### generalized Bloch model\n",
    "The generalized Bloch model is given by the integro-differential equation (IDE)\n",
    "$$\n",
    "\\partial_t z(t) = - ω_y(t) \\int_0^t G(t,τ) ω_y(τ) z(τ) dτ - ω_x(t) \\int_0^t G(t,τ) ω_x(τ) z(τ) dτ + R_1 (1 - z(t)) ,\n",
    "$$\n",
    "where we explicitly denote the $ω_x$ and $ω_y$ components of the Rabi frequency. The Hamiltonian of the IDE is implemented in `apply_hamiltonian_gbloch!` and we can solve this IDE with the [delay-differential equation (DDE)](https://diffeq.sciml.ai/stable/tutorials/dde_example/) solver of the [DifferentialEquations.jl](https://diffeq.sciml.ai/stable/) package:"
   ],
   "metadata": {}
  },
  {
   "outputs": [],
   "cell_type": "code",
   "source": [
    "z_gBloch_Lorentzian = solve(DDEProblem(apply_hamiltonian_gbloch!, z0, z_fun, tspan, (ω1, 1, ω0, R1, T2s, greens_lorentzian)));"
   ],
   "metadata": {},
   "execution_count": null
  },
  {
   "cell_type": "markdown",
   "source": [
    "Now that we have solved all five models, we can plot the solutions for comparison:"
   ],
   "metadata": {}
  },
  {
   "outputs": [],
   "cell_type": "code",
   "source": [
    "p = plot(xlabel=\"t [ms]\", ylabel=\"zs(t)\")\n",
    "plot!(p, 1e3t, z_Bloch, label=\"Bloch model\")\n",
    "plot!(p, 1e3t, zero(similar(t)) .+ z_steady_state_Lorentzian, label=\"Henkelman's steady-state\")\n",
    "plot!(p, 1e3t, z_Graham_Lorentzian, label=\"Graham's model\")\n",
    "plot!(p, 1e3t, (hcat(z_Sled_Lorentzian(t).u...)'), label=\"Sled's model\")\n",
    "plot!(p, 1e3t, (hcat(z_gBloch_Lorentzian(t).u...)'), label=\"generalized Bloch model\")"
   ],
   "metadata": {},
   "execution_count": null
  },
  {
   "cell_type": "markdown",
   "source": [
    "Zooming into the plot, reveals virtually perfect (besides numerical differences) agreement between Bloch and generalized Bloch model and subtle, but existing differences when compared to the other models. Choosing a longer T2s amplifies these differences."
   ],
   "metadata": {}
  },
  {
   "cell_type": "markdown",
   "source": [
    "## Gaussian lineshape\n",
    "We can repeat the same simulation (with the exception of the Bloch model) for the Gaussian lineshape:"
   ],
   "metadata": {}
  },
  {
   "outputs": [],
   "cell_type": "code",
   "source": [
    "g_Gaussian(ω0) = T2s / sqrt(2π) * exp(-(T2s * ω0)^2 / 2)\n",
    "z_steady_state_Gaussian = R1 / (R1 + π * ω1^2 * g_Gaussian(ω0))\n",
    "\n",
    "Rrf = π * ω1^2 * g_Gaussian(ω0)\n",
    "z_Graham_Gaussian = @. (Rrf * exp(-t * (R1 + Rrf)) + R1) / (R1 + Rrf)\n",
    "\n",
    "z_gBloch_Gaussian = solve(DDEProblem(apply_hamiltonian_gbloch!, z0, z_fun, tspan, (ω1, 1, ω0, R1, T2s, greens_gaussian)))\n",
    "\n",
    "z_Sled_Gaussian = solve(ODEProblem(apply_hamiltonian_sled!, z0, tspan, (ω1, 1, ω0, R1, T2s, greens_gaussian)))\n",
    "\n",
    "p = plot(xlabel=\"t [ms]\", ylabel=\"zs(t)\")\n",
    "plot!(p, 1e3t, zero(similar(t)) .+ z_steady_state_Gaussian, label=\"Henkelman's steady-state\")\n",
    "plot!(p, 1e3t, z_Graham_Gaussian, label=\"Graham' model\")\n",
    "plot!(p, 1e3t, (hcat(z_Sled_Gaussian(t).u...)'), label=\"Sled's model\")\n",
    "plot!(p, 1e3t, (hcat(z_gBloch_Gaussian(t).u...)'), label=\"generalized Bloch model\")"
   ],
   "metadata": {},
   "execution_count": null
  },
  {
   "cell_type": "markdown",
   "source": [
    "## super-Lorentzian lineshape\n",
    "And we can repeat the same simulation (with the exception of the Bloch model) for the super-Lorentzian lineshape, which reveals the most pronounced deviations between the models due to the substantially slower decay of the Green's function:"
   ],
   "metadata": {}
  },
  {
   "outputs": [],
   "cell_type": "code",
   "source": [
    "g_superLorentzian(ω0) = sqrt(2 / π) * T2s * quadgk(ct -> exp(-2 * (T2s * ω0 / abs(3 * ct^2 - 1))^2) / abs(3 * ct^2 - 1), 0.0, sqrt(1 / 3), 1)[1]\n",
    "z_steady_state_superLorentzian = R1 / (R1 + π * ω1^2 * g_superLorentzian(ω0))\n",
    "\n",
    "Rrf = π * ω1^2 * g_superLorentzian(ω0)\n",
    "z_Graham_superLorentzian = @. (Rrf * exp(-t * (R1 + Rrf)) + R1) / (R1 + Rrf)\n",
    "\n",
    "G_superLorentzian = interpolate_greens_function(greens_superlorentzian, 0, TRF/T2s)\n",
    "z_gBloch_superLorentzian = solve(DDEProblem(apply_hamiltonian_gbloch!, z0, z_fun, tspan, (ω1, 1, ω0, R1, T2s, G_superLorentzian)))\n",
    "\n",
    "z_Sled_superLorentzian = solve(ODEProblem(apply_hamiltonian_sled!, z0, tspan, (ω1, 1, ω0, R1, T2s, G_superLorentzian)))\n",
    "\n",
    "p = plot(xlabel=\"t [ms]\", ylabel=\"zs(t)\")\n",
    "plot!(p, 1e3t, zero(similar(t)) .+ z_steady_state_superLorentzian, label=\"Henkelman's steady-state (super-Lorentzian)\")\n",
    "plot!(p, 1e3t, z_Graham_superLorentzian, label=\"Graham super-Lorentzian\")\n",
    "plot!(p, 1e3t, (hcat(z_gBloch_superLorentzian(t).u...)'), label=\"gBloch super-Lorentzian\")\n",
    "plot!(p, 1e3t, (hcat(z_Sled_superLorentzian(t).u...)'), label=\"Sled super-Lorentzian\")"
   ],
   "metadata": {},
   "execution_count": null
  },
  {
   "cell_type": "markdown",
   "source": [
    "---\n",
    "\n",
    "*This notebook was generated using [Literate.jl](https://github.com/fredrikekre/Literate.jl).*"
   ],
   "metadata": {}
  }
 ],
 "nbformat_minor": 3,
 "metadata": {
  "language_info": {
   "file_extension": ".jl",
   "mimetype": "application/julia",
   "name": "julia",
   "version": "1.6.2"
  },
  "kernelspec": {
   "name": "julia-1.6",
   "display_name": "Julia 1.6.2",
   "language": "julia"
  }
 },
 "nbformat": 4
}
