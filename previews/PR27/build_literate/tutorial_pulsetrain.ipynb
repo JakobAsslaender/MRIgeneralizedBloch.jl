{
 "cells": [
  {
   "cell_type": "markdown",
   "source": [
    "# Balanced Hybrid-State Free Precession Pulse Sequence\n",
    "This section explains the interface for calculating the spin evolution during a train of RF pulses, assuming balanced gradient moments (cf. [Hybrid-state free precession in nuclear magnetic resonance](https://www.nature.com/articles/s42005-019-0174-0)). For this, we need the following packages:"
   ],
   "metadata": {}
  },
  {
   "outputs": [],
   "cell_type": "code",
   "source": [
    "using MRIgeneralizedBloch\n",
    "using MAT\n",
    "using Plots"
   ],
   "metadata": {},
   "execution_count": null
  },
  {
   "cell_type": "markdown",
   "source": [
    "and we use the pulse train described in the paper [Rapid quantitative magnetization transfer imaging: utilizing the hybrid state and the generalized Bloch model](https://arxiv.org/pdf/2207.08259.pdf):"
   ],
   "metadata": {}
  },
  {
   "outputs": [],
   "cell_type": "code",
   "source": [
    "control = matread(normpath(joinpath(pathof(MRIgeneralizedBloch), \"../../docs/control_MT_v3p2_TR3p5ms_discretized.mat\")))\n",
    "α   = control[\"alpha\"]\n",
    "TRF = control[\"TRF\"];"
   ],
   "metadata": {},
   "execution_count": null
  },
  {
   "cell_type": "markdown",
   "source": [
    "and"
   ],
   "metadata": {}
  },
  {
   "outputs": [],
   "cell_type": "code",
   "source": [
    "TR = 3.5e-3; # S"
   ],
   "metadata": {},
   "execution_count": null
  },
  {
   "cell_type": "markdown",
   "source": [
    "The control has the following shape:"
   ],
   "metadata": {}
  },
  {
   "outputs": [],
   "cell_type": "code",
   "source": [
    "t = TR .* (1:length(TRF))\n",
    "p1 = plot(t, α/π, ylabel=\"α/π\", label=:none)\n",
    "p2 = plot(t, TRF, xlabel=\"t (s)\", ylabel=\"TRF (s)\", label=:none)\n",
    "p = plot(p1, p2, layout=(2,1))"
   ],
   "metadata": {},
   "execution_count": null
  },
  {
   "cell_type": "markdown",
   "source": [
    "We simulate the signal for the following biophysical parameters:"
   ],
   "metadata": {}
  },
  {
   "outputs": [],
   "cell_type": "code",
   "source": [
    "m0s = 0.15\n",
    "R1f = 0.5   # 1/s\n",
    "R2f = 15    # 1/s\n",
    "Rx = 30     # 1/s\n",
    "R1s = 3     # 1/s\n",
    "T2s = 10e-6 # s\n",
    "ω0 = 0      # rad/s\n",
    "B1 = 1;     # in units of B1_nominal"
   ],
   "metadata": {},
   "execution_count": null
  },
  {
   "cell_type": "markdown",
   "source": [
    "For speed purposes, it is advisable to use the linear approximation of the generalized Bloch model, which requires a precomputed $R_2^{s,l}$"
   ],
   "metadata": {}
  },
  {
   "outputs": [],
   "cell_type": "code",
   "source": [
    "R2slT = precompute_R2sl();"
   ],
   "metadata": {},
   "execution_count": null
  },
  {
   "cell_type": "markdown",
   "source": [
    "Now we have everything set up to calculate the signal:"
   ],
   "metadata": {}
  },
  {
   "outputs": [],
   "cell_type": "code",
   "source": [
    "s_linapp = calculatesignal_linearapprox(α, TRF, TR, ω0, B1, m0s, R1f, R2f, Rx, R1s, T2s, R2slT)"
   ],
   "metadata": {},
   "execution_count": null
  },
  {
   "cell_type": "markdown",
   "source": [
    "By default, the output is a complex valued array where each element describes the transversal magnetization $x^f + i y^f$ of the free spin pool in each $T_\\text{R}$. With $ω_0 = 0$, however, the imaginary part of the signal vanishes:"
   ],
   "metadata": {}
  },
  {
   "outputs": [],
   "cell_type": "code",
   "source": [
    "p = plot(xlabel=\"t (s)\", ylabel=\"signal (normalized)\"; legend=:topleft)\n",
    "plot!(p, t, real.(vec(s_linapp)), label=\"Re(s); lin. approx.\")\n",
    "plot!(p, t, imag.(vec(s_linapp)), label=\"Im(s); lin. approx.\")"
   ],
   "metadata": {},
   "execution_count": null
  },
  {
   "cell_type": "markdown",
   "source": [
    "For comparison, we can also solve the full integro-differential equation (IDE) for each RF pulse, which is more accurate, but much slower:"
   ],
   "metadata": {}
  },
  {
   "outputs": [],
   "cell_type": "code",
   "source": [
    "s_ide = calculatesignal_gbloch_ide(α, TRF, TR, ω0, B1, m0s, R1f, R2f, Rx, R1s, T2s)\n",
    "\n",
    "plot!(p, t, real.(vec(s_ide)), label=\"Re(s); IDE\")\n",
    "plot!(p, t, imag.(vec(s_ide)), label=\"Im(s); IDE\")"
   ],
   "metadata": {},
   "execution_count": null
  },
  {
   "cell_type": "markdown",
   "source": [
    "Clicking on the legend entries allows to select and de-select individual graphs."
   ],
   "metadata": {}
  },
  {
   "cell_type": "markdown",
   "source": [
    "## Real-valued magnetization vector\n",
    "As an alternative to the complex-valued signal, we can also calculate the full magnetization vector $(x^f, y^f, z^f, x^s, z^s, 1)$ by supplying the keyword argument `output=:realmagnetization`. Here, $x$, $y$, $z$ denote the dimensions in space, the superscripts $f$ and $s$ denote the free and the semi-solid spin pool, respectively. We neglect the $y^s$ component, assuming (without loss of generality) ωₓ = 0 and given that $R_2^{s,l} \\gg ω_0$."
   ],
   "metadata": {}
  },
  {
   "outputs": [],
   "cell_type": "code",
   "source": [
    "m_linapp = calculatesignal_linearapprox(α, TRF, TR, ω0, B1, m0s, R1f, R2f, Rx, R1s, T2s, R2slT;\n",
    "    output=:realmagnetization)\n",
    "\n",
    "p = plot(xlabel=\"t (s)\", ylabel=\"magnetization (normalized)\"; legend=:topleft)\n",
    "plot!(p, t, [m_linapp[i][1] for i=1:size(m_linapp,1)] ./ (1 - m0s), label=\"xᶠ / m₀ᶠ\")\n",
    "plot!(p, t, [m_linapp[i][2] for i=1:size(m_linapp,1)] ./ (1 - m0s), label=\"yᶠ / m₀ᶠ\")\n",
    "plot!(p, t, [m_linapp[i][3] for i=1:size(m_linapp,1)] ./ (1 - m0s), label=\"zᶠ / m₀ᶠ\")\n",
    "plot!(p, t, [m_linapp[i][4] for i=1:size(m_linapp,1)] ./      m0s , label=\"xˢ / m₀ˢ\")\n",
    "plot!(p, t, [m_linapp[i][5] for i=1:size(m_linapp,1)] ./      m0s , label=\"zˢ / m₀ˢ\")"
   ],
   "metadata": {},
   "execution_count": null
  },
  {
   "cell_type": "markdown",
   "source": [
    "## Gradients\n",
    "The same interface can also be used to calculate the derivatives of the signal wrt. the biophysical parameters. One can specify any subset of derivatives in any order with a vector of identifier objects:"
   ],
   "metadata": {}
  },
  {
   "outputs": [],
   "cell_type": "code",
   "source": [
    "grad_list=[grad_m0s(), grad_R1f(), grad_R2f(), grad_Rx(), grad_R1s(), grad_T2s(), grad_ω0(), grad_B1()];"
   ],
   "metadata": {},
   "execution_count": null
  },
  {
   "cell_type": "markdown",
   "source": [
    "Calling the function `calculatesignal_linearapprox` with the keyword argument `grad_list` and this vector"
   ],
   "metadata": {}
  },
  {
   "outputs": [],
   "cell_type": "code",
   "source": [
    "s_linapp = calculatesignal_linearapprox(α, TRF, TR, ω0, B1, m0s, R1f, R2f, Rx, R1s, T2s, R2slT;\n",
    "    grad_list=grad_list);"
   ],
   "metadata": {},
   "execution_count": null
  },
  {
   "cell_type": "markdown",
   "source": [
    "returns the derivatives in the specified order:"
   ],
   "metadata": {}
  },
  {
   "outputs": [],
   "cell_type": "code",
   "source": [
    "p = plot(xlabel=\"t (s)\", ylabel=\"signal (normalized)\"; legend=:topleft)\n",
    "plot!(p, t, real.(s_linapp[:,1,1]       ), label=\"Re(∂s/∂M₀ )*M₀\")\n",
    "plot!(p, t, real.(s_linapp[:,1,2] .* m0s), label=\"Re(∂s/∂m₀ˢ)*m₀ˢ\")\n",
    "plot!(p, t, real.(s_linapp[:,1,3] .* R1f), label=\"Re(∂s/∂R₁ᶠ)*R₁ᶠ\")\n",
    "plot!(p, t, real.(s_linapp[:,1,4] .* R2f), label=\"Re(∂s/∂R₂ᶠ)*R₂ᶠ\")\n",
    "plot!(p, t, real.(s_linapp[:,1,5] .* Rx ), label=\"Re(∂s/∂Rₓ )*Rₓ \")\n",
    "plot!(p, t, real.(s_linapp[:,1,6] .* R1s), label=\"Re(∂s/∂R₁ˢ)*R₁ˢ\")\n",
    "plot!(p, t, real.(s_linapp[:,1,7] .* T2s), label=\"Re(∂s/∂T₂ˢ)*T₂ˢ\")\n",
    "plot!(p, t, real.(s_linapp[:,1,8] .* ω0 ), label=\"Re(∂s/∂ω₀ )*ω₀ \")\n",
    "plot!(p, t, real.(s_linapp[:,1,9] .* B1 ), label=\"Re(∂s/∂B₁ )*B₁ \")"
   ],
   "metadata": {},
   "execution_count": null
  },
  {
   "cell_type": "markdown",
   "source": [
    "Note that the first row is always the signal itself, which is equivalent to ∂s/∂M₀, as this toolbox always assumes M₀ = 1."
   ],
   "metadata": {}
  },
  {
   "cell_type": "markdown",
   "source": [
    "### Apparent R₁\n",
    "Above code calculates separate derivatives for $R_1^f$ and $R_1^s$. Yet, many publications, including our own paper [\"Rapid quantitative magnetization transfer imaging: utilizing the hybrid state and the generalized Bloch model\"](https://arxiv.org/pdf/2207.08259.pdf) assumes an apparent longitudinal relaxation rate $R_1^a = R_1^f = R_1^f$. The derivatives wrt. this apparent relaxation rate can be calculated with"
   ],
   "metadata": {}
  },
  {
   "outputs": [],
   "cell_type": "code",
   "source": [
    "R1a = 1 # 1/s\n",
    "grad_list=[grad_R1a()]\n",
    "s_linapp = calculatesignal_linearapprox(α, TRF, TR, ω0, B1, m0s, R1a, R2f, Rx, R1a, T2s, R2slT;\n",
    "    grad_list=grad_list)\n",
    "\n",
    "p = plot(xlabel=\"t (s)\", ylabel=\"signal (normalized)\"; legend=:topleft)\n",
    "plot!(p, t, real.(s_linapp[:,1,1]       ), label=\"Re(∂s/∂M₀)/M₀\")\n",
    "plot!(p, t, real.(s_linapp[:,1,2] .* R1a), label=\"Re(∂s/∂R₁ᵃ)*R₁ᵃ\")"
   ],
   "metadata": {},
   "execution_count": null
  },
  {
   "cell_type": "markdown",
   "source": [
    "Note that `R1a` appears here twice in the arguments of the `calculatesignal_linearapprox` in place of `R1f` and `R1s`."
   ],
   "metadata": {}
  },
  {
   "cell_type": "markdown",
   "source": [
    "---\n",
    "\n",
    "*This notebook was generated using [Literate.jl](https://github.com/fredrikekre/Literate.jl).*"
   ],
   "metadata": {}
  }
 ],
 "nbformat_minor": 3,
 "metadata": {
  "language_info": {
   "file_extension": ".jl",
   "mimetype": "application/julia",
   "name": "julia",
   "version": "1.8.4"
  },
  "kernelspec": {
   "name": "julia-1.8",
   "display_name": "Julia 1.8.4",
   "language": "julia"
  }
 },
 "nbformat": 4
}
