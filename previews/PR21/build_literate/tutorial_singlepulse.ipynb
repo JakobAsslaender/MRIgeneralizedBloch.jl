{
 "cells": [
  {
   "cell_type": "markdown",
   "source": [
    "# Simulation of a Single RF Pulse"
   ],
   "metadata": {}
  },
  {
   "cell_type": "markdown",
   "source": [
    "The core of generalized Bloch model is implemented in the function `apply_hamiltonian_gbloch!(∂m∂t, m, mfun, p, t)`, which calculates the derivative `∂m/∂t` for a given magnetization vector `m` and stores it in-place in the the variable `∂m∂t`. The function interface is written in a format that can be fed directly into a differential equation solver of the [DifferentialEquations.jl](https://diffeq.sciml.ai/stable/) package."
   ],
   "metadata": {}
  },
  {
   "cell_type": "markdown",
   "source": [
    "We need the following packages for this tutorial:"
   ],
   "metadata": {}
  },
  {
   "outputs": [],
   "cell_type": "code",
   "source": [
    "using MRIgeneralizedBloch\n",
    "using DifferentialEquations\n",
    "using SpecialFunctions\n",
    "using QuadGK\n",
    "using Plots"
   ],
   "metadata": {},
   "execution_count": null
  },
  {
   "cell_type": "markdown",
   "source": [
    "and we define the properties a coupled spin system:"
   ],
   "metadata": {}
  },
  {
   "outputs": [],
   "cell_type": "code",
   "source": [
    "m0s = 0.15\n",
    "R1f = 0.5 # 1/s\n",
    "R2f = 13 # 1/s\n",
    "R1s = 3 # 1/s\n",
    "T2s = 12e-6 # s\n",
    "Rx = 17; # 1/s"
   ],
   "metadata": {},
   "execution_count": null
  },
  {
   "cell_type": "markdown",
   "source": [
    "Here, we simulate a 100μs inversion pulse:"
   ],
   "metadata": {}
  },
  {
   "outputs": [],
   "cell_type": "code",
   "source": [
    "α = π\n",
    "TRF = 200e-6; # s"
   ],
   "metadata": {},
   "execution_count": null
  },
  {
   "cell_type": "markdown",
   "source": [
    "Further, we assume a perfectly calibrated, on-resonant RF-pulse:"
   ],
   "metadata": {}
  },
  {
   "outputs": [],
   "cell_type": "code",
   "source": [
    "B1 = 1\n",
    "ω0 = 0; # rad/s"
   ],
   "metadata": {},
   "execution_count": null
  },
  {
   "cell_type": "markdown",
   "source": [
    "as well as a [super-Lorentzian lineshape](http://dx.doi.org/10.1002/mrm.1910330404). We interpolate the corresponding Green's function to improve performance:"
   ],
   "metadata": {}
  },
  {
   "outputs": [],
   "cell_type": "code",
   "source": [
    "G = interpolate_greens_function(greens_superlorentzian, 0, TRF / T2s);"
   ],
   "metadata": {},
   "execution_count": null
  },
  {
   "cell_type": "markdown",
   "source": [
    "## Rectangular RF-Pulses\n",
    "First, we simulate a rectangular RF-pulse where we can assume a constant `ω1` during the entire simulation:"
   ],
   "metadata": {}
  },
  {
   "outputs": [],
   "cell_type": "code",
   "source": [
    "ω1 = α/TRF;"
   ],
   "metadata": {},
   "execution_count": null
  },
  {
   "cell_type": "markdown",
   "source": [
    "### Isolated Semi-Solid Spin Pool\n",
    "The first example shows how to simulate an isolated semi-solid spin pool for which the magnetization vector is defined by `m = [zs; 1]`. The appended `1` facilitates a more compact implementation of longitudinal relaxation to a non-zero thermal equilibrium. Here, we initialize the magnetization with the thermal equilibrium:"
   ],
   "metadata": {}
  },
  {
   "outputs": [],
   "cell_type": "code",
   "source": [
    "m0 = [m0s; 1];"
   ],
   "metadata": {},
   "execution_count": null
  },
  {
   "cell_type": "markdown",
   "source": [
    "The generalized Bloch model is a so-called integro-differential equation where the derivative $∂m/∂t$ at the time $t_1$ does not just depend on $m(t_1)$, but on $m(t)$ for $t \\in 0, t_1]$. This is solved with a [delay differential equation (DDE) solver](https://diffeq.sciml.ai/stable/tutorials/dde_example/) that stores an interpolated *history function* `mfun(p, t)`, which we use in the [`apply_hamiltonian_gbloch!` function to evaluate the integral. This history function has to be initialized with"
   ],
   "metadata": {}
  },
  {
   "outputs": [],
   "cell_type": "code",
   "source": [
    "mfun(p, t) = m0;"
   ],
   "metadata": {},
   "execution_count": null
  },
  {
   "cell_type": "markdown",
   "source": [
    "For slight performance improvements, we could also initialize the the history function with `mfun(p, t; idxs=nothing) = typeof(idxs) <: Number ? m0idxs] : m0`. This syntax allows for direct indexing of the history function in [`apply_hamiltonian_gbloch!`, which improves performance. Following the syntax of the [DifferentialEquations.jl](https://diffeq.sciml.ai/stable/) package, we can define and solve the differential equation:"
   ],
   "metadata": {}
  },
  {
   "outputs": [],
   "cell_type": "code",
   "source": [
    "param = (ω1, B1, ω0, R1s, T2s, G) # defined by apply_hamiltonian_gbloch!\n",
    "prob = DDEProblem(apply_hamiltonian_gbloch!, m0, mfun, (0, TRF), param)\n",
    "sol = solve(prob)"
   ],
   "metadata": {},
   "execution_count": null
  },
  {
   "cell_type": "markdown",
   "source": [
    "The function `apply_hamiltonian_gbloch!` is implemented such that it concludes from `param = (ω1, B1, ω0, R1s, T2s, G)` that you are only supplying the relaxation properties of the semi-solid spin pool and hence it simulates the spin dynamics of an isolated semi-solid spin pool. The DifferentialEquations.jl package also implements a plot function for the solution objects"
   ],
   "metadata": {}
  },
  {
   "outputs": [],
   "cell_type": "code",
   "source": [
    "p = plot(sol, xlabel=\"t [s]\", ylabel=\"zˢ(t)\", idxs=1, labels=:none)"
   ],
   "metadata": {},
   "execution_count": null
  },
  {
   "cell_type": "markdown",
   "source": [
    "### Coupled Spin System\n",
    "For a coupled spin system, the magnetization vector is defined as `m = [xf; yf; zf; zs; 1]` and the thermal equilibrium magnetization is given by:"
   ],
   "metadata": {}
  },
  {
   "outputs": [],
   "cell_type": "code",
   "source": [
    "m0 = [0; 0; 1-m0s; m0s; 1];"
   ],
   "metadata": {},
   "execution_count": null
  },
  {
   "cell_type": "markdown",
   "source": [
    "To indicate to the `apply_hamiltonian_gbloch!` function that we would like to simulate a coupled spin system, we simple provide it with the properties of both pools in the following format:"
   ],
   "metadata": {}
  },
  {
   "outputs": [],
   "cell_type": "code",
   "source": [
    "param = (ω1, B1, ω0, m0s, R1f, R2f, Rx, R1s, T2s, G);"
   ],
   "metadata": {},
   "execution_count": null
  },
  {
   "cell_type": "markdown",
   "source": [
    "Thereafter, we can use the same function calls as above to simulate the spin dynamics:"
   ],
   "metadata": {}
  },
  {
   "outputs": [],
   "cell_type": "code",
   "source": [
    "prob = DDEProblem(apply_hamiltonian_gbloch!, m0, mfun, (0, TRF), param)\n",
    "sol = solve(prob)\n",
    "p = plot(sol, xlabel=\"t [s]\", ylabel=\"m(t)\", idxs=1:4, labels=[\"xᶠ\" \"yᶠ\" \"zᶠ\" \"zˢ\"])"
   ],
   "metadata": {},
   "execution_count": null
  },
  {
   "cell_type": "markdown",
   "source": [
    "## Shaped RF-Pulses\n",
    "The function `apply_hamiltonian_gbloch!` also allows for the simulation of RF-pulses with arbitrary shapes. In order to simulate shaped RF-pulses, ω₁ has to be defined as a function that takes time as an input and returns ω₁ at this particular point in time. For example, we can define a `sinc`-pulse:"
   ],
   "metadata": {}
  },
  {
   "outputs": [],
   "cell_type": "code",
   "source": [
    "NSideLobes = 1\n",
    "f_ω1(t) = sinc(2(NSideLobes+1) * t/TRF - (NSideLobes+1)) * α / (sinint((NSideLobes+1)π) * TRF/π / (NSideLobes+1));"
   ],
   "metadata": {},
   "execution_count": null
  },
  {
   "cell_type": "markdown",
   "source": [
    "`NSideLobes` defines here the number of side lobes on each side as can be seen in the following plot."
   ],
   "metadata": {}
  },
  {
   "outputs": [],
   "cell_type": "code",
   "source": [
    "tᵢ = 0:1e-6:TRF\n",
    "p = plot(tᵢ, f_ω1.(tᵢ), xlabel=\"t [s]\", ylabel=\"ω₁(t)\", labels=:none)"
   ],
   "metadata": {},
   "execution_count": null
  },
  {
   "cell_type": "markdown",
   "source": [
    "With numerical integration we can check if the RF-pulse has the correct flip angle:"
   ],
   "metadata": {}
  },
  {
   "outputs": [],
   "cell_type": "code",
   "source": [
    "quadgk(f_ω1, 0, TRF)[1] / α"
   ],
   "metadata": {},
   "execution_count": null
  },
  {
   "cell_type": "markdown",
   "source": [
    "### Isolated Semi-Solid Spin Pool\n",
    "In order to calculate the spin dynamics of an isolated semi-solid spin pool during a shaped RF-pulse, we use the same function call as we did in the Section Rectangular RF-Pulses with the only difference that the first element of `param` is of type `Function`:"
   ],
   "metadata": {}
  },
  {
   "outputs": [],
   "cell_type": "code",
   "source": [
    "m0 = [m0s; 1]\n",
    "param = (f_ω1, B1, ω0, R1s, T2s, G)\n",
    "prob = DDEProblem(apply_hamiltonian_gbloch!, m0, mfun, (0, TRF), param)\n",
    "sol = solve(prob)\n",
    "p = plot(sol, xlabel=\"t [s]\", ylabel=\"zˢ(t)\", idxs=1, labels=:none)"
   ],
   "metadata": {},
   "execution_count": null
  },
  {
   "cell_type": "markdown",
   "source": [
    "### Coupled Spin System\n",
    "And the same simulation can be done for a coupled spin system:"
   ],
   "metadata": {}
  },
  {
   "outputs": [],
   "cell_type": "code",
   "source": [
    "param = (f_ω1, B1, ω0, m0s, R1f, R2f, Rx, R1s, T2s, G)\n",
    "m0 = [0; 0; 1-m0s; m0s; 1];\n",
    "prob = DDEProblem(apply_hamiltonian_gbloch!, m0, mfun, (0, TRF), param)\n",
    "sol = solve(prob)\n",
    "p = plot(sol, xlabel=\"t [s]\", ylabel=\"m(t)\", idxs=1:4, labels=[\"xᶠ\" \"yᶠ\" \"zᶠ\" \"zˢ\"])"
   ],
   "metadata": {},
   "execution_count": null
  },
  {
   "cell_type": "markdown",
   "source": [
    "More details on the interface, including the linear approximation of the generalized Bloch model can found in the following scripts that replicate all simulations, data analyses, and figures of the generalized Bloch paper."
   ],
   "metadata": {}
  },
  {
   "cell_type": "markdown",
   "source": [
    "---\n",
    "\n",
    "*This notebook was generated using [Literate.jl](https://github.com/fredrikekre/Literate.jl).*"
   ],
   "metadata": {}
  }
 ],
 "nbformat_minor": 3,
 "metadata": {
  "language_info": {
   "file_extension": ".jl",
   "mimetype": "application/julia",
   "name": "julia",
   "version": "1.8.2"
  },
  "kernelspec": {
   "name": "julia-1.8",
   "display_name": "Julia 1.8.2",
   "language": "julia"
  }
 },
 "nbformat": 4
}
