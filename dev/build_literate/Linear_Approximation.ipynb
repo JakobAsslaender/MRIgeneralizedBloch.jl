{
 "cells": [
  {
   "cell_type": "markdown",
   "source": [
    "# Linear Approximation\n",
    "The following code demonstrates the linear approximation of the generalized Bloch model and replicates Figs. 7 and 8 in the paper."
   ],
   "metadata": {}
  },
  {
   "cell_type": "markdown",
   "source": [
    "For this analysis we need the following packages:"
   ],
   "metadata": {}
  },
  {
   "outputs": [],
   "cell_type": "code",
   "source": [
    "using DifferentialEquations\n",
    "using BenchmarkTools\n",
    "using LinearAlgebra\n",
    "using MRIgeneralizedBloch\n",
    "using Plots"
   ],
   "metadata": {},
   "execution_count": null
  },
  {
   "cell_type": "markdown",
   "source": [
    "and we simulate a coupled spin system with the following parameters:"
   ],
   "metadata": {}
  },
  {
   "outputs": [],
   "cell_type": "code",
   "source": [
    "m₀ˢ = 0.1\n",
    "m₀ᶠ = 1-m₀ˢ\n",
    "R₁ = 1 # 1/s\n",
    "R₂ᶠ = 1 / 50e-3 # 1/s\n",
    "Rₓ = 70; # 1/s"
   ],
   "metadata": {},
   "execution_count": null
  },
  {
   "cell_type": "markdown",
   "source": [
    "## Linearized $T_2^{s,l}$\n",
    "We demonstrate the linear approximation at the example of the Green's function corresponding to the [super-Lorentzian lineshape](http://dx.doi.org/10.1002/mrm.1910330404), which we interpolate to improve the performance:"
   ],
   "metadata": {}
  },
  {
   "outputs": [],
   "cell_type": "code",
   "source": [
    "G = interpolate_greens_function(greens_superlorentzian, 0, 1e-3 / 5e-6);"
   ],
   "metadata": {},
   "execution_count": null
  },
  {
   "cell_type": "markdown",
   "source": [
    "The function `precompute_R2sl` returns another function, `R₂ˢˡ(Tʳᶠ, α, B1, T₂ˢ)`, that interpolates the linearized relaxation rate, as well as functions that describe its derivatives wrt. $T_2^s$ and $B_1$, respectively:"
   ],
   "metadata": {}
  },
  {
   "outputs": [],
   "cell_type": "code",
   "source": [
    "R₂ˢˡ, ∂R₂ˢˡ∂T₂ˢ, ∂R₂ˢˡ∂B₁ = precompute_R2sl(TRF_min=5, TRF_max=100, T2s_min=1, T2s_max=1, ω1_max=π/5, B1_max=1, greens=G);"
   ],
   "metadata": {},
   "execution_count": null
  },
  {
   "cell_type": "markdown",
   "source": [
    "The derivatives are not used here and are just assigned for demonstration purposes."
   ],
   "metadata": {}
  },
  {
   "cell_type": "markdown",
   "source": [
    "In order to replicate Fig. 7, we plot `R₂ˢˡ(Tʳᶠ, α, B₁, T₂ˢ)` for a varying $α$ and $T_\\text{RF}/T_2^s$:"
   ],
   "metadata": {}
  },
  {
   "outputs": [],
   "cell_type": "code",
   "source": [
    "α = (0.01:.01:1) * π\n",
    "TʳᶠoT₂ˢ = 5:100\n",
    "\n",
    "TʳᶠoT₂ˢ_m = repeat(reshape(TʳᶠoT₂ˢ, 1, :), length(α), 1)\n",
    "α_m = repeat(α, 1, size(TʳᶠoT₂ˢ_m, 2))\n",
    "\n",
    "p = plot(xlabel=\"Tʳᶠ/T₂ˢ\", ylabel=\"α/π\", colorbar_title=\"T₂ˢˡ/T₂ˢ\")\n",
    "contour!(p, TʳᶠoT₂ˢ, α ./ π, 1 ./ R₂ˢˡ.(TʳᶠoT₂ˢ_m, α_m, 1, 1), fill = true)"
   ],
   "metadata": {},
   "execution_count": null
  },
  {
   "cell_type": "markdown",
   "source": [
    "## Spin Dynamics during a single RF Pulse\n",
    "To replicate Fig. 8a, we simulate and plot the dynamics of a coupled spin system during a single π-pulse, starting from thermal equilibrium."
   ],
   "metadata": {}
  },
  {
   "outputs": [],
   "cell_type": "code",
   "source": [
    "Tʳᶠ = 100e-6 # s\n",
    "T₂ˢ = 10e-6 # μs\n",
    "m0_5D = [0,0,m₀ᶠ,m₀ˢ,1]\n",
    "mfun(p, t; idxs=nothing) = typeof(idxs) <: Number ? 0 : m0_5D; # initialize history function, here with the ability to just call a single index"
   ],
   "metadata": {},
   "execution_count": null
  },
  {
   "cell_type": "markdown",
   "source": [
    "The full generalized Bloch model is solved by"
   ],
   "metadata": {}
  },
  {
   "outputs": [],
   "cell_type": "code",
   "source": [
    "param = (π/Tʳᶠ, 1, 0, m₀ˢ, R₁, R₂ᶠ, Rₓ, R₁, T₂ˢ, G)\n",
    "prob = DDEProblem(apply_hamiltonian_gbloch!, m0_5D, mfun, (0.0, Tʳᶠ), param)\n",
    "sol_pi_full = solve(prob);"
   ],
   "metadata": {},
   "execution_count": null
  },
  {
   "cell_type": "markdown",
   "source": [
    "and we evaluate the interpolated solution at the following time points:"
   ],
   "metadata": {}
  },
  {
   "outputs": [],
   "cell_type": "code",
   "source": [
    "t = (0:.01:1) * Tʳᶠ # s\n",
    "Mpi_full = zeros(length(t),4)\n",
    "for i in eachindex(t)\n",
    "    Mpi_full[i,:] = sol_pi_full(t[i])[1:4]\n",
    "end"
   ],
   "metadata": {},
   "execution_count": null
  },
  {
   "cell_type": "markdown",
   "source": [
    "Further, we calculate the linear approximation, which is simulated in a 6D-space as it explicitly models $x^s$:"
   ],
   "metadata": {}
  },
  {
   "outputs": [],
   "cell_type": "code",
   "source": [
    "m0_6D = [0,0,m₀ᶠ,0,m₀ˢ,1]\n",
    "\n",
    "Mpi_appx = similar(Mpi_full)\n",
    "for i in eachindex(t)\n",
    "    H = exp(hamiltonian_linear(π/Tʳᶠ, 1, 0, t[i], m₀ˢ, R₁, Rₓ, R₁, R₂ᶠ, R₂ˢˡ(Tʳᶠ, π, 1, T₂ˢ)))\n",
    "    Mpi_appx[i,:] = (H * m0_6D)[[1:3;5]]\n",
    "end"
   ],
   "metadata": {},
   "execution_count": null
  },
  {
   "cell_type": "markdown",
   "source": [
    "and plot the original generalized Bloch model and its linear approximation for comparison:"
   ],
   "metadata": {}
  },
  {
   "outputs": [],
   "cell_type": "code",
   "source": [
    "p = plot(xlabel=\"t [s]\", ylabel=\"m/m₀\")\n",
    "plot!(p, t, Mpi_full[:,1] / m₀ᶠ, label=\"xᶠ/m₀ᶠ original model\")\n",
    "plot!(p, t, Mpi_appx[:,1] / m₀ᶠ, label=\"xᶠ/m₀ᶠ linear approximation\")\n",
    "plot!(p, t, Mpi_full[:,3] / m₀ᶠ, label=\"zᶠ/m₀ᶠ original model\")\n",
    "plot!(p, t, Mpi_appx[:,3] / m₀ᶠ, label=\"zᶠ/m₀ᶠ linear approximation\")\n",
    "plot!(p, t, Mpi_full[:,4] / m₀ˢ, label=\"zˢ/m₀ˢ original model\")\n",
    "plot!(p, t, Mpi_appx[:,4] / m₀ˢ, label=\"zˢ/m₀ˢ linear approximation\")"
   ],
   "metadata": {},
   "execution_count": null
  },
  {
   "cell_type": "markdown",
   "source": [
    "We observe slight deviations of zˢ during the pulse, but a virtually perfect match at the end of the RF pulse."
   ],
   "metadata": {}
  },
  {
   "cell_type": "markdown",
   "source": [
    "## RF Pulses with Different Flip Angles\n",
    "To replicate Fig. 8b, we simulate the spin dynamics during multiple RF pulses with different flip angles α, each simulation starting from thermal equilibrium, and analyze the magnetization at the end of each pulse:"
   ],
   "metadata": {}
  },
  {
   "outputs": [],
   "cell_type": "code",
   "source": [
    "α = (.01:.01:1) * π\n",
    "\n",
    "M_full = zeros(length(α), 4)\n",
    "M_appx = similar(M_full)\n",
    "for i in eachindex(α)\n",
    "    param = (α[i]/Tʳᶠ, 1, 0, m₀ˢ, R₁, R₂ᶠ, Rₓ, R₁, T₂ˢ, G)\n",
    "    prob = DDEProblem(apply_hamiltonian_gbloch!, m0_5D, mfun, (0.0, Tʳᶠ), param)\n",
    "    M_full[i,:] = solve(prob)[end][1:4]\n",
    "\n",
    "    u = exp(hamiltonian_linear(α[i]/Tʳᶠ, 1, 0, Tʳᶠ, m₀ˢ, R₁, R₂ᶠ, Rₓ, R₁, R₂ˢˡ(Tʳᶠ, α[i], 1, T₂ˢ))) * m0_6D\n",
    "    M_appx[i,:] = u[[1:3;5]]\n",
    "end\n",
    "\n",
    "p = plot(xlabel=\"α/π\", ylabel=\"m/m₀\")\n",
    "plot!(p, α/π, M_appx[:,1] / m₀ᶠ, label=\"xᶠ/m₀ˢ original model\")\n",
    "plot!(p, α/π, M_full[:,1] / m₀ᶠ, label=\"xᶠ/m₀ˢ linear approximation\")\n",
    "plot!(p, α/π, M_appx[:,3] / m₀ᶠ, label=\"zᶠ/m₀ˢ original model\")\n",
    "plot!(p, α/π, M_full[:,3] / m₀ᶠ, label=\"zᶠ/m₀ˢ linear approximation\")\n",
    "plot!(p, α/π, M_appx[:,4] / m₀ˢ, label=\"zˢ/m₀ˢ original model\")\n",
    "plot!(p, α/π, M_full[:,4] / m₀ˢ, label=\"zˢ/m₀ˢ linear approximation\")"
   ],
   "metadata": {},
   "execution_count": null
  },
  {
   "cell_type": "markdown",
   "source": [
    "Visually, the linear approximation matches the full simulation well. The normalized root-mean-squared error of the linear approximation for $x^f$ is"
   ],
   "metadata": {}
  },
  {
   "outputs": [],
   "cell_type": "code",
   "source": [
    "norm(M_appx[:,1] .- M_full[:,1]) / norm(M_full[:,1])"
   ],
   "metadata": {},
   "execution_count": null
  },
  {
   "cell_type": "markdown",
   "source": [
    "for $z^f$ it is"
   ],
   "metadata": {}
  },
  {
   "outputs": [],
   "cell_type": "code",
   "source": [
    "norm(M_appx[:,3] .- M_full[:,3]) / norm(M_full[:,3])"
   ],
   "metadata": {},
   "execution_count": null
  },
  {
   "cell_type": "markdown",
   "source": [
    "and for $z^s$ it is"
   ],
   "metadata": {}
  },
  {
   "outputs": [],
   "cell_type": "code",
   "source": [
    "norm(M_appx[:,4] .- M_full[:,4]) / norm(M_full[:,4])"
   ],
   "metadata": {},
   "execution_count": null
  },
  {
   "cell_type": "markdown",
   "source": [
    "which confirms the good concordance."
   ],
   "metadata": {}
  },
  {
   "cell_type": "markdown",
   "source": [
    "## Benchmark\n",
    "We analyze the execution time for solving the full integro-differential equation:"
   ],
   "metadata": {}
  },
  {
   "outputs": [],
   "cell_type": "code",
   "source": [
    "param = (α[end]/Tʳᶠ, 1, 0, m₀ˢ, R₁, R₂ᶠ, Rₓ, R₁, T₂ˢ, G)\n",
    "prob = DDEProblem(apply_hamiltonian_gbloch!, m0_5D, mfun, (0.0, Tʳᶠ), param)\n",
    "@benchmark solve($prob)"
   ],
   "metadata": {},
   "execution_count": null
  },
  {
   "cell_type": "markdown",
   "source": [
    "The `$` symbol *interpolates* the variable, which improves the accuracy of the timing measurement. We can compare this time to the time it takes to calculate the linear approximation, including the time it takes to evaluate the interpolated `R₂ˢˡ`:"
   ],
   "metadata": {}
  },
  {
   "outputs": [],
   "cell_type": "code",
   "source": [
    "@benchmark exp(hamiltonian_linear($(α[end]/Tʳᶠ), 1, 0, $Tʳᶠ, $m₀ˢ, $R₁, $R₂ᶠ, $Rₓ, $R₁, R₂ˢˡ($Tʳᶠ, $α[end], 1, $T₂ˢ))) * $m0_6D"
   ],
   "metadata": {},
   "execution_count": null
  },
  {
   "cell_type": "markdown",
   "source": [
    "We can see that linear approximation is about 4 orders of magnitude faster compared to the full model."
   ],
   "metadata": {}
  },
  {
   "cell_type": "markdown",
   "source": [
    "---\n",
    "\n",
    "*This notebook was generated using [Literate.jl](https://github.com/fredrikekre/Literate.jl).*"
   ],
   "metadata": {}
  }
 ],
 "nbformat_minor": 3,
 "metadata": {
  "language_info": {
   "file_extension": ".jl",
   "mimetype": "application/julia",
   "name": "julia",
   "version": "1.8.2"
  },
  "kernelspec": {
   "name": "julia-1.8",
   "display_name": "Julia 1.8.2",
   "language": "julia"
  }
 },
 "nbformat": 4
}
