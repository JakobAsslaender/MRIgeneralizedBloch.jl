{
 "cells": [
  {
   "cell_type": "markdown",
   "source": [
    "# Non-Linear Least Square Fitting"
   ],
   "metadata": {}
  },
  {
   "outputs": [],
   "cell_type": "code",
   "source": [
    "using MRIgeneralizedBloch\n",
    "using MAT\n",
    "using Plots\n",
    "\n",
    "# set parameters\n",
    "ω0 = 0\n",
    "B1 = 1\n",
    "m0s = 0.15\n",
    "R1f = 0.5\n",
    "R2f = 1 / 65e-3\n",
    "R1s = 3\n",
    "T2s = 10e-6\n",
    "Rx = 30\n",
    "TR = 3.5e-3\n",
    "\n",
    "control = matread(normpath(joinpath(pathof(MRIgeneralizedBloch), \"../../docs/control_MT_v3p2_TR3p5ms_discretized.mat\")))[\"control\"]\n",
    "TRF = [500e-6; control[1:end - 1,2]]\n",
    "α = [π; control[1:end - 1,1] .+ control[2:end,1]]\n",
    "ω1 = α ./ TRF\n",
    "t = TR .* (1:length(TRF))"
   ],
   "metadata": {},
   "execution_count": null
  },
  {
   "cell_type": "markdown",
   "source": [
    "## calculate and plot signal vectors (xf + 1im * yf)"
   ],
   "metadata": {}
  },
  {
   "outputs": [],
   "cell_type": "code",
   "source": [
    "s_gBloch = vec(calculatesignal_gbloch_ide(α, TRF, TR, ω0, B1, m0s, R1f, R2f, Rx, R1s, T2s))\n",
    "s_Graham = vec(calculatesignal_graham_ode(α, TRF, TR, ω0, B1, m0s, R1f, R2f, Rx, R1s, T2s))\n",
    "s_linapp = vec(calculatesignal_linearapprox(α, TRF, TR, ω0, B1, m0s, R1f, R2f, Rx, R1s, T2s, R2slT))\n",
    "\n",
    "p = plot(TR * 1:length(TRF), real(s_gBloch), label=\"gBloch re(s)\", legend=:topleft)\n",
    "plot!(p, TR * 1:length(TRF), imag(s_gBloch), label=\"gBloch im(s)\", legend=:topleft)\n",
    "plot!(p, TR * 1:length(TRF), real(s_linapp), label=\"lin. approx. re(s)\", legend=:topleft)\n",
    "plot!(p, TR * 1:length(TRF), imag(s_linapp), label=\"lin. approx. im(s)\", legend=:topleft)\n",
    "plot!(p, TR * 1:length(TRF), real(s_Graham), label=\"Graham re(s)\", legend=:topleft)\n",
    "plot!(p, TR * 1:length(TRF), imag(s_Graham), label=\"Graham im(s)\", legend=:topleft)"
   ],
   "metadata": {},
   "execution_count": null
  },
  {
   "cell_type": "markdown",
   "source": [
    "---\n",
    "\n",
    "*This notebook was generated using [Literate.jl](https://github.com/fredrikekre/Literate.jl).*"
   ],
   "metadata": {}
  }
 ],
 "nbformat_minor": 3,
 "metadata": {
  "language_info": {
   "file_extension": ".jl",
   "mimetype": "application/julia",
   "name": "julia",
   "version": "1.6.5"
  },
  "kernelspec": {
   "name": "julia-1.6",
   "display_name": "Julia 1.6.5",
   "language": "julia"
  }
 },
 "nbformat": 4
}
