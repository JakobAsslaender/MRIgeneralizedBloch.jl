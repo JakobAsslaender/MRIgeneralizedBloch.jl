{
 "cells": [
  {
   "cell_type": "markdown",
   "source": [
    "# Non-Linear Least Square Fitting\n",
    "This section gives a brief overview of the interface to fit the generalized Bloch model to hybrid-state free precession](https://www.nature.com/articles/s42005-019-0174-0) data. We use the [LsqFit.jl](https://github.com/JuliaNLSolvers/LsqFit.jl) package and supply the algorithm with analytic gradients that are calculated with the [`calculatesignal_linearapprox` function that implements the linear approximation of the generalized Bloch model for a train of rectangular RF pulses."
   ],
   "metadata": {}
  },
  {
   "cell_type": "markdown",
   "source": [
    "## Basic Interface\n",
    "This tutorial uses the following packages:"
   ],
   "metadata": {}
  },
  {
   "outputs": [],
   "cell_type": "code",
   "source": [
    "using MRIgeneralizedBloch\n",
    "using MAT\n",
    "using LinearAlgebra\n",
    "using Plots"
   ],
   "metadata": {},
   "execution_count": null
  },
  {
   "cell_type": "markdown",
   "source": [
    "and we demonstrate the concept at the example of the RF pulse train that we published in the paper [Rapid quantitative magnetization transfer imaging: utilizing the hybrid state and the generalized Bloch model](http://TODO.org):"
   ],
   "metadata": {}
  },
  {
   "outputs": [],
   "cell_type": "code",
   "source": [
    "control = matread(normpath(joinpath(pathof(MRIgeneralizedBloch), \"../../docs/control_MT_v3p2_TR3p5ms_discretized.mat\")))\n",
    "α   = control[\"alpha\"]\n",
    "TRF = control[\"TRF\"]\n",
    "\n",
    "TR = 3.5e-3\n",
    "t = TR .* (1:length(TRF));"
   ],
   "metadata": {},
   "execution_count": null
  },
  {
   "cell_type": "markdown",
   "source": [
    "As an example we can assume the following ground truth parameters"
   ],
   "metadata": {}
  },
  {
   "outputs": [],
   "cell_type": "code",
   "source": [
    "m0s = 0.15\n",
    "R1f = 0.5 # 1/s\n",
    "R2f = 17 # 1/s\n",
    "Rx = 30 # 1/s\n",
    "R1s = 3 # 1/s\n",
    "T2s = 12e-6 # s\n",
    "ω0 = 100 # rad/s\n",
    "B1 = 0.9; # in units of B1_nominal"
   ],
   "metadata": {},
   "execution_count": null
  },
  {
   "cell_type": "markdown",
   "source": [
    "precompute the linear approximation"
   ],
   "metadata": {}
  },
  {
   "outputs": [],
   "cell_type": "code",
   "source": [
    "R2slT = precompute_R2sl();"
   ],
   "metadata": {},
   "execution_count": null
  },
  {
   "cell_type": "markdown",
   "source": [
    "and simulate the signal:"
   ],
   "metadata": {}
  },
  {
   "outputs": [],
   "cell_type": "code",
   "source": [
    "s = calculatesignal_linearapprox(α, TRF, TR, ω0, B1, m0s, R1f, R2f, Rx, R1s, T2s, R2slT)\n",
    "s = vec(s)"
   ],
   "metadata": {},
   "execution_count": null
  },
  {
   "cell_type": "markdown",
   "source": [
    "To make this example a bit more realistic, we add complex valued Gaussian noise:"
   ],
   "metadata": {}
  },
  {
   "outputs": [],
   "cell_type": "code",
   "source": [
    "s .+= 0.01 * randn(ComplexF64, size(s));"
   ],
   "metadata": {},
   "execution_count": null
  },
  {
   "cell_type": "markdown",
   "source": [
    "Now we can fit the model to the noisy data:"
   ],
   "metadata": {}
  },
  {
   "outputs": [],
   "cell_type": "code",
   "source": [
    "qM = fit_gBloch(s, α, TRF, TR; R2slT=R2slT)"
   ],
   "metadata": {},
   "execution_count": null
  },
  {
   "cell_type": "markdown",
   "source": [
    "The last keyword argument is optional. It allows to recycle the precomputed `R2sl`, which improves speed. If not specified, it is re-calculated internally."
   ],
   "metadata": {}
  },
  {
   "cell_type": "markdown",
   "source": [
    "The results are stored in a `struct` and we can access the fitted parameters with"
   ],
   "metadata": {}
  },
  {
   "outputs": [],
   "cell_type": "code",
   "source": [
    "qM.m0s"
   ],
   "metadata": {},
   "execution_count": null
  },
  {
   "outputs": [],
   "cell_type": "code",
   "source": [
    "qM.R1f # 1/s"
   ],
   "metadata": {},
   "execution_count": null
  },
  {
   "outputs": [],
   "cell_type": "code",
   "source": [
    "qM.R2f # 1/s"
   ],
   "metadata": {},
   "execution_count": null
  },
  {
   "outputs": [],
   "cell_type": "code",
   "source": [
    "qM.Rx # 1/s"
   ],
   "metadata": {},
   "execution_count": null
  },
  {
   "outputs": [],
   "cell_type": "code",
   "source": [
    "qM.R1s # 1/s"
   ],
   "metadata": {},
   "execution_count": null
  },
  {
   "outputs": [],
   "cell_type": "code",
   "source": [
    "1e6qM.T2s # μs"
   ],
   "metadata": {},
   "execution_count": null
  },
  {
   "outputs": [],
   "cell_type": "code",
   "source": [
    "qM.ω0 # rad/s"
   ],
   "metadata": {},
   "execution_count": null
  },
  {
   "outputs": [],
   "cell_type": "code",
   "source": [
    "qM.B1 # 1/B1_nominal"
   ],
   "metadata": {},
   "execution_count": null
  },
  {
   "cell_type": "markdown",
   "source": [
    "We can also simulate the signal with the fitted parameters"
   ],
   "metadata": {}
  },
  {
   "outputs": [],
   "cell_type": "code",
   "source": [
    "s_fitted = calculatesignal_linearapprox(α, TRF, TR, qM.ω0, qM.B1, qM.m0s, qM.R1f, qM.R2f, qM.Rx, qM.R1s, qM.T2s, R2slT)\n",
    "s_fitted = vec(s_fitted);"
   ],
   "metadata": {},
   "execution_count": null
  },
  {
   "cell_type": "markdown",
   "source": [
    "and compare it to the noisy data:"
   ],
   "metadata": {}
  },
  {
   "outputs": [],
   "cell_type": "code",
   "source": [
    "p = plot(xlabel=\"t (s)\", ylabel=\"signal (normalized)\", legend=:topleft)\n",
    "plot!(p, t, real.(s), label=\"Re(s)\")\n",
    "plot!(p, t, imag.(s), label=\"Im(s)\")\n",
    "plot!(p, t, real.(s_fitted), label=\"Re(s_fitted)\")\n",
    "plot!(p, t, imag.(s_fitted), label=\"Im(s_fitted)\")"
   ],
   "metadata": {},
   "execution_count": null
  },
  {
   "cell_type": "markdown",
   "source": [
    "## Bounds and Fixed Parameters\n",
    "Above example uses the default bounds"
   ],
   "metadata": {}
  },
  {
   "cell_type": "markdown",
   "source": [
    "`reM0 = (-Inf,   1,  Inf)`"
   ],
   "metadata": {}
  },
  {
   "cell_type": "markdown",
   "source": [
    "`imM0 = (-Inf,   0,  Inf)`"
   ],
   "metadata": {}
  },
  {
   "cell_type": "markdown",
   "source": [
    "`m0s  = (   0, 0.2,    1)`"
   ],
   "metadata": {}
  },
  {
   "cell_type": "markdown",
   "source": [
    "`R1f  = (   0, 0.3,  Inf)`"
   ],
   "metadata": {}
  },
  {
   "cell_type": "markdown",
   "source": [
    "`R2f  = (   0,  15,  Inf)`"
   ],
   "metadata": {}
  },
  {
   "cell_type": "markdown",
   "source": [
    "`Rx   = (   0,  20,  Inf)`"
   ],
   "metadata": {}
  },
  {
   "cell_type": "markdown",
   "source": [
    "`R1s  = (   0,   3,  Inf)`"
   ],
   "metadata": {}
  },
  {
   "cell_type": "markdown",
   "source": [
    "`T2s  = (8e-6,1e-5,12e-6)`"
   ],
   "metadata": {}
  },
  {
   "cell_type": "markdown",
   "source": [
    "`ω0   = (-Inf,   0,  Inf)`"
   ],
   "metadata": {}
  },
  {
   "cell_type": "markdown",
   "source": [
    "`B1   = (   0,   1,  1.5)`"
   ],
   "metadata": {}
  },
  {
   "cell_type": "markdown",
   "source": [
    "where the three entries refer to `(minimum, start_value, maximum)` (cf. `fit_gBloch`)."
   ],
   "metadata": {}
  },
  {
   "cell_type": "markdown",
   "source": [
    "With keyword arguments, one can modify each of these bounds. For example:"
   ],
   "metadata": {}
  },
  {
   "outputs": [],
   "cell_type": "code",
   "source": [
    "qM = fit_gBloch(s, α, TRF, TR; R2slT=R2slT, m0s  = (0.1, 0.3, 0.5))"
   ],
   "metadata": {},
   "execution_count": null
  },
  {
   "cell_type": "markdown",
   "source": [
    "starts the fit at `m0s = 0.3` and uses a lower bound of `0.1` and an upper bound of `0.5`. Alternatively, one also fix parameters to specified values:"
   ],
   "metadata": {}
  },
  {
   "outputs": [],
   "cell_type": "code",
   "source": [
    "qM = fit_gBloch(s, α, TRF, TR; R2slT=R2slT, ω0 = 0, B1 = 1)"
   ],
   "metadata": {},
   "execution_count": null
  },
  {
   "cell_type": "markdown",
   "source": [
    "In this case, the derivatives wrt. `ω0` and `B1` are not calculated and the result is accordingly"
   ],
   "metadata": {}
  },
  {
   "outputs": [],
   "cell_type": "code",
   "source": [
    "qM.ω0"
   ],
   "metadata": {},
   "execution_count": null
  },
  {
   "outputs": [],
   "cell_type": "code",
   "source": [
    "qM.B1"
   ],
   "metadata": {},
   "execution_count": null
  },
  {
   "cell_type": "markdown",
   "source": [
    "## Linear Compression\n",
    "As originally suggested by [McGivney et al.](https://ieeexplore.ieee.org/abstract/document/6851901) for MR Fingerprinting, the manifold of signal evolution or fingerprints is low rank and it is often beneficial to [reconstruct images directly in this domain](https://onlinelibrary.wiley.com/doi/abs/10.1002/mrm.26639). We can calculate a low rank basis with"
   ],
   "metadata": {}
  },
  {
   "outputs": [],
   "cell_type": "code",
   "source": [
    "sv = Array{ComplexF64}(undef, length(s), 50)\n",
    "for i=1:size(sv,2)\n",
    "    sv[:,i] = calculatesignal_linearapprox(α, TRF, TR, 500randn(), 0.8 + 0.4rand(), rand(), rand(), 20rand(), 30rand(), 3rand(), 8e-6+5e-6rand(), R2slT)\n",
    "end\n",
    "u, _, _ = svd(sv)\n",
    "u = u[:,1:9];"
   ],
   "metadata": {},
   "execution_count": null
  },
  {
   "cell_type": "markdown",
   "source": [
    "where the rank 9 was chosen heuristically. The noisy signal can be compressed with"
   ],
   "metadata": {}
  },
  {
   "outputs": [],
   "cell_type": "code",
   "source": [
    "sc = u' * s"
   ],
   "metadata": {},
   "execution_count": null
  },
  {
   "cell_type": "markdown",
   "source": [
    "and fitted by calling `fit_gBloch` with the keyword argument `u=u`:"
   ],
   "metadata": {}
  },
  {
   "outputs": [],
   "cell_type": "code",
   "source": [
    "qM = fit_gBloch(sc, α, TRF, TR; R2slT=R2slT, u=u)"
   ],
   "metadata": {},
   "execution_count": null
  },
  {
   "cell_type": "markdown",
   "source": [
    "## Apparent $R_1$\n",
    "Above fits tread `R1f` and `R1s` of the free and the semi-solid as independent parameters. As we discussed in our [paper](http://TODO.org), many publications in the literature assume an apparent `R1a = R1f = R1s`. The corresponding model can be fitted by specifying `fit_apparentR1=true`:"
   ],
   "metadata": {}
  },
  {
   "outputs": [],
   "cell_type": "code",
   "source": [
    "R1a = 1 # 1/s\n",
    "s = calculatesignal_linearapprox(α, TRF, TR, ω0, B1, m0s, R1a, R2f, Rx, R1a, T2s, R2slT)\n",
    "qM = fit_gBloch(vec(s), α, TRF, TR; fit_apparentR1=true, R1a = (0, 0.7, Inf), R2slT=R2slT)"
   ],
   "metadata": {},
   "execution_count": null
  },
  {
   "cell_type": "markdown",
   "source": [
    "Here, we specified the limits of `R1a` explicitly, which is optional."
   ],
   "metadata": {}
  },
  {
   "cell_type": "markdown",
   "source": [
    "---\n",
    "\n",
    "*This notebook was generated using [Literate.jl](https://github.com/fredrikekre/Literate.jl).*"
   ],
   "metadata": {}
  }
 ],
 "nbformat_minor": 3,
 "metadata": {
  "language_info": {
   "file_extension": ".jl",
   "mimetype": "application/julia",
   "name": "julia",
   "version": "1.6.6"
  },
  "kernelspec": {
   "name": "julia-1.6",
   "display_name": "Julia 1.6.6",
   "language": "julia"
  }
 },
 "nbformat": 4
}
