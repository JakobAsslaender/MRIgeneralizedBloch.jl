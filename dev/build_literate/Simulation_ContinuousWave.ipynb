{
 "cells": [
  {
   "cell_type": "markdown",
   "source": [
    "# Continuous Wave Simulation\n",
    "The following code replicates the continuous wave simulation of Fig. 2 and is slightly more comprehensive in the sense that all discussed models are simulated."
   ],
   "metadata": {}
  },
  {
   "cell_type": "markdown",
   "source": [
    "For these simulations we need the following packages:"
   ],
   "metadata": {}
  },
  {
   "outputs": [],
   "cell_type": "code",
   "source": [
    "using MRIgeneralizedBloch\n",
    "using DifferentialEquations\n",
    "using QuadGK\n",
    "using Plots"
   ],
   "metadata": {},
   "execution_count": null
  },
  {
   "cell_type": "markdown",
   "source": [
    "and we simulate an isolated semi-solid spin pool with the following parameters:"
   ],
   "metadata": {}
  },
  {
   "outputs": [],
   "cell_type": "code",
   "source": [
    "R₁ = 1.0 # 1/s\n",
    "T₂ˢ = 10e-6 # s\n",
    "\n",
    "Tʳᶠ = 2e-3 # s\n",
    "ω₁ = 2000π # rad/s\n",
    "ω₀ = 200π # rad/s\n",
    "\n",
    "t = range(0, Tʳᶠ, length=1001) # time points for plotting\n",
    "tspan = (0.0, Tʳᶠ); # simulation range"
   ],
   "metadata": {},
   "execution_count": null
  },
  {
   "cell_type": "markdown",
   "source": [
    "These parameters correspond to Fig. 2b, the parameters for replicating Fig. 2a are `ω₁ = 200π` and `Tʳᶠ = 1`s."
   ],
   "metadata": {}
  },
  {
   "cell_type": "markdown",
   "source": [
    "## Lorentzian Lineshape\n",
    "In this script, we simulate the three lineshapes separately, starting with the Lorentzian lineshape for which the Bloch model provides a ground truth."
   ],
   "metadata": {}
  },
  {
   "cell_type": "markdown",
   "source": [
    "### Bloch Model\n",
    "We can formulate the [Bloch model](http://dx.doi.org/10.1103/PhysRev.70.460) as\n",
    "$$\n",
    "\\partial_t \\begin{pmatrix} x \\\\ y \\\\ z \\\\ 1 \\end{pmatrix} = \\begin{pmatrix}\n",
    "-R_2 & -ω_0 & ω_1 & 0 \\\\\n",
    "ω_0 & -R_2 & 0 & 0 \\\\\n",
    "-ω_1 & 0 & -R_1 & R_1 \\\\\n",
    "0 & 0 & 0 & 0\n",
    "\\end{pmatrix} \\begin{pmatrix} x \\\\ y \\\\ z \\\\ 1 \\end{pmatrix} ,\n",
    "$$\n",
    "where the matrix is the Hamiltonian of the Bloch model. For a constant $ω_0$ and $ω_1$, we can evaluate the Bloch model by taking the  matrix exponential of its Hamiltonian:"
   ],
   "metadata": {}
  },
  {
   "outputs": [],
   "cell_type": "code",
   "source": [
    "H(ω₁, ω₀, R₂, R₁) = [-R₂  -ω₀  ω₁  0;\n",
    "                       ω₀ -R₂   0  0;\n",
    "                      -ω₁   0 -R₁ R₁;\n",
    "                        0   0   0  0]\n",
    "\n",
    "z_Bloch = similar(t)\n",
    "for i = 1:length(t)\n",
    "    (_, _, z_Bloch[i], _) = exp(H(ω₁, ω₀, 1 / T₂ˢ, R₁) * t[i]) * [0; 0; 1; 1]\n",
    "end"
   ],
   "metadata": {},
   "execution_count": null
  },
  {
   "cell_type": "markdown",
   "source": [
    "### Henkelman's Steady-State Solution\n",
    "When assuming an isolated semi-solid pool, Eq. (9) in [*Henkelman, R. Mark, et al. \"Quantitative interpretation of magnetization transfer.\" Magnetic resonance in medicine 29.6 (1993): 759-766*](https://doi.org/10.1002/mrm.1910290607) reduces to"
   ],
   "metadata": {}
  },
  {
   "outputs": [],
   "cell_type": "code",
   "source": [
    "g_Lorentzian(ω₀) = T₂ˢ / π / (1 + (T₂ˢ * ω₀)^2)\n",
    "z_steady_state_Lorentzian = R₁ / (R₁ + π * ω₁^2 * g_Lorentzian(ω₀))"
   ],
   "metadata": {},
   "execution_count": null
  },
  {
   "cell_type": "markdown",
   "source": [
    "where `g_Lorentzian(ω₀)` is the Lorentzian lineshape."
   ],
   "metadata": {}
  },
  {
   "cell_type": "markdown",
   "source": [
    "### Graham's Single Frequency Approximation\n",
    "The lineshape is also used to calculate [Graham's single frequency approximation](http://doi.org/10.1002/jmri.1880070520), which describes an exponential decay with the RF-induced saturation rate `Rʳᶠ`:"
   ],
   "metadata": {}
  },
  {
   "outputs": [],
   "cell_type": "code",
   "source": [
    "Rʳᶠ = π * ω₁^2 * g_Lorentzian(ω₀)\n",
    "z_Graham_Lorentzian = @. (Rʳᶠ * exp(-t * (R₁ + Rʳᶠ)) + R₁) / (R₁ + Rʳᶠ);"
   ],
   "metadata": {},
   "execution_count": null
  },
  {
   "cell_type": "markdown",
   "source": [
    "### Sled's Model\n",
    "[Sled's model](http://dx.doi.org/10.1006/jmre.2000.2059) is given by the ordinary differential equation (ODE)\n",
    "$$\n",
    "\\partial_t z(t) = \\left(-\\pi \\int_0^t G(t-τ) \\omega_1(τ)^2 dτ \\right) z(t)  + R_1 (1-z),\n",
    "$$\n",
    "where $G(t-τ)$ is the Green's function. The Hamiltonian of this ODE is implemented in `apply_hamiltonian_sled!` and we solve this ODE with the [DifferentialEquations.jl](https://diffeq.sciml.ai/stable/) package:"
   ],
   "metadata": {}
  },
  {
   "outputs": [],
   "cell_type": "code",
   "source": [
    "z₀ = [1.0] # initial z-magnetization\n",
    "param = (ω₁, 1, ω₀, R₁, T₂ˢ, greens_lorentzian) # defined by apply_hamiltonian_sled!\n",
    "prob = ODEProblem(apply_hamiltonian_sled!, z₀, tspan, param)\n",
    "z_Sled_Lorentzian = solve(prob);"
   ],
   "metadata": {},
   "execution_count": null
  },
  {
   "cell_type": "markdown",
   "source": [
    "### Generalized Bloch Model\n",
    "The generalized Bloch model is an integro-differential equation (IDE) as it depends on z(τ) instead of z(t):\n",
    "$$\n",
    "\\partial_t z(t) = - ω_1(t) \\int_0^t G(t,τ) ω_1(τ) z(τ) dτ + R_1 (1 - z(t)) .\n",
    "$$\n",
    "For off-resonant RF-pulses with $ω_1 = ω_x + i ω_y$, it is given by\n",
    "$$\n",
    "\\partial_t z(t) = - ω_y(t) \\int_0^t G(t,τ) ω_y(τ) z(τ) dτ - ω_x(t) \\int_0^t G(t,τ) ω_x(τ) z(τ) dτ + R_1 (1 - z(t)) .\n",
    "$$\n",
    "The Hamiltonian of the IDE is implemented in `apply_hamiltonian_gbloch!` and we can solve this IDE with the [delay-differential equation (DDE)](https://diffeq.sciml.ai/stable/tutorials/dde_example/) solver of the [DifferentialEquations.jl](https://diffeq.sciml.ai/stable/) package:"
   ],
   "metadata": {}
  },
  {
   "outputs": [],
   "cell_type": "code",
   "source": [
    "zfun(p, t) = [1.0] # initialize history function (will be populated with an interpolation by the DDE solver)\n",
    "\n",
    "param = (ω₁, 1, ω₀, R₁, T₂ˢ, greens_lorentzian) # defined by apply_hamiltonian_gbloch!\n",
    "prob = DDEProblem(apply_hamiltonian_gbloch!, z₀, zfun, tspan, param)\n",
    "z_gBloch_Lorentzian = solve(prob);"
   ],
   "metadata": {},
   "execution_count": null
  },
  {
   "cell_type": "markdown",
   "source": [
    "Now that we have solved all five models, we can plot the solutions for comparison:"
   ],
   "metadata": {}
  },
  {
   "outputs": [],
   "cell_type": "code",
   "source": [
    "p = plot(xlabel=\"t [ms]\", ylabel=\"zˢ(t)\")\n",
    "plot!(p, 1e3t, zero(similar(t)) .+ z_steady_state_Lorentzian, label=\"Henkelman's steady-state\")\n",
    "plot!(p, 1e3t, z_Graham_Lorentzian, label=\"Graham's model\")\n",
    "plot!(p, 1e3t, (hcat(z_Sled_Lorentzian(t).u...)'), label=\"Sled's model\")\n",
    "plot!(p, 1e3t, (hcat(z_gBloch_Lorentzian(t).u...)'), label=\"generalized Bloch model\")\n",
    "plot!(p, 1e3t, z_Bloch, label=\"Bloch model\")"
   ],
   "metadata": {},
   "execution_count": null
  },
  {
   "cell_type": "markdown",
   "source": [
    "Zooming into the plot, reveals virtually perfect (besides numerical differences) agreement between Bloch and generalized Bloch model and subtle, but existing differences when compared to the other models. Choosing a longer `T₂ˢ` amplifies these differences."
   ],
   "metadata": {}
  },
  {
   "cell_type": "markdown",
   "source": [
    "## Gaussian Lineshape\n",
    "We can repeat these simulations (with the exception of the Bloch model) for the Gaussian lineshape:"
   ],
   "metadata": {}
  },
  {
   "outputs": [],
   "cell_type": "code",
   "source": [
    "g_Gaussian(ω₀) = T₂ˢ / sqrt(2π) * exp(-(T₂ˢ * ω₀)^2 / 2)\n",
    "z_steady_state_Gaussian = R₁ / (R₁ + π * ω₁^2 * g_Gaussian(ω₀))\n",
    "\n",
    "Rʳᶠ = π * ω₁^2 * g_Gaussian(ω₀)\n",
    "z_Graham_Gaussian = @. (Rʳᶠ * exp(-t * (R₁ + Rʳᶠ)) + R₁) / (R₁ + Rʳᶠ)\n",
    "\n",
    "param = (ω₁, 1, ω₀, R₁, T₂ˢ, greens_gaussian) # defined by apply_hamiltonian_sled!\n",
    "prob = ODEProblem(apply_hamiltonian_sled!, z₀, tspan, param)\n",
    "z_Sled_Gaussian = solve(prob)\n",
    "\n",
    "prob = DDEProblem(apply_hamiltonian_gbloch!, z₀, zfun, tspan, param)\n",
    "z_gBloch_Gaussian = solve(prob)\n",
    "\n",
    "p = plot(xlabel=\"t [ms]\", ylabel=\"zˢ(t)\")\n",
    "plot!(p, 1e3t, zero(similar(t)) .+ z_steady_state_Gaussian, label=\"Henkelman's steady-state\")\n",
    "plot!(p, 1e3t, z_Graham_Gaussian, label=\"Graham' model\")\n",
    "plot!(p, 1e3t, (hcat(z_Sled_Gaussian(t).u...)'), label=\"Sled's model\")\n",
    "plot!(p, 1e3t, (hcat(z_gBloch_Gaussian(t).u...)'), label=\"generalized Bloch model\")"
   ],
   "metadata": {},
   "execution_count": null
  },
  {
   "cell_type": "markdown",
   "source": [
    "## Super-Lorentzian Lineshape\n",
    "And we can repeat these simulations (with the exception of the Bloch model) for the [super-Lorentzian lineshape](http://dx.doi.org/10.1002/mrm.1910330404), which reveals the most pronounced deviations between the models due to the substantially slower decay of the Green's function:"
   ],
   "metadata": {}
  },
  {
   "outputs": [],
   "cell_type": "code",
   "source": [
    "g_superLorentzian(ω₀) = sqrt(2 / π) * T₂ˢ * quadgk(ct -> exp(-2 * (T₂ˢ * ω₀ / abs(3 * ct^2 - 1))^2) / abs(3 * ct^2 - 1), 0.0, sqrt(1 / 3), 1)[1]\n",
    "z_steady_state_superLorentzian = R₁ / (R₁ + π * ω₁^2 * g_superLorentzian(ω₀))\n",
    "\n",
    "Rʳᶠ = π * ω₁^2 * g_superLorentzian(ω₀)\n",
    "z_Graham_superLorentzian = @. (Rʳᶠ * exp(-t * (R₁ + Rʳᶠ)) + R₁) / (R₁ + Rʳᶠ)\n",
    "\n",
    "G_superLorentzian = interpolate_greens_function(greens_superlorentzian, 0, Tʳᶠ/T₂ˢ)\n",
    "\n",
    "param = (ω₁, 1, ω₀, R₁, T₂ˢ, G_superLorentzian)\n",
    "prob = ODEProblem(apply_hamiltonian_sled!, z₀, tspan, param)\n",
    "z_Sled_superLorentzian = solve(prob)\n",
    "\n",
    "prob = DDEProblem(apply_hamiltonian_gbloch!, z₀, zfun, tspan, param)\n",
    "z_gBloch_superLorentzian = solve(prob)\n",
    "\n",
    "\n",
    "p = plot(xlabel=\"t [ms]\", ylabel=\"zˢ(t)\")\n",
    "plot!(p, 1e3t, zero(similar(t)) .+ z_steady_state_superLorentzian, label=\"Henkelman's steady-state\")\n",
    "plot!(p, 1e3t, z_Graham_superLorentzian, label=\"Graham's model\")\n",
    "plot!(p, 1e3t, (hcat(z_Sled_superLorentzian(t).u...)'), label=\"Sled's model\")\n",
    "plot!(p, 1e3t, (hcat(z_gBloch_superLorentzian(t).u...)'), label=\"generalized Bloch model\")"
   ],
   "metadata": {},
   "execution_count": null
  },
  {
   "cell_type": "markdown",
   "source": [
    "---\n",
    "\n",
    "*This notebook was generated using [Literate.jl](https://github.com/fredrikekre/Literate.jl).*"
   ],
   "metadata": {}
  }
 ],
 "nbformat_minor": 3,
 "metadata": {
  "language_info": {
   "file_extension": ".jl",
   "mimetype": "application/julia",
   "name": "julia",
   "version": "1.9.2"
  },
  "kernelspec": {
   "name": "julia-1.9",
   "display_name": "Julia 1.9.2",
   "language": "julia"
  }
 },
 "nbformat": 4
}
