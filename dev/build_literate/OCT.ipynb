{
 "cells": [
  {
   "cell_type": "markdown",
   "source": [
    "# Optimal Control\n",
    "This section provides a brief introduction to the package's interface for sequence optimization. We use the Cramer-Rao bound](https://en.wikipedia.org/wiki/Cramér–Rao_bound) (CRB) to assess a sequence's performance and optimize the amplitudes (ω1) and durations (TRF) of a train of RF-pulses to reduce the CRB, assuming a [Balanced Hybrid-State Free Precession Pulse Sequence. For computational efficiency, the derivatives of the CRB wrt. ω1 and TRF are calcuated with the adjoint state method as known from the [optimal control literature](https://www.sciencedirect.com/science/article/pii/S1090780703001538)."
   ],
   "metadata": {}
  },
  {
   "cell_type": "markdown",
   "source": [
    "For this tutorial, we use the following packages:"
   ],
   "metadata": {}
  },
  {
   "outputs": [],
   "cell_type": "code",
   "source": [
    "using MRIgeneralizedBloch\n",
    "using LinearAlgebra\n",
    "BLAS.set_num_threads(1) # single threaded is faster in this case\n",
    "using Optim             # provides the optimization algorithm\n",
    "using Plots"
   ],
   "metadata": {},
   "execution_count": null
  },
  {
   "cell_type": "markdown",
   "source": [
    "Here, we optimize the pulse sequence for a predefined set of parameters:"
   ],
   "metadata": {}
  },
  {
   "outputs": [],
   "cell_type": "code",
   "source": [
    "m0s = 0.15\n",
    "R1f = 0.5   # 1/s\n",
    "R2f = 15    # 1/s\n",
    "Rx = 30     # 1/s\n",
    "R1s = 3     # 1/s\n",
    "T2s = 10e-6 # s\n",
    "ω0 = 0      # rad/s\n",
    "B1 = 1;     # in units of B1_nominal"
   ],
   "metadata": {},
   "execution_count": null
  },
  {
   "cell_type": "markdown",
   "source": [
    "and we optimize"
   ],
   "metadata": {}
  },
  {
   "outputs": [],
   "cell_type": "code",
   "source": [
    "Npulse = 200;"
   ],
   "metadata": {},
   "execution_count": null
  },
  {
   "cell_type": "markdown",
   "source": [
    "pulses, spaced"
   ],
   "metadata": {}
  },
  {
   "outputs": [],
   "cell_type": "code",
   "source": [
    "TR = 3.5e-3; # s"
   ],
   "metadata": {},
   "execution_count": null
  },
  {
   "cell_type": "markdown",
   "source": [
    "apart. A cyle duration of"
   ],
   "metadata": {}
  },
  {
   "outputs": [],
   "cell_type": "code",
   "source": [
    "Npulse * TR"
   ],
   "metadata": {},
   "execution_count": null
  },
  {
   "cell_type": "markdown",
   "source": [
    "seconds is much shorter than the optimal durations, which are roughly in the range of 4-10s, but we reduce `Npulse` speed up the computations in this demonstration. We precompute the linear the Linear Approximation of the generalized Bloch model:"
   ],
   "metadata": {}
  },
  {
   "outputs": [],
   "cell_type": "code",
   "source": [
    "R2slT = precompute_R2sl();"
   ],
   "metadata": {},
   "execution_count": null
  },
  {
   "cell_type": "markdown",
   "source": [
    "In the calculation of the CRB, we account for following gradients:"
   ],
   "metadata": {}
  },
  {
   "outputs": [],
   "cell_type": "code",
   "source": [
    "grad_list = [grad_m0s(), grad_R1f(), grad_R2f(), grad_Rx(), grad_R1s(), grad_T2s(), grad_ω0(), grad_B1()];"
   ],
   "metadata": {},
   "execution_count": null
  },
  {
   "cell_type": "markdown",
   "source": [
    "and we sum the CRB of all parameters, weighted by the following vector:"
   ],
   "metadata": {}
  },
  {
   "outputs": [],
   "cell_type": "code",
   "source": [
    "weights = transpose([0, 1, 0, 0, 0, 0, 0, 0, 0]);"
   ],
   "metadata": {},
   "execution_count": null
  },
  {
   "cell_type": "markdown",
   "source": [
    "Note that the vector `weights` has one more entry compared to the `grad_list` vector, as the first value always indicates the derivative wrt. $M_0$, which is calculated in any case. Here, we only optimize for the CRB of $m_0^s$, while accounting for a fit of all 9 model parameters. Hence, we can use an arbitrary weighting for the CRB of $m_0^s$."
   ],
   "metadata": {}
  },
  {
   "cell_type": "markdown",
   "source": [
    "We take some initial guess for the pulse train:"
   ],
   "metadata": {}
  },
  {
   "outputs": [],
   "cell_type": "code",
   "source": [
    "α = abs.(sin.((1:Npulse) * 2π/Npulse));"
   ],
   "metadata": {},
   "execution_count": null
  },
  {
   "cell_type": "markdown",
   "source": [
    "initialize with a constant `TRF = 300μs`:"
   ],
   "metadata": {}
  },
  {
   "outputs": [],
   "cell_type": "code",
   "source": [
    "TRF = 300e-6 .* one.(α);"
   ],
   "metadata": {},
   "execution_count": null
  },
  {
   "cell_type": "markdown",
   "source": [
    "and define that first RF pulse as a 500μs inversion pulse by modifying vectors accordingly and by creating a bit vector that indicates the position of the inversion pulse:"
   ],
   "metadata": {}
  },
  {
   "outputs": [],
   "cell_type": "code",
   "source": [
    "α[1] = π # first pulse is an inversion pulse\n",
    "TRF[1] = 500e-6 # first pulse is an inversion pulse\n",
    "isInversionPulse = [true, falses(length(α)-1)...];"
   ],
   "metadata": {},
   "execution_count": null
  },
  {
   "cell_type": "markdown",
   "source": [
    "We calculate the initial `ω1`"
   ],
   "metadata": {}
  },
  {
   "outputs": [],
   "cell_type": "code",
   "source": [
    "ω1 = α ./ TRF;"
   ],
   "metadata": {},
   "execution_count": null
  },
  {
   "cell_type": "markdown",
   "source": [
    "and plot the inital control:"
   ],
   "metadata": {}
  },
  {
   "outputs": [],
   "cell_type": "code",
   "source": [
    "p1 = plot(TR*(1:Npulse), α ./ π, ylabel=\"α/π\")\n",
    "p2 = plot(TR*(1:Npulse), 1e6TRF, ylim=(0, 1e3), xlabel=\"t (s)\", ylabel=\"TRF (μs)\")\n",
    "p = plot(p1, p2, layout=(2, 1), legend=:none)"
   ],
   "metadata": {},
   "execution_count": null
  },
  {
   "cell_type": "markdown",
   "source": [
    "With above defined weights, the function CRB_gradient_OCT returns the CRB"
   ],
   "metadata": {}
  },
  {
   "outputs": [],
   "cell_type": "code",
   "source": [
    "(CRBm0s, grad_ω1, grad_TRF) = MRIgeneralizedBloch.CRB_gradient_OCT(ω1, TRF, TR, ω0, B1, m0s, R1f, R2f, Rx, R1s, T2s, R2slT, grad_list, weights, isInversionPulse=isInversionPulse)\n",
    "CRBm0s"
   ],
   "metadata": {},
   "execution_count": null
  },
  {
   "cell_type": "markdown",
   "source": [
    "along with the gradients:"
   ],
   "metadata": {}
  },
  {
   "outputs": [],
   "cell_type": "code",
   "source": [
    "p1 = plot(TR*(1:Npulse), grad_ω1  .* ((-1) .^ (1:Npulse)), ylabel=\"∂CRB(m0s) / ∂ω1 (s/rad)\")\n",
    "p2 = plot(TR*(1:Npulse), grad_TRF .* ((-1) .^ (1:Npulse)), ylabel=\"∂CRB(m0s) / ∂TRF (1/s)\", xlabel=\"t (s)\")\n",
    "p = plot(p1, p2, layout=(2, 1), legend=:none)"
   ],
   "metadata": {},
   "execution_count": null
  },
  {
   "cell_type": "markdown",
   "source": [
    "Note that we remove the oszillating nature of the gradient here for the display."
   ],
   "metadata": {}
  },
  {
   "cell_type": "markdown",
   "source": [
    "In this example, we limit the control to the following bounds"
   ],
   "metadata": {}
  },
  {
   "outputs": [],
   "cell_type": "code",
   "source": [
    "ω1_min  = 0      # rad/s\n",
    "ω1_max  = 2e3π   # rad/s\n",
    "TRF_min = 100e-6 # s\n",
    "TRF_max = 500e-6; # s"
   ],
   "metadata": {},
   "execution_count": null
  },
  {
   "cell_type": "markdown",
   "source": [
    "and the function `bound_ω1_TRF!` modifies `ω1` and `TRF` to comply with these bounds and returns a single vector in the range `[-Inf, Inf]` that relates to the bounded control by a `tanh` transformation:"
   ],
   "metadata": {}
  },
  {
   "outputs": [],
   "cell_type": "code",
   "source": [
    "x0 = MRIgeneralizedBloch.bound_ω1_TRF!(ω1, TRF; ω1_min = ω1_min, ω1_max = ω1_max, TRF_min = TRF_min, TRF_max = TRF_max)"
   ],
   "metadata": {},
   "execution_count": null
  },
  {
   "cell_type": "markdown",
   "source": [
    "Further, we initialze a gradient of the same length:"
   ],
   "metadata": {}
  },
  {
   "outputs": [],
   "cell_type": "code",
   "source": [
    "G = similar(x0);"
   ],
   "metadata": {},
   "execution_count": null
  },
  {
   "cell_type": "markdown",
   "source": [
    "and define a cost function:"
   ],
   "metadata": {}
  },
  {
   "outputs": [],
   "cell_type": "code",
   "source": [
    "function fg!(F, G, x)\n",
    "    ω1, TRF = MRIgeneralizedBloch.get_bounded_ω1_TRF(x; ω1_min = ω1_min, ω1_max = ω1_max, TRF_min = TRF_min, TRF_max = TRF_max)\n",
    "\n",
    "    (F, grad_ω1, grad_TRF) = MRIgeneralizedBloch.CRB_gradient_OCT(ω1, TRF, TR, ω0, B1, m0s, R1f, R2f, Rx, R1s, T2s, R2slT, grad_list, weights, isInversionPulse=isInversionPulse)\n",
    "    F = abs(F)\n",
    "\n",
    "    F += MRIgeneralizedBloch.second_order_α!(grad_ω1, grad_TRF, ω1, TRF; λ=1e4)\n",
    "    F += MRIgeneralizedBloch.RF_power!(grad_ω1, grad_TRF, ω1, TRF, λ=1e-3, Pmax=3e6, TR=TR)\n",
    "    F += MRIgeneralizedBloch.TRF_TV!(grad_TRF, ω1, TRF; λ=1e3)\n",
    "\n",
    "    MRIgeneralizedBloch.apply_bounds_to_grad!(G, x, grad_ω1, grad_TRF; ω1_min = ω1_min, ω1_max = ω1_max, TRF_min = TRF_min, TRF_max = TRF_max)\n",
    "    return F\n",
    "end;"
   ],
   "metadata": {},
   "execution_count": null
  },
  {
   "cell_type": "markdown",
   "source": [
    "We use the packge Optim.jl](https://julianlsolvers.github.io/Optim.jl/stable/), which requires the cost function `fg!(F, G, x)` to take the cost, the gradient, and the control as input variables and it will over-writes the gradient in place. The cost function calculates the gradient of the CRB with above described optimal control code and we, further, add some regularization terms: [`second_order_α!` penalizes the curvature of α, which results in smoother flip angle trains and helps ensuring the hybrid state conditions](https://www.nature.com/articles/s42005-019-0174-0). The penalty [`RF_power!` penalizes the power deposition of the RF-pulse train if $sum(ω_1^2 ⋅ T_\\text{RF}) / T_\\text{cycle} ≥ Pmax$ and helps with compliance with safety limits. Assuming a reasonble `λ`, the resulting enery will be `Pmax` in units of (rad/s)² and averaged over the cycle. The value `Pmax=3e6` (rad/s)² heuristically proofed to run reliably on a 3T system. The penalty `TRF_TV!` penalizes fast fluctuations of $T_\\text{RF}$, as know that fluctuations of $ω_1$ and $T_\\text{RF}$ have negligible effect if they are fast than the biophysical time constants. We note, however, that this penalty is not required and rather ensure *beauty* of the result."
   ],
   "metadata": {}
  },
  {
   "cell_type": "markdown",
   "source": [
    "With all this in place, we can start the actual optimization"
   ],
   "metadata": {}
  },
  {
   "outputs": [],
   "cell_type": "code",
   "source": [
    "result = optimize(Optim.only_fg!(fg!), # cost function\n",
    "    x0,                                # initialization\n",
    "    BFGS(),                            # algorithm\n",
    "    Optim.Options(show_trace=true,     # show cost function\n",
    "        iterations=10_000,             # larger number as we use a time limit\n",
    "        time_limit=(15*60)             # in seconds\n",
    "        )\n",
    "    )"
   ],
   "metadata": {},
   "execution_count": null
  },
  {
   "cell_type": "markdown",
   "source": [
    "and see that the CRB(m0s) has reduced substantially:"
   ],
   "metadata": {}
  },
  {
   "outputs": [],
   "cell_type": "code",
   "source": [
    "(CRBm0s, grad_ω1, grad_TRF) = MRIgeneralizedBloch.CRB_gradient_OCT(ω1, TRF, TR, ω0, B1, m0s, R1f, R2f, Rx, R1s, T2s, R2slT, grad_list, weights, isInversionPulse=isInversionPulse)\n",
    "CRBm0s"
   ],
   "metadata": {},
   "execution_count": null
  },
  {
   "cell_type": "markdown",
   "source": [
    "After transfering the result back into the space of bounded $ω_1$ and $T_\\text{RF}$ values"
   ],
   "metadata": {}
  },
  {
   "outputs": [],
   "cell_type": "code",
   "source": [
    "ω1, TRF = MRIgeneralizedBloch.get_bounded_ω1_TRF(result.minimizer; ω1_min = ω1_min, ω1_max = ω1_max, TRF_min = TRF_min, TRF_max = TRF_max);"
   ],
   "metadata": {},
   "execution_count": null
  },
  {
   "cell_type": "markdown",
   "source": [
    "and calculating the flip angle, we can plot the optimized control:"
   ],
   "metadata": {}
  },
  {
   "outputs": [],
   "cell_type": "code",
   "source": [
    "α = ω1 .* TRF\n",
    "p1 = plot(TR*(1:Npulse), α ./ π, ylabel=\"α/π\")\n",
    "p2 = plot(TR*(1:Npulse), 1e6TRF, ylim=(0, 1e3), xlabel=\"t (s)\", ylabel=\"TRF (μs)\")\n",
    "p = plot(p1, p2, layout=(2, 1), legend=:none)"
   ],
   "metadata": {},
   "execution_count": null
  },
  {
   "cell_type": "markdown",
   "source": [
    "To analyze the results, we can calculate and plot all magnetization components:"
   ],
   "metadata": {}
  },
  {
   "outputs": [],
   "cell_type": "code",
   "source": [
    "m = calculatesignal_linearapprox(α, TRF, TR, ω0, B1, m0s, R1f, R2f, Rx, R1s, T2s, R2slT; output=:realmagnetization)\n",
    "m = vec(m)\n",
    "\n",
    "xf = [m[i][1] for i=1:length(m)]\n",
    "yf = [m[i][2] for i=1:length(m)]\n",
    "zf = [m[i][3] for i=1:length(m)]\n",
    "xs = [m[i][4] for i=1:length(m)]\n",
    "zs = [m[i][5] for i=1:length(m)]\n",
    "\n",
    "p = plot(xlabel=\"t (s)\", ylabel=\"m (normalized)\")\n",
    "plot!(p, TR*(1:Npulse), xf ./(1-m0s), label=\"xᶠ\")\n",
    "plot!(p, TR*(1:Npulse), yf ./(1-m0s), label=\"yᶠ\")\n",
    "plot!(p, TR*(1:Npulse), zf ./(1-m0s), label=\"zᶠ\")\n",
    "plot!(p, TR*(1:Npulse), xs ./   m0s , label=\"xˢ\")\n",
    "plot!(p, TR*(1:Npulse), zs ./   m0s , label=\"zˢ\")"
   ],
   "metadata": {},
   "execution_count": null
  },
  {
   "cell_type": "markdown",
   "source": [
    "And we can also plot the dynamics of the free spin pool on the Bloch sphere:"
   ],
   "metadata": {}
  },
  {
   "outputs": [],
   "cell_type": "code",
   "source": [
    "p = plot(xf, zf, xlabel=\"xf\", ylabel=\"zf\")"
   ],
   "metadata": {},
   "execution_count": null
  },
  {
   "cell_type": "markdown",
   "source": [
    "As yᶠ is close to zero in this particular case, we neglect it in this 2D plot."
   ],
   "metadata": {}
  },
  {
   "cell_type": "markdown",
   "source": [
    "---\n",
    "\n",
    "*This notebook was generated using [Literate.jl](https://github.com/fredrikekre/Literate.jl).*"
   ],
   "metadata": {}
  }
 ],
 "nbformat_minor": 3,
 "metadata": {
  "language_info": {
   "file_extension": ".jl",
   "mimetype": "application/julia",
   "name": "julia",
   "version": "1.6.5"
  },
  "kernelspec": {
   "name": "julia-1.6",
   "display_name": "Julia 1.6.5",
   "language": "julia"
  }
 },
 "nbformat": 4
}
