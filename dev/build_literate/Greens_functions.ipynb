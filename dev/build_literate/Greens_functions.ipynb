{
 "cells": [
  {
   "cell_type": "markdown",
   "source": [
    "# Green's Functions\n",
    "The Green's functions are given by the Fourier transform of the corresponding lineshapes. For a Lorentzian lineshape, the Green's function is\n",
    "$$\n",
    "\tG(t,\\tau) = \\exp (-R_2^s (t-\\tau)) \\;\\; \\forall \\;\\; t \\geq \\tau,\n",
    "$$\n",
    "for a Gaussian lineshape it is\n",
    "$$\n",
    "\tG(t,\\tau) = \\exp(- {R_2^s}^2 (t-\\tau)^2 / 2)),\n",
    "$$\n",
    "and for [super-Lorentzian lineshape](http://dx.doi.org/10.1002/mrm.1910330404) it is\n",
    "$$\n",
    "\tG(t,\\tau) = \\int_0^{1} \\exp \\left(- {R_2^s}^2 (t - \\tau)^2 \\cdot  \\frac{(3 \\zeta^2 - 1)^2}{8} \\right) d\\zeta.\n",
    "$$\n",
    "As evident from these equations, the Green's functions are merely a function of $\\kappa = R_2^s \\cdot (t - \\tau) = (t - \\tau) / T_2^s$, and in this package we implemented the functions as such: `greens_lorentzian(κ)`, `greens_gaussian(κ)`, and `greens_superlorentzian(κ)`. These functions can be used to reproduce Fig. 1 in the generalized Bloch paper:"
   ],
   "metadata": {}
  },
  {
   "outputs": [],
   "cell_type": "code",
   "source": [
    "using MRIgeneralizedBloch\n",
    "using Plots"
   ],
   "metadata": {},
   "execution_count": null
  },
  {
   "outputs": [],
   "cell_type": "code",
   "source": [
    "T₂ˢ = 10e-6 # s\n",
    "t = 0 : 1e-6 : 1e-3\n",
    "p = plot(yaxis=:log, ylim=(1e-6,1), xlabel=\"(t-τ) [ms]\", ylabel=\"G((t-τ)/T₂ˢ)\")\n",
    "plot!(p, 1e3t, greens_lorentzian.(t ./ T₂ˢ), label=\"Lorentzian lineshape\")\n",
    "plot!(p, 1e3t, greens_gaussian.(t ./ T₂ˢ), label=\"Gaussian lineshape\")\n",
    "plot!(p, 1e3t, greens_superlorentzian.(t ./ T₂ˢ), label=\"super-Lorentzian l.\")"
   ],
   "metadata": {},
   "execution_count": null
  },
  {
   "cell_type": "markdown",
   "source": [
    "---\n",
    "\n",
    "*This notebook was generated using [Literate.jl](https://github.com/fredrikekre/Literate.jl).*"
   ],
   "metadata": {}
  }
 ],
 "nbformat_minor": 3,
 "metadata": {
  "language_info": {
   "file_extension": ".jl",
   "mimetype": "application/julia",
   "name": "julia",
   "version": "1.9.1"
  },
  "kernelspec": {
   "name": "julia-1.9",
   "display_name": "Julia 1.9.1",
   "language": "julia"
  }
 },
 "nbformat": 4
}
