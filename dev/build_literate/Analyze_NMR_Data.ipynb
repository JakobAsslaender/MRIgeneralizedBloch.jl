{
 "cells": [
  {
   "cell_type": "markdown",
   "source": [
    "# NMR Data Analysis\n",
    "The following code replicates the NMR data analysis in Fig. 4, including the full MnCl$_2$ analysis that is not shown in the paper in the interest of brevity."
   ],
   "metadata": {}
  },
  {
   "cell_type": "markdown",
   "source": [
    "For this analysis we need the following packages:"
   ],
   "metadata": {}
  },
  {
   "outputs": [],
   "cell_type": "code",
   "source": [
    "using MRIgeneralizedBloch\n",
    "using DifferentialEquations\n",
    "using LinearAlgebra\n",
    "using LsqFit\n",
    "using Statistics\n",
    "import Pingouin\n",
    "using Printf\n",
    "using Formatting\n",
    "using Plots\n",
    "plotlyjs(ticks=:native);"
   ],
   "metadata": {},
   "execution_count": null
  },
  {
   "cell_type": "markdown",
   "source": [
    "The raw data is stored in a separate [github repository](https://github.com/JakobAsslaender/MRIgeneralizedBloch_NMRData) and the following functions return the URL to the individual files:"
   ],
   "metadata": {}
  },
  {
   "outputs": [],
   "cell_type": "code",
   "source": [
    "MnCl2_data(TRF_scale) = string(\"https://github.com/JakobAsslaender/MRIgeneralizedBloch_NMRData/blob/main/20210419_1mM_MnCl2/ja_IR_v2%20(\", TRF_scale, \")/1/data.2d?raw=true\")\n",
    "BSA_data(TRF_scale)   = string(\"https://github.com/JakobAsslaender/MRIgeneralizedBloch_NMRData/blob/main/20210416_15%25BSA_2ndBatch/ja_IR_v2%20(\", TRF_scale, \")/1/data.2d?raw=true\");"
   ],
   "metadata": {},
   "execution_count": null
  },
  {
   "cell_type": "markdown",
   "source": [
    "which can be loaded with functions implemented in this file:"
   ],
   "metadata": {}
  },
  {
   "outputs": [],
   "cell_type": "code",
   "source": [
    "include(string(pathof(MRIgeneralizedBloch), \"/../../docs/src/load_NMR_data.jl\"));"
   ],
   "metadata": {},
   "execution_count": null
  },
  {
   "cell_type": "markdown",
   "source": [
    "## MnCl$_2$ Probe\n",
    "### $T_2^{*,f}$ Estimation\n",
    "We estimate $T_2^{*,f}$ by fitting a mono-exponential decay curve to the FID of the acquisition with $T_\\text{RF} = 22.8$μs and $T_\\text{i} = 5$s."
   ],
   "metadata": {}
  },
  {
   "outputs": [],
   "cell_type": "code",
   "source": [
    "M = load_Data(MnCl2_data(1))\n",
    "M = M[:,1]; # select Ti = 5s"
   ],
   "metadata": {},
   "execution_count": null
  },
  {
   "cell_type": "markdown",
   "source": [
    "The data was measured at the following time points in units of seconds:"
   ],
   "metadata": {}
  },
  {
   "outputs": [],
   "cell_type": "code",
   "source": [
    "T_dwell = 100e-6 # s\n",
    "TE = T_dwell * ((1:length(M)) .+ 7) # s"
   ],
   "metadata": {},
   "execution_count": null
  },
  {
   "cell_type": "markdown",
   "source": [
    "Note that the signal is an FID, so the phrase *echo* time is a bit misleading."
   ],
   "metadata": {}
  },
  {
   "cell_type": "markdown",
   "source": [
    "The function [curve_fit](https://julianlsolvers.github.io/LsqFit.jl/latest/api/#LsqFit.curve_fit) from the [LsqFit.jl](https://julianlsolvers.github.io/LsqFit.jl/latest/) package is only implemented for real-valued models. To accommodate this, we need to split the data into its real and imaginary part:"
   ],
   "metadata": {}
  },
  {
   "outputs": [],
   "cell_type": "code",
   "source": [
    "TEreal = [TE;TE]\n",
    "Mreal = [real(M);imag(M)];"
   ],
   "metadata": {},
   "execution_count": null
  },
  {
   "cell_type": "markdown",
   "source": [
    "Here, we are using a simple mono-exponential model with a complex-valued scaling factor `p[1] + 1im p[2]`, the decay time $T_2^{*,f} =$ `p[3]`, and the Larmor frequency `p[4]`:"
   ],
   "metadata": {}
  },
  {
   "outputs": [],
   "cell_type": "code",
   "source": [
    "FID_model(t, p) = @. [p[1] * exp(- t[1:end ÷ 2] / p[3]) * cos(p[4] * t[1:end ÷ 2]); p[2] * exp(- t[end ÷ 2 + 1:end] / p[3]) * sin(p[4] * t[end ÷ 2 + 1:end])];"
   ],
   "metadata": {},
   "execution_count": null
  },
  {
   "cell_type": "markdown",
   "source": [
    "Fitting this model to the NMR data estimates $T_2^{*,f}$:"
   ],
   "metadata": {}
  },
  {
   "outputs": [],
   "cell_type": "code",
   "source": [
    "fit = curve_fit(FID_model, TEreal, Mreal, [1, 1, 0.1, 0])\n",
    "T2star_MnCl2 = fit.param[3] # s"
   ],
   "metadata": {},
   "execution_count": null
  },
  {
   "cell_type": "markdown",
   "source": [
    "seconds and its uncertainty (also in units of seconds)"
   ],
   "metadata": {}
  },
  {
   "outputs": [],
   "cell_type": "code",
   "source": [
    "stderror(fit)[3] # s"
   ],
   "metadata": {},
   "execution_count": null
  },
  {
   "cell_type": "markdown",
   "source": [
    "Visually, the plot and the data show good agreement:"
   ],
   "metadata": {}
  },
  {
   "outputs": [],
   "cell_type": "code",
   "source": [
    "Mfitted = FID_model(TEreal, fit.param)\n",
    "Mfitted = Mfitted[1:end÷2] + 1im * Mfitted[end÷2+1:end]\n",
    "p = plot(xlabel=\"TE [s]\", ylabel=\"|FID(TE)| [a.u.]\")\n",
    "plot!(p, TE, abs.(M), label=\"data\")\n",
    "plot!(p, TE, abs.(Mfitted), label=@sprintf(\"fit with T2* = %2.3f ms\", 1e3 * T2star_MnCl2))"
   ],
   "metadata": {},
   "execution_count": null
  },
  {
   "cell_type": "markdown",
   "source": [
    "The relative residual norm of the fit, i.e. $||residual||_2/||M||_2$ is"
   ],
   "metadata": {}
  },
  {
   "outputs": [],
   "cell_type": "code",
   "source": [
    "norm(fit.resid) / norm(M)"
   ],
   "metadata": {},
   "execution_count": null
  },
  {
   "cell_type": "markdown",
   "source": [
    "Despite its small $\\ell_2$-norm, the Shapiro-Wilk test indicates that the residual is not Gaussian or normal distributed at a significance level of `α=0.05`"
   ],
   "metadata": {}
  },
  {
   "outputs": [],
   "cell_type": "code",
   "source": [
    "Pingouin.normality(fit.resid, α=0.05)"
   ],
   "metadata": {},
   "execution_count": null
  },
  {
   "cell_type": "markdown",
   "source": [
    "We note that mono-exponential $T_2^*$ decays assume a Lorentzian distributed magnetic field, which is in general an assumption rather than a well-founded theory."
   ],
   "metadata": {}
  },
  {
   "cell_type": "markdown",
   "source": [
    "### Mono-Exponential IR Model\n",
    "We performed several experiments in which we inverted the thermal equilibrium magnetization with rectangular π-pulses with the following pulse durations (in seconds):"
   ],
   "metadata": {}
  },
  {
   "outputs": [],
   "cell_type": "code",
   "source": [
    "TRFmin = 22.8e-6 # s - shortest TRF possible on the NMR\n",
    "TRF_scale = [1;2;5:5:40] # scaling factor\n",
    "TRF = TRF_scale * TRFmin # s"
   ],
   "metadata": {},
   "execution_count": null
  },
  {
   "cell_type": "markdown",
   "source": [
    "and acquired inversion recovery data at exponentially spaced inversion times (in seconds):"
   ],
   "metadata": {}
  },
  {
   "outputs": [],
   "cell_type": "code",
   "source": [
    "Ti = exp.(range(log(3e-3), log(5), length=20)) # s\n",
    "Ti .+= 12 * TRFmin + (13 * 15.065 - 5) * 1e-6 # s - correction factors"
   ],
   "metadata": {},
   "execution_count": null
  },
  {
   "cell_type": "markdown",
   "source": [
    "We calculate the Rabi frequencies of the RF pulses and a finer grid of $T_\\text{i}$ to plot the IR model:"
   ],
   "metadata": {}
  },
  {
   "outputs": [],
   "cell_type": "code",
   "source": [
    "ω1 = π ./ TRF # rad/s\n",
    "TIplot = exp.(range(log(Ti[1]), log(Ti[end]), length=500)); # s"
   ],
   "metadata": {},
   "execution_count": null
  },
  {
   "cell_type": "markdown",
   "source": [
    "After loading and normalizing the data"
   ],
   "metadata": {}
  },
  {
   "outputs": [],
   "cell_type": "code",
   "source": [
    "M = zeros(Float64, length(Ti), length(TRF_scale))\n",
    "for i = 1:length(TRF_scale)\n",
    "    M[:,i] = load_spectral_integral(MnCl2_data(TRF_scale[i]))\n",
    "end\n",
    "M ./= maximum(M);"
   ],
   "metadata": {},
   "execution_count": null
  },
  {
   "cell_type": "markdown",
   "source": [
    "we analyze each inversion recovery curve that corresponds to a different $T_\\text{RF}$ separately. This allows us to fit a simple mono-exponential model"
   ],
   "metadata": {}
  },
  {
   "outputs": [],
   "cell_type": "code",
   "source": [
    "standard_IR_model(t, p) = @. p[1] - p[3] * exp(- t * p[2]);"
   ],
   "metadata": {},
   "execution_count": null
  },
  {
   "cell_type": "markdown",
   "source": [
    "where `p[1]` is the thermal equilibrium magnetization, `p[2]` $= T_1$, and `p[1] - p[3]` is the magnetization right after the inversion pulse or, equivalently, `Minv = p[1] / p[3] - 1` is the inversion efficiency, which is 1 for an ideal π-pulse and smaller otherwise. The parameters are initialized with"
   ],
   "metadata": {}
  },
  {
   "outputs": [],
   "cell_type": "code",
   "source": [
    "p0 = [1.0, 1.0, 2.0];"
   ],
   "metadata": {},
   "execution_count": null
  },
  {
   "cell_type": "markdown",
   "source": [
    "and we can loop over $T_\\text{RF}$ to perform the fits:"
   ],
   "metadata": {}
  },
  {
   "outputs": [],
   "cell_type": "code",
   "source": [
    "R1 = similar(M[1,:])\n",
    "residual = similar(R1)\n",
    "p = plot(xlabel=\"Ti [s]\", ylabel=\"zf(TRF, Ti) [a.u.]\")\n",
    "for i = 1:length(TRF_scale)\n",
    "    Mi = @view M[:,i]\n",
    "\n",
    "    fit = curve_fit(standard_IR_model, Ti, Mi, p0)\n",
    "\n",
    "    R1[i] = fit.param[2]\n",
    "    Minv = fit.param[3] / fit.param[1] - 1\n",
    "\n",
    "    residual[i] = norm(fit.resid) / norm(Mi)\n",
    "\n",
    "    scatter!(p, Ti, Mi, label=@sprintf(\"TRF = %1.2es - data\", TRF[i]), color=i)\n",
    "    plot!(p, TIplot, standard_IR_model(TIplot, fit.param), label=@sprintf(\"fit with R1 = %.3f/s; MInv = %.3f\", R1[i], Minv), color=i)\n",
    "end\n",
    "display(p)"
   ],
   "metadata": {},
   "execution_count": null
  },
  {
   "cell_type": "markdown",
   "source": [
    "Here, the data measured with different $T_\\text{RF}$ are indicated by markers in different colors, and the corresponding fits are the line plots in the same color. The fitted parameters are denoted in the legend and the mean value of all R1 estimates is"
   ],
   "metadata": {}
  },
  {
   "outputs": [],
   "cell_type": "code",
   "source": [
    "mean(R1) # 1/s"
   ],
   "metadata": {},
   "execution_count": null
  },
  {
   "cell_type": "markdown",
   "source": [
    "1/s and its standard deviation in units of 1/s is"
   ],
   "metadata": {}
  },
  {
   "outputs": [],
   "cell_type": "code",
   "source": [
    "std(R1) # 1/s"
   ],
   "metadata": {},
   "execution_count": null
  },
  {
   "cell_type": "markdown",
   "source": [
    "The relative residual norm of the fits is on average"
   ],
   "metadata": {}
  },
  {
   "outputs": [],
   "cell_type": "code",
   "source": [
    "mean(residual)"
   ],
   "metadata": {},
   "execution_count": null
  },
  {
   "cell_type": "markdown",
   "source": [
    "Further, we cannot reject the null hypothesis that the estimated R1 values are Gaussian distributed:"
   ],
   "metadata": {}
  },
  {
   "outputs": [],
   "cell_type": "code",
   "source": [
    "Pingouin.normality(R1, α=0.05)"
   ],
   "metadata": {},
   "execution_count": null
  },
  {
   "cell_type": "markdown",
   "source": [
    "### Global IR fit\n",
    "As an alternative to individual fits to the inversion recovery curves with different $T_\\text{RF}$, we can also perform a global fit that accounts for the $T_2^{*,f}$ decay during the inversion pulse. The model first simulates the $T_2^{*,f}$ decay during the inversion pulse, followed by $T_1$ recovery:"
   ],
   "metadata": {}
  },
  {
   "outputs": [],
   "cell_type": "code",
   "source": [
    "function Bloch_IR_model(p, TRF, Ti, T2)\n",
    "    (m0, m0_inv, R1) = p\n",
    "    R2 = 1 / T2\n",
    "\n",
    "    M = zeros(Float64, length(Ti), length(TRF))\n",
    "    for i = 1:length(TRF)\n",
    "        # simulate inversion pulse\n",
    "        ω1 = π / TRF[i]\n",
    "        H = [-R2 -ω1  0;\n",
    "              ω1 -R1 R1;\n",
    "               0   0  0]\n",
    "\n",
    "        m_inv = m0_inv * (exp(H * TRF[i]) * [0,1,1])[2]\n",
    "\n",
    "        # simulate T1 recovery\n",
    "        H = [-R1 R1 * m0;\n",
    "               0       0]\n",
    "\n",
    "        for j = 1:length(Ti)\n",
    "            M[j,i] = m0 * (exp(H .* (Ti[j] - TRF[i] / 2)) * [m_inv,1])[1]\n",
    "        end\n",
    "    end\n",
    "    return vec(M)\n",
    "end;"
   ],
   "metadata": {},
   "execution_count": null
  },
  {
   "cell_type": "markdown",
   "source": [
    "We use the previously estimated $T_2^{*,f}$ value for the fit:"
   ],
   "metadata": {}
  },
  {
   "outputs": [],
   "cell_type": "code",
   "source": [
    "fit = curve_fit((x, p) -> Bloch_IR_model(p, TRF, Ti, T2star_MnCl2), 1:length(M), vec(M), [ 1, .8, 1])\n",
    "\n",
    "p = plot(xlabel=\"Ti [s]\", ylabel=\"zf(TRF, Ti) [a.u.]\")\n",
    "for i=1:length(TRF)\n",
    "    scatter!(p, Ti, M[:,i], label=@sprintf(\"TRF = %1.2es\", TRF[i]), color=i)\n",
    "    plot!(p, TIplot, Bloch_IR_model(fit.param, TRF[i], TIplot, T2star_MnCl2), label=@sprintf(\"TRF = %1.2es\", TRF[i]), color=i)\n",
    "end\n",
    "display(p)"
   ],
   "metadata": {},
   "execution_count": null
  },
  {
   "cell_type": "markdown",
   "source": [
    "With this global fit, we get a very similar relaxation rate in units of 1/s"
   ],
   "metadata": {}
  },
  {
   "outputs": [],
   "cell_type": "code",
   "source": [
    "R1_MnCl2 = fit.param[3] # 1/s"
   ],
   "metadata": {},
   "execution_count": null
  },
  {
   "cell_type": "markdown",
   "source": [
    "with an uncertainty (also in units of 1/s) of"
   ],
   "metadata": {}
  },
  {
   "outputs": [],
   "cell_type": "code",
   "source": [
    "stderror(fit)[3] # 1/s"
   ],
   "metadata": {},
   "execution_count": null
  },
  {
   "cell_type": "markdown",
   "source": [
    "Note that the relative residual norm is somewhat increased compared to individual fits to each inversion recovery curve:"
   ],
   "metadata": {}
  },
  {
   "outputs": [],
   "cell_type": "code",
   "source": [
    "norm(fit.resid) / norm(M)"
   ],
   "metadata": {},
   "execution_count": null
  },
  {
   "cell_type": "markdown",
   "source": [
    "## Bovine Serum Albumin Probe\n",
    "### $T_2^{*,f}$ Estimation\n",
    "We repeat the $T_2^{*,f}$ estimation for the bovine serum albumin (BSA) probe by fitting a mono-exponential decay curve to the FID of the acquisition with $T_\\text{RF} = 22.8$μs and $T_\\text{i} = 5$s."
   ],
   "metadata": {}
  },
  {
   "outputs": [],
   "cell_type": "code",
   "source": [
    "M = load_Data(BSA_data(1));\n",
    "M = M[:,1] # select Ti = 5s\n",
    "Mreal = [real(M);imag(M)]\n",
    "\n",
    "fit = curve_fit(FID_model, TEreal, Mreal, [1.0, 1.0, .1, 0.0]);"
   ],
   "metadata": {},
   "execution_count": null
  },
  {
   "cell_type": "markdown",
   "source": [
    "The estimated $T_2^{*,f}$ of the BSA probe is"
   ],
   "metadata": {}
  },
  {
   "outputs": [],
   "cell_type": "code",
   "source": [
    "T2star_BSA = fit.param[3] # s"
   ],
   "metadata": {},
   "execution_count": null
  },
  {
   "cell_type": "markdown",
   "source": [
    "seconds with an uncertainty of"
   ],
   "metadata": {}
  },
  {
   "outputs": [],
   "cell_type": "code",
   "source": [
    "stderror(fit)[3] # s"
   ],
   "metadata": {},
   "execution_count": null
  },
  {
   "cell_type": "markdown",
   "source": [
    "seconds."
   ],
   "metadata": {}
  },
  {
   "cell_type": "markdown",
   "source": [
    "Visually, the plot and the data align well for the BSA probe, too:"
   ],
   "metadata": {}
  },
  {
   "outputs": [],
   "cell_type": "code",
   "source": [
    "Mfitted = FID_model(TEreal, fit.param)\n",
    "Mfitted = Mfitted[1:end÷2] + 1im * Mfitted[end÷2+1:end]\n",
    "p = plot(xlabel=\"TE [s]\", ylabel=\"|FID(TE)| [a.u.]\")\n",
    "plot!(p, TE, abs.(M), label=\"data\")\n",
    "plot!(p, TE, abs.(Mfitted), label=@sprintf(\"fit with T2* = %2.3f ms\", 1e3 * T2star_BSA))"
   ],
   "metadata": {},
   "execution_count": null
  },
  {
   "cell_type": "markdown",
   "source": [
    "The relative residual norm ($||residual||_2/||M||_2$) is"
   ],
   "metadata": {}
  },
  {
   "outputs": [],
   "cell_type": "code",
   "source": [
    "norm(fit.resid) / norm(M)"
   ],
   "metadata": {},
   "execution_count": null
  },
  {
   "cell_type": "markdown",
   "source": [
    "Despite the small residual, the Shapiro-Wilk test indicates that the residual is not normal distributed for this probe either:"
   ],
   "metadata": {}
  },
  {
   "outputs": [],
   "cell_type": "code",
   "source": [
    "Pingouin.normality(fit.resid, α=0.05)"
   ],
   "metadata": {},
   "execution_count": null
  },
  {
   "cell_type": "markdown",
   "source": [
    "### Mono-Exponential IR Model\n",
    "We also fit a mono-exponential model to each inversion recovery curve of the BSA data:"
   ],
   "metadata": {}
  },
  {
   "outputs": [],
   "cell_type": "code",
   "source": [
    "M = zeros(Float64, length(Ti), length(TRF_scale))\n",
    "for i = 1:length(TRF_scale)\n",
    "    M[:,i] = load_spectral_integral(BSA_data(TRF_scale[i]))\n",
    "end\n",
    "M ./= maximum(M)\n",
    "\n",
    "R1 = similar(M[1,:])\n",
    "residual = similar(R1)\n",
    "p = plot(xlabel=\"Ti [s]\", ylabel=\"zf(TRF, Ti) [a.u.]\")\n",
    "for i = 1:length(TRF_scale)\n",
    "    Mi = @view M[:,i]\n",
    "\n",
    "    fit = curve_fit(standard_IR_model, Ti, Mi, p0)\n",
    "\n",
    "    R1[i] = fit.param[2]\n",
    "    Minv = fit.param[3] / fit.param[1] - 1\n",
    "\n",
    "    residual[i] = norm(fit.resid) / norm(Mi)\n",
    "\n",
    "    scatter!(p, Ti, Mi, label=@sprintf(\"TRF = %1.2es - data\", TRF[i]), color=i)\n",
    "    plot!(p, TIplot, standard_IR_model(TIplot, fit.param), label=@sprintf(\"fit with R1 = %.3f/s; MInv = %.3f\", R1[i], Minv), color=i)\n",
    "end\n",
    "display(p)"
   ],
   "metadata": {},
   "execution_count": null
  },
  {
   "cell_type": "markdown",
   "source": [
    "Zooming into early phase of the recovery curve reveals the poor fit quality, in particular for long $T_\\text{RF}$. This is also reflected by a substantially larger relative residual norm compared to the MnCl$_2$ probe:"
   ],
   "metadata": {}
  },
  {
   "outputs": [],
   "cell_type": "code",
   "source": [
    "mean(residual)"
   ],
   "metadata": {},
   "execution_count": null
  },
  {
   "cell_type": "markdown",
   "source": [
    "The mean of all R1 fits in units of 1/s is"
   ],
   "metadata": {}
  },
  {
   "outputs": [],
   "cell_type": "code",
   "source": [
    "mean(R1) # 1/s"
   ],
   "metadata": {},
   "execution_count": null
  },
  {
   "cell_type": "markdown",
   "source": [
    "and its standard deviation is substantially larger compared to the same fit of the MnCl$_2$ probe:"
   ],
   "metadata": {}
  },
  {
   "outputs": [],
   "cell_type": "code",
   "source": [
    "std(R1) # 1/s"
   ],
   "metadata": {},
   "execution_count": null
  },
  {
   "cell_type": "markdown",
   "source": [
    "In contrast to the MnCl$_2$ probe, we can reject the null hypothesis that the R1 rates, estimated with a mono-exponential model from the BSA probe with different $T_\\text{RF}$, are Gaussian distributed:"
   ],
   "metadata": {}
  },
  {
   "outputs": [],
   "cell_type": "code",
   "source": [
    "Pingouin.normality(R1, α=0.05)"
   ],
   "metadata": {},
   "execution_count": null
  },
  {
   "cell_type": "markdown",
   "source": [
    "### Global IR Fit - Generalized Bloch Model\n",
    "In order to repeat the global fit that includes all $T_\\text{RF}$ values, we have to account for the spin dynamics in the semi-solid pool during the RF-pulse. First, we do this with the proposed generalized Bloch model:"
   ],
   "metadata": {}
  },
  {
   "outputs": [],
   "cell_type": "code",
   "source": [
    "function gBloch_IR_model(p, G, TRF, TI, R2f)\n",
    "    (m0, m0f_inv, m0s, R1, T2s, Rx) = p\n",
    "    m0f = 1 - m0s\n",
    "    ω1 = π ./ TRF\n",
    "\n",
    "    m0vec = [0, 0, m0f, m0s, 1]\n",
    "    m_fun(p, t; idxs=nothing) = typeof(idxs) <: Number ? 0.0 : zeros(5)\n",
    "\n",
    "\n",
    "    H = [-R1 - m0s * Rx       m0f * Rx R1 * m0f;\n",
    "               m0s * Rx -R1 - m0f * Rx R1 * m0s;\n",
    "         0              0              0       ]\n",
    "\n",
    "    M = zeros(Float64, length(TI), length(TRF))\n",
    "    for i = 1:length(TRF)\n",
    "        m = solve(DDEProblem(apply_hamiltonian_gbloch!, m0vec, m_fun, (0.0, TRF[i]), (ω1[i], 1, 0, m0s, R1, R2f, T2s, Rx, G)))[end]\n",
    "\n",
    "        for j = 1:length(TI)\n",
    "            M[j,i] = m0 * (exp(H .* (TI[j] - TRF[i] / 2)) * [m0f_inv * m[3],m[4],1])[1]\n",
    "        end\n",
    "    end\n",
    "    return vec(M)\n",
    "end;"
   ],
   "metadata": {},
   "execution_count": null
  },
  {
   "cell_type": "markdown",
   "source": [
    "Here, we use assume a super-Lorentzian lineshape, whose Green's function is interpolated to speed up the fitting routine:"
   ],
   "metadata": {}
  },
  {
   "outputs": [],
   "cell_type": "code",
   "source": [
    "T2s_min = 5e-6 # s\n",
    "G_superLorentzian = interpolate_greens_function(greens_superlorentzian, 0, maximum(TRF)/T2s_min);"
   ],
   "metadata": {},
   "execution_count": null
  },
  {
   "cell_type": "markdown",
   "source": [
    "The fit is initialized with `p0 = [m0, m0f_inv, m0_s, R1, T2_s, Rx]` and set some reasonable bounds to the fitted parameters:"
   ],
   "metadata": {}
  },
  {
   "outputs": [],
   "cell_type": "code",
   "source": [
    "p0   = [  1, 0.932,  0.1,   1, 10e-6, 50];\n",
    "pmin = [  0, 0.100,   .0, 0.3,  1e-9, 10];\n",
    "pmax = [Inf,   Inf,  1.0, Inf, 20e-6,1e3];\n",
    "\n",
    "fit = curve_fit((x, p) -> gBloch_IR_model(p, G_superLorentzian, TRF, Ti, 1/T2star_BSA), [], vec(M), p0, lower=pmin, upper=pmax);"
   ],
   "metadata": {},
   "execution_count": null
  },
  {
   "cell_type": "markdown",
   "source": [
    "Visually, the plot and the data align well:"
   ],
   "metadata": {}
  },
  {
   "outputs": [],
   "cell_type": "code",
   "source": [
    "p = plot(xlabel=\"Ti [s]\", ylabel=\"zf(TRF, Ti) [a.u.]\")\n",
    "for i=1:length(TRF)\n",
    "    scatter!(p, Ti, M[:,i], label=@sprintf(\"TRF = %1.2es\", TRF[i]), color=i)\n",
    "    plot!(p, TIplot, gBloch_IR_model(fit.param, G_superLorentzian, TRF[i], TIplot, 1/T2star_BSA), label=@sprintf(\"TRF = %1.2es\", TRF[i]), color=i)\n",
    "end\n",
    "display(p)"
   ],
   "metadata": {},
   "execution_count": null
  },
  {
   "cell_type": "markdown",
   "source": [
    "which becomes particularly apparent when zooming into the beginning of the inversion recovery curves. Further, the relative residual norm is much smaller compared to the mono-exponential fit:"
   ],
   "metadata": {}
  },
  {
   "outputs": [],
   "cell_type": "code",
   "source": [
    "norm(fit.resid) / norm(M)"
   ],
   "metadata": {},
   "execution_count": null
  },
  {
   "cell_type": "markdown",
   "source": [
    "The estimated parameters are"
   ],
   "metadata": {}
  },
  {
   "outputs": [],
   "cell_type": "code",
   "source": [
    "m0 = fit.param[1]"
   ],
   "metadata": {},
   "execution_count": null
  },
  {
   "outputs": [],
   "cell_type": "code",
   "source": [
    "Minv = fit.param[2]"
   ],
   "metadata": {},
   "execution_count": null
  },
  {
   "outputs": [],
   "cell_type": "code",
   "source": [
    "m0s = fit.param[3]"
   ],
   "metadata": {},
   "execution_count": null
  },
  {
   "outputs": [],
   "cell_type": "code",
   "source": [
    "R1 = fit.param[4] # 1/s"
   ],
   "metadata": {},
   "execution_count": null
  },
  {
   "outputs": [],
   "cell_type": "code",
   "source": [
    "T2s = 1e6fit.param[5] # μs"
   ],
   "metadata": {},
   "execution_count": null
  },
  {
   "outputs": [],
   "cell_type": "code",
   "source": [
    "Rx = fit.param[6] # 1/s"
   ],
   "metadata": {},
   "execution_count": null
  },
  {
   "cell_type": "markdown",
   "source": [
    "### Global IR Fit - Graham's Single Frequency Approximation\n",
    "For comparison, we repeat the same fit with [Graham's single frequency approximation](http://dx.doi.org/10.1002/jmri.1880070520):"
   ],
   "metadata": {}
  },
  {
   "outputs": [],
   "cell_type": "code",
   "source": [
    "function Graham_IR_model(p, TRF, TI, R2f)\n",
    "    (m0, m0f_inv, m0s, R1, T2s, Rx) = p\n",
    "    m0f = 1 - m0s\n",
    "    ω1 = π ./ TRF\n",
    "\n",
    "    m0vec = [0, 0, m0f, m0s, 1]\n",
    "\n",
    "    H = [-R1 - m0s * Rx       m0f * Rx R1 * m0f;\n",
    "               m0s * Rx -R1 - m0f * Rx R1 * m0s;\n",
    "         0              0              0       ]\n",
    "\n",
    "    M = zeros(Float64, length(TI), length(TRF))\n",
    "    for i = 1:length(TRF)\n",
    "        m = solve(ODEProblem(apply_hamiltonian_graham_superlorentzian!, m0vec, (0.0, TRF[i]), (ω1[i], 1, 0, TRF[i], m0s, R1, R2f, T2s, Rx)))[end]\n",
    "\n",
    "        for j = 1:length(TI)\n",
    "            M[j,i] = m0 * (exp(H .* (TI[j] - TRF[i] / 2)) * [m0f_inv * m[3],m[4],1])[1]\n",
    "        end\n",
    "    end\n",
    "    return vec(M)\n",
    "end;\n",
    "\n",
    "fit = curve_fit((x, p) -> Graham_IR_model(p, TRF, Ti, 1/T2star_BSA), [], vec(M), p0, lower=pmin, upper=pmax);"
   ],
   "metadata": {},
   "execution_count": null
  },
  {
   "cell_type": "markdown",
   "source": [
    "Visually, the plot and the data align substantially worse:"
   ],
   "metadata": {}
  },
  {
   "outputs": [],
   "cell_type": "code",
   "source": [
    "p = plot(xlabel=\"Ti [s]\", ylabel=\"zf(TRF, Ti) [a.u.]\")\n",
    "for i=1:length(TRF)\n",
    "    scatter!(p, Ti, M[:,i], label=@sprintf(\"TRF = %1.2es\", TRF[i]), color=i)\n",
    "    plot!(p, TIplot, Graham_IR_model(fit.param, TRF[i], TIplot, 1/T2star_BSA), label=@sprintf(\"TRF = %1.2es\", TRF[i]), color=i)\n",
    "end\n",
    "display(p)"
   ],
   "metadata": {},
   "execution_count": null
  },
  {
   "cell_type": "markdown",
   "source": [
    "which becomes particularly apparent when zooming into the beginning of the inversion recovery curves. Further, the relative residual norm is much larger compared to the generalized Bloch fit:"
   ],
   "metadata": {}
  },
  {
   "outputs": [],
   "cell_type": "code",
   "source": [
    "norm(fit.resid) / norm(M)"
   ],
   "metadata": {},
   "execution_count": null
  },
  {
   "cell_type": "markdown",
   "source": [
    "The estimated parameters are"
   ],
   "metadata": {}
  },
  {
   "outputs": [],
   "cell_type": "code",
   "source": [
    "m0 = fit.param[1]"
   ],
   "metadata": {},
   "execution_count": null
  },
  {
   "outputs": [],
   "cell_type": "code",
   "source": [
    "Minv = fit.param[2]"
   ],
   "metadata": {},
   "execution_count": null
  },
  {
   "outputs": [],
   "cell_type": "code",
   "source": [
    "m0s = fit.param[3]"
   ],
   "metadata": {},
   "execution_count": null
  },
  {
   "outputs": [],
   "cell_type": "code",
   "source": [
    "R1 = fit.param[4] # 1/s"
   ],
   "metadata": {},
   "execution_count": null
  },
  {
   "outputs": [],
   "cell_type": "code",
   "source": [
    "T2s = 1e6fit.param[5] # μs"
   ],
   "metadata": {},
   "execution_count": null
  },
  {
   "outputs": [],
   "cell_type": "code",
   "source": [
    "Rx = fit.param[6] # 1/s"
   ],
   "metadata": {},
   "execution_count": null
  },
  {
   "cell_type": "markdown",
   "source": [
    "### Global IR Fit - Sled's Model\n",
    "We also performed the fit with [Sled's model](http://dx.doi.org/10.1006/jmre.2000.2059):"
   ],
   "metadata": {}
  },
  {
   "outputs": [],
   "cell_type": "code",
   "source": [
    "function Sled_IR_model(p, G, TRF, TI, R2f)\n",
    "    (m0, m0f_inv, m0s, R1, T2s, Rx) = p\n",
    "    m0f = 1 - m0s\n",
    "    ω1 = π ./ TRF\n",
    "\n",
    "    m0vec = [0, 0, m0f, m0s, 1]\n",
    "\n",
    "    H = [-R1 - m0s * Rx       m0f * Rx R1 * m0f;\n",
    "               m0s * Rx -R1 - m0f * Rx R1 * m0s;\n",
    "         0              0              0       ]\n",
    "\n",
    "    M = zeros(Float64, length(TI), length(TRF))\n",
    "    for i = 1:length(TRF)\n",
    "        m = solve(ODEProblem(apply_hamiltonian_sled!, m0vec, (0.0, TRF[i]), (ω1[i], 1, 0, m0s, R1, R2f, T2s, Rx, G)))[end]\n",
    "\n",
    "        for j = 1:length(TI)\n",
    "            M[j,i] = m0 * (exp(H .* (TI[j] - TRF[i] / 2)) * [m0f_inv * m[3],m[4],1])[1]\n",
    "        end\n",
    "    end\n",
    "    return vec(M)\n",
    "end;\n",
    "\n",
    "fit = curve_fit((x, p) -> Sled_IR_model(p, G_superLorentzian, TRF, Ti, 1/T2star_BSA), [], vec(M), p0, lower=pmin, upper=pmax);"
   ],
   "metadata": {},
   "execution_count": null
  },
  {
   "cell_type": "markdown",
   "source": [
    "Visually, the plot and the data do align well either:"
   ],
   "metadata": {}
  },
  {
   "outputs": [],
   "cell_type": "code",
   "source": [
    "p = plot(xlabel=\"Ti [s]\", ylabel=\"zf(TRF, Ti) [a.u.]\")\n",
    "for i=1:length(TRF)\n",
    "    scatter!(p, Ti, M[:,i], label=@sprintf(\"TRF = %1.2es\", TRF[i]), color=i)\n",
    "    plot!(p, TIplot, Sled_IR_model(fit.param, G_superLorentzian, TRF[i], TIplot, 1/T2star_BSA), label=@sprintf(\"TRF = %1.2es\", TRF[i]), color=i)\n",
    "end\n",
    "display(p)"
   ],
   "metadata": {},
   "execution_count": null
  },
  {
   "cell_type": "markdown",
   "source": [
    "which becomes particularly apparent when zooming into the beginning of the inversion recovery curves. Further, the relative residual norm is also large compared to the generalized Bloch fit:"
   ],
   "metadata": {}
  },
  {
   "outputs": [],
   "cell_type": "code",
   "source": [
    "norm(fit.resid) / norm(M)"
   ],
   "metadata": {},
   "execution_count": null
  },
  {
   "cell_type": "markdown",
   "source": [
    "The estimated parameters are"
   ],
   "metadata": {}
  },
  {
   "outputs": [],
   "cell_type": "code",
   "source": [
    "m0 = fit.param[1]"
   ],
   "metadata": {},
   "execution_count": null
  },
  {
   "outputs": [],
   "cell_type": "code",
   "source": [
    "Minv = fit.param[2]"
   ],
   "metadata": {},
   "execution_count": null
  },
  {
   "outputs": [],
   "cell_type": "code",
   "source": [
    "m0s = fit.param[3]"
   ],
   "metadata": {},
   "execution_count": null
  },
  {
   "outputs": [],
   "cell_type": "code",
   "source": [
    "R1 = fit.param[4] # 1/s"
   ],
   "metadata": {},
   "execution_count": null
  },
  {
   "outputs": [],
   "cell_type": "code",
   "source": [
    "T2s = 1e6fit.param[5] # μs"
   ],
   "metadata": {},
   "execution_count": null
  },
  {
   "outputs": [],
   "cell_type": "code",
   "source": [
    "Rx = fit.param[6] # 1/s"
   ],
   "metadata": {},
   "execution_count": null
  },
  {
   "cell_type": "markdown",
   "source": [
    "---\n",
    "\n",
    "*This notebook was generated using [Literate.jl](https://github.com/fredrikekre/Literate.jl).*"
   ],
   "metadata": {}
  }
 ],
 "nbformat_minor": 3,
 "metadata": {
  "language_info": {
   "file_extension": ".jl",
   "mimetype": "application/julia",
   "name": "julia",
   "version": "1.6.2"
  },
  "kernelspec": {
   "name": "julia-1.6",
   "display_name": "Julia 1.6.2",
   "language": "julia"
  }
 },
 "nbformat": 4
}
