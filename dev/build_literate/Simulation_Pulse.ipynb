{
 "cells": [
  {
   "cell_type": "markdown",
   "source": [
    "# RF-Pulse Simulation\n",
    "The following code replicates the RF-pulse simulation of Fig. 3 and plots the $z^s$-magnetization at the end of respective pulse."
   ],
   "metadata": {}
  },
  {
   "cell_type": "markdown",
   "source": [
    "For these simulations we need the following packages:"
   ],
   "metadata": {}
  },
  {
   "outputs": [],
   "cell_type": "code",
   "source": [
    "using MRIgeneralizedBloch\n",
    "using QuadGK\n",
    "using DifferentialEquations\n",
    "using SpecialFunctions\n",
    "using Plots"
   ],
   "metadata": {},
   "execution_count": null
  },
  {
   "cell_type": "markdown",
   "source": [
    "and we simulate an isolated semi-solid spin pool with the following parameters:"
   ],
   "metadata": {}
  },
  {
   "outputs": [],
   "cell_type": "code",
   "source": [
    "R₁ = 1 # 1/s\n",
    "T₂ˢ = 10e-6; # s"
   ],
   "metadata": {},
   "execution_count": null
  },
  {
   "cell_type": "markdown",
   "source": [
    "Here, we simulate π-pulses with the following parameters:"
   ],
   "metadata": {}
  },
  {
   "outputs": [],
   "cell_type": "code",
   "source": [
    "α = π\n",
    "Tʳᶠ = exp.(range(log(2e-7), log(1e-1), length=100)) # s\n",
    "ω₁ = α ./ Tʳᶠ # rad/s\n",
    "ω₀ = 0; # rad/s"
   ],
   "metadata": {},
   "execution_count": null
  },
  {
   "cell_type": "markdown",
   "source": [
    "Replace first line with `α = π/4` or `α = π/2` to simulate the other two rows of Fig. 3."
   ],
   "metadata": {}
  },
  {
   "cell_type": "markdown",
   "source": [
    "## Lorentzian Lineshape\n",
    "In this script, we simulate the three lineshapes separately, starting with the Lorentzian lineshape for which the Bloch model provides a ground truth."
   ],
   "metadata": {}
  },
  {
   "cell_type": "markdown",
   "source": [
    "### Bloch Model\n",
    "We can formulate the [Bloch model](http://dx.doi.org/10.1103/PhysRev.70.460) as\n",
    "$$\n",
    "\\partial_t \\begin{pmatrix} x \\\\ y \\\\ z \\\\ 1 \\end{pmatrix} = \\begin{pmatrix}\n",
    "-R_2 & -ω_0 & ω_1 & 0 \\\\\n",
    "ω_0 & -R_2 & 0 & 0 \\\\\n",
    "-ω_1 & 0 & -R_1 & R_1 \\\\\n",
    "0 & 0 & 0 & 0\n",
    "\\end{pmatrix} \\begin{pmatrix} x \\\\ y \\\\ z \\\\ 1 \\end{pmatrix} ,\n",
    "$$\n",
    "where the matrix is the Hamiltonian of the Bloch model. For a constant $ω_0$ and $ω_1$, we can evaluate the Bloch model by taking the  matrix exponential of its Hamiltonian:"
   ],
   "metadata": {}
  },
  {
   "outputs": [],
   "cell_type": "code",
   "source": [
    "H(ω₁, ω₀, R₂, R₁) = [-R₂ -ω₀  ω₁  0;\n",
    "                      ω₀ -R₂   0  0;\n",
    "                     -ω₁   0 -R₁ R₁;\n",
    "                       0   0   0  0]\n",
    "\n",
    "z_Bloch = similar(Tʳᶠ)\n",
    "for i ∈ eachindex(Tʳᶠ)\n",
    "    (_, _, z_Bloch[i], _)  = exp(H(ω₁[i], ω₀, 1 / T₂ˢ, R₁) * Tʳᶠ[i]) * [0; 0; 1; 1]\n",
    "end"
   ],
   "metadata": {},
   "execution_count": null
  },
  {
   "cell_type": "markdown",
   "source": [
    "### Graham's Spectral Model\n",
    "[Graham's spectral model](http://doi.org/10.1002/jmri.1880070520) is derived by integrating over the lineshape multiplied by the spectral response function of the RF-pulse. This results in the RF-induced saturation rate `Rʳᶠ` that is used in an exponential model:"
   ],
   "metadata": {}
  },
  {
   "outputs": [],
   "cell_type": "code",
   "source": [
    "Rʳᶠ = @. ω₁^2 * T₂ˢ * ((exp(-Tʳᶠ / T₂ˢ) -1) * T₂ˢ + Tʳᶠ) / Tʳᶠ\n",
    "z_Graham_spec_Lorentzian = @. (Rʳᶠ * exp(-Tʳᶠ * (R₁ + Rʳᶠ)) + R₁) / (R₁ + Rʳᶠ);"
   ],
   "metadata": {},
   "execution_count": null
  },
  {
   "cell_type": "markdown",
   "source": [
    "### Graham's Single Frequency Approximation\n",
    "In the [single frequency approximation](http://doi.org/10.1002/jmri.1880070520), Graham assumes that the RF-pulse has only a single frequency, which reduces `Rʳᶠ` to"
   ],
   "metadata": {}
  },
  {
   "outputs": [],
   "cell_type": "code",
   "source": [
    "g_Lorentzian(ω₀) = T₂ˢ / π ./ (1 .+ (T₂ˢ .* ω₀).^2)\n",
    "Rʳᶠ = @. π * ω₁^2 * g_Lorentzian(ω₀)\n",
    "z_Graham_SF_approx_Lorentzian = @. (Rʳᶠ * exp(-Tʳᶠ * (R₁ + Rʳᶠ)) + R₁) / (R₁ + Rʳᶠ);"
   ],
   "metadata": {},
   "execution_count": null
  },
  {
   "cell_type": "markdown",
   "source": [
    "where `g_Lorentzian(ω₀)` denotes the Lorentzian lineshape."
   ],
   "metadata": {}
  },
  {
   "cell_type": "markdown",
   "source": [
    "### Sled's Model\n",
    "[Sled's model](http://dx.doi.org/10.1006/jmre.2000.2059) is given by the ordinary differential equation (ODE)\n",
    "$$\n",
    "\\partial_t z(t) = \\left(-\\pi \\int_0^t G(t-τ) \\omega_1(τ)^2 dτ \\right) z(t)  + R_1 (1-z),\n",
    "$$\n",
    "where $G(t-τ)$ is the Green's function. The Hamiltonian of this ODE is implemented in `apply_hamiltonian_sled!` and the ODE can be solved with the [DifferentialEquations.jl](https://diffeq.sciml.ai/stable/) package:"
   ],
   "metadata": {}
  },
  {
   "outputs": [],
   "cell_type": "code",
   "source": [
    "z₀ = [1.0, 1.0] # initial z-magnetization\n",
    "z_Sled_Lorentzian = similar(Tʳᶠ)\n",
    "for i ∈ eachindex(Tʳᶠ)\n",
    "    param = (ω₁[i], 1, ω₀, R₁, T₂ˢ, greens_lorentzian)\n",
    "    prob = ODEProblem(apply_hamiltonian_sled!, z₀, (0, Tʳᶠ[i]), param)\n",
    "    z_Sled_Lorentzian[i] = solve(prob).u[end][1]\n",
    "end"
   ],
   "metadata": {},
   "execution_count": null
  },
  {
   "cell_type": "markdown",
   "source": [
    "### Generalized Bloch Model\n",
    "The generalized Bloch model is given by the integro-differential equation (IDE)\n",
    "$$\n",
    "\\partial_t z(t) = - ω_1(t) \\int_0^t G(t,τ) ω_1(τ) z(τ) dτ + R_1 (1 - z(t)) ,\n",
    "$$\n",
    "or by\n",
    "$$\n",
    "\\partial_t z(t) = - ω_y(t) \\int_0^t G(t,τ) ω_y(τ) z(τ) dτ - ω_x(t) \\int_0^t G(t,τ) ω_x(τ) z(τ) dτ + R_1 (1 - z(t)) ,\n",
    "$$\n",
    "for off-resonant RF-pulses with $ω_1 = ω_x + i ω_y$. The Hamiltonian of the IDE is implemented in `apply_hamiltonian_gbloch!` and we can solve this IDE with the [delay-differential equation (DDE)](https://diffeq.sciml.ai/stable/tutorials/dde_example/) solver of the [DifferentialEquations.jl](https://diffeq.sciml.ai/stable/) package:"
   ],
   "metadata": {}
  },
  {
   "outputs": [],
   "cell_type": "code",
   "source": [
    "z_fun(p, t) = [1.0, 1.0]; # initialize history function (will be populated with an interpolation by the DDE solver)\n",
    "\n",
    "z_gBloch_Lorentzian = similar(Tʳᶠ)\n",
    "for i ∈ eachindex(Tʳᶠ)\n",
    "    param = (ω₁[i], 1, ω₀, R₁, T₂ˢ, greens_lorentzian)\n",
    "    prob = DDEProblem(apply_hamiltonian_gbloch!, z₀, z_fun, (0, Tʳᶠ[i]), param)\n",
    "    z_gBloch_Lorentzian[i] = solve(prob).u[end][1]\n",
    "end"
   ],
   "metadata": {},
   "execution_count": null
  },
  {
   "cell_type": "markdown",
   "source": [
    "Now we have solved all five models and can plot the solutions for comparison:"
   ],
   "metadata": {}
  },
  {
   "outputs": [],
   "cell_type": "code",
   "source": [
    "p = plot(xaxis=:log, legend=:bottomright, xlabel=\"Tʳᶠ [s]\", ylabel=\"zˢ(Tʳᶠ)\")\n",
    "plot!(p, Tʳᶠ, z_gBloch_Lorentzian, label=\"generalized Bloch model\")\n",
    "plot!(p, Tʳᶠ, Tʳᶠ .* 0 .+ cos(α), label=\"cos(α)\")\n",
    "plot!(p, Tʳᶠ, z_Sled_Lorentzian, label=\"Sled's model\")\n",
    "plot!(p, Tʳᶠ, z_Graham_spec_Lorentzian, label=\"Graham's spectral model\")\n",
    "plot!(p, Tʳᶠ, z_Graham_SF_approx_Lorentzian, label=\"Graham's single frequency approximation\")\n",
    "plot!(p, Tʳᶠ, z_Bloch, label=\"Bloch model\")"
   ],
   "metadata": {},
   "execution_count": null
  },
  {
   "cell_type": "markdown",
   "source": [
    "## Gaussian Lineshape\n",
    "We can repeat these simulations (with the exception of the Bloch model) for the Gaussian lineshape:"
   ],
   "metadata": {}
  },
  {
   "outputs": [],
   "cell_type": "code",
   "source": [
    "Rʳᶠ = @. ω₁^2 * T₂ˢ * (2 * T₂ˢ * (exp(-(Tʳᶠ/T₂ˢ)^2/2)-1) + sqrt(2π) * Tʳᶠ * erf(Tʳᶠ/T₂ˢ/sqrt(2))) / (2 * Tʳᶠ)\n",
    "z_Graham_spec_Gaussian = @. (Rʳᶠ * exp(-Tʳᶠ * (R₁ + Rʳᶠ)) + R₁) / (R₁ + Rʳᶠ)\n",
    "\n",
    "g_Gaussian(ω₀) = T₂ˢ / sqrt(2π) * exp(-(T₂ˢ * ω₀)^2 / 2) # lineshape\n",
    "Rʳᶠ = @. π * ω₁^2 * g_Gaussian(ω₀)\n",
    "z_Graham_SF_approx_Gaussian = @. (Rʳᶠ * exp(-Tʳᶠ * (R₁ + Rʳᶠ)) + R₁) / (R₁ + Rʳᶠ)\n",
    "\n",
    "z_Sled_Gaussian = similar(Tʳᶠ)\n",
    "for i ∈ eachindex(Tʳᶠ)\n",
    "    param = (ω₁[i], 1, ω₀, R₁, T₂ˢ, greens_gaussian)\n",
    "    prob = ODEProblem(apply_hamiltonian_sled!, z₀, (0, Tʳᶠ[i]), param)\n",
    "    z_Sled_Gaussian[i] = solve(prob).u[end][1]\n",
    "end\n",
    "\n",
    "z_gBloch_Gaussian = similar(Tʳᶠ)\n",
    "for i ∈ eachindex(Tʳᶠ)\n",
    "    param = (ω₁[i], 1, ω₀, R₁, T₂ˢ, greens_gaussian)\n",
    "    prob = DDEProblem(apply_hamiltonian_gbloch!, z₀, z_fun, (0, Tʳᶠ[i]), param)\n",
    "    z_gBloch_Gaussian[i] = solve(prob).u[end][1]\n",
    "end\n",
    "\n",
    "p = plot(xaxis=:log, legend=:bottomright, xlabel=\"Tʳᶠ [s]\", ylabel=\"zˢ(Tʳᶠ)\")\n",
    "plot!(p, Tʳᶠ, z_gBloch_Gaussian, label=\"generalized Bloch model\")\n",
    "plot!(p, Tʳᶠ, Tʳᶠ .* 0 .+ cos(α), label=\"cos(α)\")\n",
    "plot!(p, Tʳᶠ, z_Sled_Gaussian, label=\"Sled's model\")\n",
    "plot!(p, Tʳᶠ, z_Graham_spec_Gaussian, label=\"Graham's spectral model\")\n",
    "plot!(p, Tʳᶠ, z_Graham_SF_approx_Gaussian, label=\"Graham's single frequency approximation\")"
   ],
   "metadata": {},
   "execution_count": null
  },
  {
   "cell_type": "markdown",
   "source": [
    "## Super-Lorentzian Lineshape\n",
    "Further, we can repeat these simulations for the [super-Lorentzian lineshape](http://dx.doi.org/10.1002/mrm.1910330404) with the exception of Graham's single frequency approximation, as the super-Lorentzian lineshape diverges at $ω_0 → 0$."
   ],
   "metadata": {}
  },
  {
   "outputs": [],
   "cell_type": "code",
   "source": [
    "G_superLorentzian = interpolate_greens_function(greens_superlorentzian, 0, maximum(Tʳᶠ)/T₂ˢ)\n",
    "\n",
    "f_PSD(τ) = quadgk(ct -> (4 / τ / abs(1 - 3 * ct^2) * (exp(- τ^2 / 8 * (1 - 3 * ct^2)^2) - 1) + sqrt(2π) * erf(τ / 2 / sqrt(2) * abs(1 - 3 * ct^2))) / abs(1 - 3 * ct^2), 0.0, 1.0)[1]\n",
    "Rʳᶠ = @. f_PSD(Tʳᶠ / T₂ˢ) * ω₁^2 * T₂ˢ\n",
    "z_Graham_spec_superLorentzian = @. (Rʳᶠ * exp(-Tʳᶠ * (R₁ + Rʳᶠ)) + R₁) / (R₁ + Rʳᶠ)\n",
    "\n",
    "z_Sled_superLorentzian = similar(Tʳᶠ)\n",
    "for i ∈ eachindex(Tʳᶠ)\n",
    "    param = (ω₁[i], 1, ω₀, R₁, T₂ˢ, G_superLorentzian)\n",
    "    prob = ODEProblem(apply_hamiltonian_sled!, z₀, (0, Tʳᶠ[i]), param)\n",
    "    z_Sled_superLorentzian[i] = solve(prob).u[end][1]\n",
    "end\n",
    "\n",
    "z_gBloch_superLorentzian = similar(Tʳᶠ)\n",
    "for i ∈ eachindex(Tʳᶠ)\n",
    "    param = (ω₁[i], 1, ω₀, R₁, T₂ˢ, G_superLorentzian)\n",
    "    prob = DDEProblem(apply_hamiltonian_gbloch!, z₀, z_fun, (0, Tʳᶠ[i]), param)\n",
    "    z_gBloch_superLorentzian[i] = solve(prob).u[end][1]\n",
    "end\n",
    "\n",
    "p = plot(xaxis=:log, legend=:bottomright, xlabel=\"Tʳᶠ [s]\", ylabel=\"zˢ(Tʳᶠ)\")\n",
    "plot!(p, Tʳᶠ, z_gBloch_superLorentzian, label=\"generalized Bloch model\")\n",
    "plot!(p, Tʳᶠ, Tʳᶠ .* 0 .+ cos(α), label=\"cos(α)\")\n",
    "plot!(p, Tʳᶠ, z_Sled_superLorentzian, label=\"Sled's model\")\n",
    "plot!(p, Tʳᶠ, z_Graham_spec_superLorentzian, label=\"Graham's spectral model\")"
   ],
   "metadata": {},
   "execution_count": null
  },
  {
   "cell_type": "markdown",
   "source": [
    "This simulation reveals the most pronounced deviations of the generalized Bloch model from established models due to the slower decay of the super-Lorentzian Green's function."
   ],
   "metadata": {}
  },
  {
   "cell_type": "markdown",
   "source": [
    "### Error Analysis\n",
    "Assuming a super-Lorentzian lineshape, we quantify the deviations of Sled's model from the generalized Bloch model:"
   ],
   "metadata": {}
  },
  {
   "outputs": [],
   "cell_type": "code",
   "source": [
    "Tʳᶠᵢ = 1e-3 # s\n",
    "ω₁ᵢ = α / Tʳᶠᵢ # rad/s\n",
    "param = (ω₁ᵢ, 1, ω₀, R₁, T₂ˢ, G_superLorentzian)\n",
    "\n",
    "prob = ODEProblem(apply_hamiltonian_sled!, z₀, (0, Tʳᶠᵢ), param)\n",
    "z_Sled_superLorentzian_i = solve(prob).u[end][1]\n",
    "\n",
    "prob = DDEProblem(apply_hamiltonian_gbloch!, z₀, z_fun, (0, Tʳᶠᵢ), param)\n",
    "z_gBloch_superLorentzian_i = solve(prob).u[end][1]\n",
    "\n",
    "z_Sled_superLorentzian_i - z_gBloch_superLorentzian_i"
   ],
   "metadata": {},
   "execution_count": null
  },
  {
   "cell_type": "markdown",
   "source": [
    "For $T_{\\text{RF}} = 1$ms, the deviations are small compared to the thermal equilibrium magnetization $z^s_0 = 1$, but with $T_{\\text{RF}} = 0.1$ms, this deviation becomes sizable:"
   ],
   "metadata": {}
  },
  {
   "outputs": [],
   "cell_type": "code",
   "source": [
    "Tʳᶠᵢ = 1e-4 # s\n",
    "ω₁ᵢ = α / Tʳᶠᵢ # rad/s\n",
    "param = (ω₁ᵢ, 1, ω₀, R₁, T₂ˢ, G_superLorentzian)\n",
    "\n",
    "prob = ODEProblem(apply_hamiltonian_sled!, z₀, (0, Tʳᶠᵢ), param)\n",
    "z_Sled_superLorentzian_i = solve(prob).u[end][1]\n",
    "\n",
    "prob = DDEProblem(apply_hamiltonian_gbloch!, z₀, z_fun, (0, Tʳᶠᵢ), param)\n",
    "z_gBloch_superLorentzian_i = solve(prob).u[end][1]\n",
    "\n",
    "z_Sled_superLorentzian_i - z_gBloch_superLorentzian_i"
   ],
   "metadata": {},
   "execution_count": null
  },
  {
   "cell_type": "markdown",
   "source": [
    "---\n",
    "\n",
    "*This notebook was generated using [Literate.jl](https://github.com/fredrikekre/Literate.jl).*"
   ],
   "metadata": {}
  }
 ],
 "nbformat_minor": 3,
 "metadata": {
  "language_info": {
   "file_extension": ".jl",
   "mimetype": "application/julia",
   "name": "julia",
   "version": "1.11.6"
  },
  "kernelspec": {
   "name": "julia-1.11",
   "display_name": "Julia 1.11.6",
   "language": "julia"
  }
 },
 "nbformat": 4
}
